{
 "cells": [
  {
   "cell_type": "markdown",
   "metadata": {},
   "source": [
    "## Import libraries"
   ]
  },
  {
   "cell_type": "code",
   "execution_count": 34,
   "metadata": {},
   "outputs": [],
   "source": [
    "import math\n",
    "import pandas as pd\n",
    "import numpy as np\n",
    "import random\n",
    "import yfinance as yf\n",
    "import os\n",
    "\n",
    "import requests\n",
    "from bs4 import BeautifulSoup\n",
    "import re"
   ]
  },
  {
   "cell_type": "markdown",
   "metadata": {},
   "source": [
    "## Time period"
   ]
  },
  {
   "cell_type": "code",
   "execution_count": 35,
   "metadata": {},
   "outputs": [],
   "source": [
    "start_date = '2020-01-01'\n",
    "end_date = '2023-12-31'"
   ]
  },
  {
   "cell_type": "markdown",
   "metadata": {},
   "source": [
    "## Functions for downloading"
   ]
  },
  {
   "cell_type": "code",
   "execution_count": 36,
   "metadata": {},
   "outputs": [],
   "source": [
    "def load_historical_data(tickers: list, start_date: str, end_date: str, name_folder: str) -> None:\n",
    "    if not os.path.exists('../' + name_folder):\n",
    "        os.makedirs('../' + name_folder)\n",
    "\n",
    "    for ticker in tickers:\n",
    "        print(f\"Download historical data for {ticker}\")\n",
    "        data = yf.download(ticker, start=start_date, end=end_date)\n",
    "        data = pd.DataFrame(data)\n",
    "        data.to_csv(f'../{name_folder}/{ticker}.csv')\n",
    "    print(\"Data loading is complete!\")\n",
    "\n",
    "def ticker_preprocessing(tickers: list, template_add: str) -> list:\n",
    "\n",
    "    for ticker_index in range(len(tickers)):\n",
    "        tickers[ticker_index] = tickers[ticker_index] + template_add\n",
    "\n",
    "    return tickers\n",
    "\n",
    "def get_stock_tickers(url: str, template_parsing: str) -> list:\n",
    "    headers = {\n",
    "        \"User-Agent\": \"Mozilla/5.0 (Windows NT 10.0; Win64; x64) AppleWebKit/537.36 (KHTML, like Gecko) Chrome/90.0.4430.212 Safari/537.36\"\n",
    "    }\n",
    "\n",
    "    response = requests.get(url, headers=headers)\n",
    "\n",
    "    # response.raise_for_status()  \n",
    "    soup = BeautifulSoup(response.text, 'html.parser')\n",
    "    # print(soup)\n",
    "\n",
    "    lines = []\n",
    "    for link in soup.find_all('tr', class_='row-RdUXZpkv listRow'):\n",
    "        lines.append(link)\n",
    "    \n",
    "    tickers = []\n",
    "    for line in lines:\n",
    "        html_string=str(line)\n",
    "        # match = re.search(r'data-rowkey=\"MOEX:(.*?)\"', html_string)\n",
    "        match = re.search(r'data-rowkey=\"'+ template_parsing + r':(.*?)\"', html_string)\n",
    "        if match:\n",
    "            tickers.append(match.group(1))\n",
    "    return tickers\n",
    "\n",
    "def get_number_stocks(folder_path: str) -> None:\n",
    "    file_count = len([f for f in os.listdir(folder_path) if os.path.isfile(os.path.join(folder_path, f))])\n",
    "    print(f'Number of stocks in a folder: {file_count}')"
   ]
  },
  {
   "cell_type": "markdown",
   "metadata": {},
   "source": [
    "## Downloading stock market data Brazil"
   ]
  },
  {
   "cell_type": "code",
   "execution_count": null,
   "metadata": {},
   "outputs": [],
   "source": [
    "tickers = get_stock_tickers(url = \"https://ru.tradingview.com/markets/stocks-brazil/market-movers-large-cap/\", \n",
    "                            template_parsing = 'BMFBOVESPA')\n",
    "\n",
    "tickers = ticker_preprocessing(tickers = tickers,\n",
    "                               template_add = '.SA')\n",
    "\n",
    "load_historical_data(tickers = tickers,\n",
    "                    start_date = start_date,\n",
    "                    end_date = end_date,\n",
    "                    name_folder = 'Brazil')\n",
    "        \n",
    "get_number_stocks(folder_path = '../Brazil')"
   ]
  },
  {
   "cell_type": "markdown",
   "metadata": {},
   "source": [
    "## Downloading stock market data Russia"
   ]
  },
  {
   "cell_type": "code",
   "execution_count": 41,
   "metadata": {},
   "outputs": [],
   "source": [
    "tickers = get_stock_tickers(url = \"https://ru.tradingview.com/markets/stocks-russia/market-movers-large-cap/\", \n",
    "                            template_parsing = 'MOEX')\n",
    "\n",
    "tickers = ticker_preprocessing(tickers = tickers,\n",
    "                               template_add = '.ME')\n",
    "load_historical_data(tickers = tickers,\n",
    "                    start_date = start_date_,\n",
    "                    end_date = end_date_,\n",
    "                    name_folder = 'Russia')\n",
    "        \n",
    "get_number_stocks(folder_path = '../Russia')"
   ]
  },
  {
   "cell_type": "markdown",
   "metadata": {},
   "source": [
    "## Downloading stock market data India"
   ]
  },
  {
   "cell_type": "code",
   "execution_count": null,
   "metadata": {},
   "outputs": [],
   "source": [
    "\n",
    "tickers = get_stock_tickers(url = \"https://ru.tradingview.com/markets/stocks-india/market-movers-large-cap/\", \n",
    "                            template_parsing = 'NSE')\n",
    "\n",
    "tickers = ticker_preprocessing(tickers = tickers,\n",
    "                               template_add = '.NS')\n",
    "\n",
    "load_historical_data(tickers = tickers,\n",
    "                    start_date = start_date,\n",
    "                    end_date = end_date,\n",
    "                    name_folder = 'India')\n",
    "        \n",
    "get_number_stocks(folder_path = '../India')"
   ]
  },
  {
   "cell_type": "markdown",
   "metadata": {},
   "source": [
    "## Downloading stock market data China"
   ]
  },
  {
   "cell_type": "code",
   "execution_count": null,
   "metadata": {},
   "outputs": [],
   "source": [
    "tickers = get_stock_tickers(url = \"https://ru.tradingview.com/markets/stocks-china/market-movers-large-cap/\", \n",
    "                            template_parsing = 'SZSE')\n",
    "\n",
    "tickers = ticker_preprocessing(tickers = tickers,\n",
    "                               template_add = '.SZ')\n",
    "\n",
    "load_historical_data(tickers = tickers,\n",
    "                    start_date = start_date,\n",
    "                    end_date = end_date,\n",
    "                    name_folder = 'China')\n",
    "        \n",
    "get_number_stocks(folder_path = '../China')"
   ]
  },
  {
   "cell_type": "markdown",
   "metadata": {},
   "source": [
    "## Downloading stock market data South Africa"
   ]
  },
  {
   "cell_type": "code",
   "execution_count": null,
   "metadata": {},
   "outputs": [],
   "source": [
    "tickers = get_stock_tickers(url = \"https://ru.tradingview.com/markets/stocks-south-africa/market-movers-large-cap/\", \n",
    "                            template_parsing = 'JSE')\n",
    "                    \n",
    "tickers = ticker_preprocessing(tickers = tickers,\n",
    "                               template_add = '.JO')                            \n",
    "\n",
    "load_historical_data(tickers = tickers,\n",
    "                    start_date = start_date,\n",
    "                    end_date = end_date,\n",
    "                    name_folder = 'South Africa')\n",
    "        \n",
    "get_number_stocks(folder_path = '../South Africa')"
   ]
  }
 ],
 "metadata": {
  "kernelspec": {
   "display_name": "Python 3",
   "language": "python",
   "name": "python3"
  },
  "language_info": {
   "codemirror_mode": {
    "name": "ipython",
    "version": 3
   },
   "file_extension": ".py",
   "mimetype": "text/x-python",
   "name": "python",
   "nbconvert_exporter": "python",
   "pygments_lexer": "ipython3",
   "version": "3.8.10"
  }
 },
 "nbformat": 4,
 "nbformat_minor": 2
}
