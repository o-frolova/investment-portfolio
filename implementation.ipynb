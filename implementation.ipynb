{
 "cells": [
  {
   "attachments": {},
   "cell_type": "markdown",
   "metadata": {},
   "source": [
    "## Подключение библиотек, скачивание данных"
   ]
  },
  {
   "cell_type": "code",
   "execution_count": 142,
   "metadata": {},
   "outputs": [],
   "source": [
    "# %pip install numpy\n",
    "# %pip install pandas\n",
    "# %pip install pyvis\n",
    "# %pip install scipy\n",
    "# %pip install matplotlib\n",
    "# %pip install openpyxl\n",
    "# %pip install arch"
   ]
  },
  {
   "cell_type": "code",
   "execution_count": 143,
   "metadata": {},
   "outputs": [],
   "source": [
    "import os\n",
    "import csv\n",
    "import numpy as np\n",
    "import pandas as pd\n",
    "import math\n",
    "from datetime import datetime\n",
    "\n",
    "from pyvis.network import Network\n",
    "import networkx as nx\n",
    "\n",
    "from numpy import linalg as LA\n",
    "from scipy.sparse.csgraph import minimum_spanning_tree\n",
    "from scipy.optimize import minimize, fmin_slsqp\n",
    "import random\n",
    "import matplotlib.pyplot as plt\n",
    "from matplotlib.pyplot import figure\n",
    "from  matplotlib.pyplot import xticks\n",
    "\n",
    "import statistics\n",
    "from scipy.integrate import quad\n",
    "from scipy.stats import norm\n",
    "\n",
    "from arch.covariance.kernel import QuadraticSpectral\n",
    "import time\n",
    "from tqdm import tqdm\n",
    "\n",
    "import json\n",
    "import datetime\n",
    "\n",
    "import seaborn as sns\n",
    "sns.set()"
   ]
  },
  {
   "cell_type": "code",
   "execution_count": 144,
   "metadata": {},
   "outputs": [],
   "source": [
    "## Глобальные переменные\n",
    "PATH_TO_DATA_OF_STOCKS = #path to data of stock\n",
    "NUMBER_OF_DAYS_IN_A_MONTH = 30\n",
    "\n",
    "B = 2  # константа для расчета long-run correlation\n",
    "PI = 3.1415\n",
    "\n",
    "portfolio_charectetictics_max = {}\n",
    "portfolio_charectetictics_min = {}\n",
    "\n",
    "name_for_portfolio_characteristics_max = 'resulting_portfolio_max.xlsx'\n",
    "name_for_portfolio_characteristics_min = 'resulting_portfolio_min.xlsx'\n",
    "\n",
    "name_for_portfolio_stability_max = 'stability_max.xlsx'\n",
    "name_for_portfolio_stability_min = 'stability_min.xlsx'"
   ]
  },
  {
   "cell_type": "code",
   "execution_count": 145,
   "metadata": {},
   "outputs": [],
   "source": [
    "# Класс для удобной работы с акциями.\n",
    "class Stock:\n",
    "    def __init__(self, ticker_, close_price_, volume_, date_, id_):\n",
    "        try:\n",
    "            self.id = id_\n",
    "            self.ticker = ticker_ \n",
    "            self.close_price = close_price_\n",
    "            self.volume = volume_\n",
    "            self.risk = None\n",
    "            self.log_returns = None\n",
    "            self.date = date_\n",
    "            self.estimation_windows = None\n",
    "\n",
    "        except TypeError:\n",
    "            raise TypeError\n"
   ]
  },
  {
   "cell_type": "code",
   "execution_count": 146,
   "metadata": {},
   "outputs": [],
   "source": [
    "## Данная функция приводит данные в необходимый формат\n",
    "def get_stocks_info(data):\n",
    "    price, volume, date = [], [], []\n",
    "    date = list(data['Дата'])\n",
    "    price = list(data['Цена'].str.replace('.','', regex=True).str.replace(',','.',regex=True).astype(float))\n",
    "    volume = list(data['Объём'].str.replace(',','.',regex=True))\n",
    "    return price, volume, date\n"
   ]
  },
  {
   "cell_type": "code",
   "execution_count": 147,
   "metadata": {},
   "outputs": [],
   "source": [
    "## Функция для загрузки данных об активах. Деление на обучающий период и наблюдаемый.\n",
    "def load_data(date_start, date_end):\n",
    "    TICKERS = []\n",
    "    DATA_OF_STOCKS_FOR_BUILDING_MODEL = []\n",
    "    DATA_OF_STOCKS_FOR_EVALUATION = []\n",
    "\n",
    "    directory = PATH_TO_DATA_OF_STOCKS\n",
    "    count = 0 \n",
    "    for filename in os.listdir(directory):\n",
    "        f = os.path.join(directory, filename)\n",
    "        if os.path.isfile(f):\n",
    "            price, volume, date = [], [], []\n",
    "\n",
    "            data = pd.read_csv(f)\n",
    "            data['Дата'] = pd.to_datetime(data['Дата'], format=\"%d.%m.%Y\")\n",
    "            info_for_exp = data.loc[data['Дата'] >= date_start ] #01-01-2017\n",
    "            info_for_exp = info_for_exp.loc[info_for_exp['Дата'] <= date_end] #01-01-2019\n",
    "            info_for_per = data.loc[data['Дата'] > date_end] #01-01-2019\n",
    "            \n",
    "            price, volume, date = get_stocks_info(info_for_exp)\n",
    "            price = price[::-1]\n",
    "            volume = volume[::-1]\n",
    "            date = date[::-1]\n",
    "\n",
    "            DATA_OF_STOCKS_FOR_BUILDING_MODEL.append(Stock(filename[:-4], price, volume, date, count))\n",
    "\n",
    "\n",
    "            price, volume, date = get_stocks_info(info_for_per)\n",
    "            price = price[::-1]\n",
    "            volume = volume[::-1]\n",
    "            date = date[::-1]\n",
    "\n",
    "            DATA_OF_STOCKS_FOR_EVALUATION.append(Stock(filename[:-4], price, volume, date, count))\n",
    "            count += 1\n",
    "            \n",
    "    for stock in DATA_OF_STOCKS_FOR_BUILDING_MODEL:\n",
    "            TICKERS.append(stock.ticker)\n",
    "\n",
    "    return DATA_OF_STOCKS_FOR_BUILDING_MODEL, DATA_OF_STOCKS_FOR_EVALUATION, TICKERS"
   ]
  },
  {
   "attachments": {},
   "cell_type": "markdown",
   "metadata": {},
   "source": [
    "## Обработка данных"
   ]
  },
  {
   "cell_type": "code",
   "execution_count": 148,
   "metadata": {},
   "outputs": [],
   "source": [
    "## получение преобразование цен актива в логарифмическую доходность\n",
    "def get_log_returns(Stocks, train_stocks = None):\n",
    "    if train_stocks is None:\n",
    "        for stock in Stocks:\n",
    "            close_prices = pd.Series(stock.close_price.copy())\n",
    "            stock.log_returns = close_prices.pct_change()\n",
    "    else:\n",
    "        for stock in Stocks:\n",
    "            close_prices = pd.Series(stock.close_price.copy())\n",
    "            stock.log_returns = close_prices.pct_change()\n",
    "            stock.log_returns[0] = np.log(stock.close_price[0]/train_stocks[stock.id].close_price[-1])\n",
    "\n",
    "## приводит количество наблюдений к одинаковому значению для всех рассматриваемых активов\n",
    "def same_length_of_returns(Stocks):\n",
    "    mimimum = 9999999\n",
    "\n",
    "    for stock in Stocks:\n",
    "        if len(stock.log_returns) < mimimum:\n",
    "            mimimum = len(stock.log_returns)\n",
    "\n",
    "    for stock in Stocks:\n",
    "        stock.log_returns = stock.log_returns[:mimimum - 1] \n",
    "        stock.date = stock.date[:mimimum - 1] "
   ]
  },
  {
   "cell_type": "code",
   "execution_count": 149,
   "metadata": {},
   "outputs": [],
   "source": [
    "## Препроцессинг данных\n",
    "def data_processing(DATA_OF_STOCKS_FOR_BUILDING_MODEL, DATA_OF_STOCKS_FOR_EVALUATION):\n",
    "    \n",
    "    get_log_returns(DATA_OF_STOCKS_FOR_BUILDING_MODEL, train_stocks = None)\n",
    "    get_log_returns(DATA_OF_STOCKS_FOR_EVALUATION, train_stocks = DATA_OF_STOCKS_FOR_BUILDING_MODEL)\n",
    "    \n",
    "    same_length_of_returns(DATA_OF_STOCKS_FOR_BUILDING_MODEL)\n",
    "    same_length_of_returns(DATA_OF_STOCKS_FOR_EVALUATION)\n",
    "    \n",
    "    for stock in DATA_OF_STOCKS_FOR_BUILDING_MODEL:\n",
    "        estsim = []\n",
    "        weekend_return = stock.log_returns[1:]\n",
    "        for i in np.arange(len(weekend_return)):\n",
    "            if len(weekend_return.iloc[i: i + NUMBER_OF_DAYS_IN_A_MONTH]) >= NUMBER_OF_DAYS_IN_A_MONTH:\n",
    "                tem = weekend_return.iloc[i: i + NUMBER_OF_DAYS_IN_A_MONTH]\n",
    "                estsim.append(np.average(tem))\n",
    "        stock.estimation_windows = estsim\n"
   ]
  },
  {
   "attachments": {},
   "cell_type": "markdown",
   "metadata": {},
   "source": [
    "## Оценка матрицы ковариации (long-run correlation)"
   ]
  },
  {
   "cell_type": "code",
   "execution_count": 150,
   "metadata": {},
   "outputs": [],
   "source": [
    "def get_long_run_correlation(DATA_OF_STOCKS_FOR_BUILDING_MODEL):\n",
    "    long_run_correlation = []\n",
    "    res = 0\n",
    "    for i in tqdm(np.arange(len(DATA_OF_STOCKS_FOR_BUILDING_MODEL))):\n",
    "        w_estimations_i = np.array([DATA_OF_STOCKS_FOR_BUILDING_MODEL[i].estimation_windows])\n",
    "        cor = []\n",
    "        for j in np.arange(len(DATA_OF_STOCKS_FOR_BUILDING_MODEL)):\n",
    "            w_estimations_j = np.array([DATA_OF_STOCKS_FOR_BUILDING_MODEL[j].estimation_windows])\n",
    "            matrix_result = QuadraticSpectral(np.array(np.concatenate((w_estimations_i.T, w_estimations_j.T), axis=1)), bandwidth=B)\n",
    "            matrix_result = matrix_result.cov.long_run\n",
    "            res = matrix_result[0][1]/(np.sqrt(matrix_result[0][0]*matrix_result[1][1]))\n",
    "            cor.append(res) \n",
    "        long_run_correlation.append(cor)\n",
    "    return long_run_correlation"
   ]
  },
  {
   "attachments": {},
   "cell_type": "markdown",
   "metadata": {},
   "source": [
    "## Построение графов"
   ]
  },
  {
   "cell_type": "code",
   "execution_count": 151,
   "metadata": {},
   "outputs": [],
   "source": [
    "def get_distance(p):\n",
    "    under_sqrt = 2*(1-p)\n",
    "    return np.sqrt(under_sqrt)"
   ]
  },
  {
   "cell_type": "code",
   "execution_count": 152,
   "metadata": {},
   "outputs": [],
   "source": [
    "## Матрица смежности полного графа\n",
    "def get_Adjancency_matrix(long_run_correlation):\n",
    "    Adjacency_matrix = []\n",
    "    for i in np.arange(len(long_run_correlation)):\n",
    "        row = []\n",
    "        for j in np.arange(len(long_run_correlation)):\n",
    "            if i == j:\n",
    "                distance = 0\n",
    "            else:\n",
    "                distance = get_distance(long_run_correlation[i][j])\n",
    "            row.append(distance)\n",
    "        Adjacency_matrix.append(row)\n",
    "    return Adjacency_matrix"
   ]
  },
  {
   "cell_type": "code",
   "execution_count": 153,
   "metadata": {},
   "outputs": [],
   "source": [
    "## визуализация данных\n",
    "def draw_graph(graph, name_graph):\n",
    "    Net = Network(height='1300px',\n",
    "                  width='100%',\n",
    "                  bgcolor='#222222',\n",
    "                  font_color='white',\n",
    "                  notebook=True,\n",
    "                 cdn_resources = 'remote')\n",
    "    \n",
    "    for i in graph.nodes:\n",
    "        for j in graph.nodes:\n",
    "            if i != j:\n",
    "                try:\n",
    "                    Net.add_node(list(graph.nodes[i].values())[0], list(graph.nodes[i].values())[0], title = list(graph.nodes[i].values())[0] )\n",
    "                    Net.add_node(list(graph.nodes[j].values())[0], list(graph.nodes[j].values())[0], title=list(graph.nodes[j].values())[0])\n",
    "                    Net.add_edge(list(graph.nodes[i].values())[0], list(graph.nodes[j].values())[0], title=list(graph.get_edge_data(i, j).values())[0])\n",
    "                except: continue\n",
    "    \n",
    "    Net.toggle_physics(True)\n",
    "    Net.show(name_graph)\n"
   ]
  },
  {
   "cell_type": "code",
   "execution_count": 154,
   "metadata": {},
   "outputs": [],
   "source": [
    "## Построение полного графа и его подграфов\n",
    "def build_graphs(long_run_correlation, Stocks):\n",
    "    Adjacency_matrix = get_Adjancency_matrix(long_run_correlation)\n",
    "\n",
    "    ## Полный граф\n",
    "    COMPLETE_GRAPH = nx.Graph()\n",
    "    for i in np.arange(len(Adjacency_matrix)):\n",
    "        for j in np.arange(len(Adjacency_matrix)):\n",
    "            if i != j:\n",
    "                COMPLETE_GRAPH.add_node(Stocks[i].ticker, label = Stocks[i].ticker )\n",
    "                COMPLETE_GRAPH.add_node(Stocks[j].ticker, label=Stocks[j].ticker)\n",
    "                COMPLETE_GRAPH.add_edge(Stocks[i].ticker, Stocks[j].ticker, weight=Adjacency_matrix[i][j])\n",
    "\n",
    "    draw_graph(COMPLETE_GRAPH, 'completed_graph.html')\n",
    "\n",
    "    ## Минимальное оставное дерево\n",
    "    Tcsr = minimum_spanning_tree(Adjacency_matrix)\n",
    "    mat = Tcsr.toarray()\n",
    "    MST = nx.Graph()\n",
    "    for i in np.arange(len(mat)):\n",
    "        for j in np.arange(len(mat)):\n",
    "            if i != j:\n",
    "                if mat[i][j] != 0:\n",
    "                    MST.add_node(Stocks[i].ticker, label = Stocks[i].ticker )\n",
    "                    MST.add_node(Stocks[j].ticker, label = Stocks[j].ticker)\n",
    "                    MST.add_edge(Stocks[i].ticker, Stocks[j].ticker, weight=mat[i][j])\n",
    "\n",
    "    draw_graph(MST, 'Minimun_spaning_tree.html')\n",
    "\n",
    "    ## Планнарный график\n",
    "    edges = {}\n",
    "    for i in range(len(Adjacency_matrix)):\n",
    "        for j in range(len(Adjacency_matrix)):\n",
    "            edges[(i,j)] = Adjacency_matrix[i][j]\n",
    "\n",
    "\n",
    "    nb_nodes = len(Stocks)\n",
    "    PMFG = nx.Graph()\n",
    "    sorted_edges = dict(sorted(edges.items(), key=lambda x: x[1], reverse=True))\n",
    "    for i, edge in enumerate(sorted_edges):\n",
    "        PMFG.add_node(list(sorted_edges.keys())[i][0], label = Stocks[list(sorted_edges.keys())[i][0]].ticker)\n",
    "        PMFG.add_node(list(sorted_edges.keys())[i][1], label = Stocks[list(sorted_edges.keys())[i][1]].ticker)\n",
    "        PMFG.add_edge(list(sorted_edges.keys())[i][0], list(sorted_edges.keys())[i][1], weight = list(sorted_edges.values())[i])\n",
    "        if nx.check_planarity(PMFG)[0]:\n",
    "            continue\n",
    "        else:\n",
    "            PMFG.remove_edge(list(sorted_edges.keys())[i][0], list(sorted_edges.keys())[i][1])\n",
    "        ne = PMFG.number_of_edges()\n",
    "        if ne == 3*(nb_nodes-2):\n",
    "            break\n",
    "\n",
    "    draw_graph(PMFG, 'Planar_max_filter.html')\n",
    "    \n",
    "    ## График значимости порога\n",
    "    THRESHOLD_FOR_EDGES_IN_GRAPH_1 = round(np.mean(long_run_correlation),3)\n",
    "    \n",
    "    for i in np.arange(len(long_run_correlation)):\n",
    "        for j in np.arange(len(long_run_correlation)):\n",
    "            if long_run_correlation[i][j] <= THRESHOLD_FOR_EDGES_IN_GRAPH_1:\n",
    "                long_run_correlation[i][j] = 0 \n",
    "\n",
    "    Adjacency_matrix = get_Adjancency_matrix(long_run_correlation)\n",
    "\n",
    "    THRESHOLD_FOR_EDGES_IN_GRAPH_2 = round(np.mean(Adjacency_matrix),3)\n",
    "\n",
    "    THRESHOLD = nx.Graph()\n",
    "    for i in np.arange(len(Adjacency_matrix)):\n",
    "        for j in np.arange(len(Adjacency_matrix)):\n",
    "            if i != j:\n",
    "                if Adjacency_matrix[i][j] != 0:\n",
    "                    if  Adjacency_matrix[i][j] <= THRESHOLD_FOR_EDGES_IN_GRAPH_2:\n",
    "                        THRESHOLD.add_node(Stocks[i].ticker, label = Stocks[i].ticker )\n",
    "                        THRESHOLD.add_node(Stocks[j].ticker, label = Stocks[j].ticker)\n",
    "                        THRESHOLD.add_edge(Stocks[i].ticker, Stocks[j].ticker, weight=Adjacency_matrix[i][j])\n",
    "\n",
    "    draw_graph(THRESHOLD, 'Threshold_significance_graph.html')\n",
    "\n",
    "    return COMPLETE_GRAPH, MST, PMFG, THRESHOLD\n"
   ]
  },
  {
   "attachments": {},
   "cell_type": "markdown",
   "metadata": {},
   "source": [
    "## Centrality measures"
   ]
  },
  {
   "attachments": {},
   "cell_type": "markdown",
   "metadata": {},
   "source": [
    "### Betweenness"
   ]
  },
  {
   "cell_type": "code",
   "execution_count": 155,
   "metadata": {},
   "outputs": [],
   "source": [
    "def get_betweenness(COMPLETE_GRAPH, MST,THRESHOLD,PMFG, Stocks ):\n",
    "    complete_graph_betweenness = dict(nx.betweenness_centrality(COMPLETE_GRAPH).items())\n",
    "    mst_betweenness = dict(nx.betweenness_centrality(MST).items())\n",
    "    treshold_betweenness = dict(nx.betweenness_centrality(THRESHOLD).items())\n",
    "\n",
    "    pmfg_betweenness = {}\n",
    "    for val in list(nx.betweenness_centrality(PMFG).items()):\n",
    "        pmfg_betweenness[Stocks[val[0]].ticker] = val[1]\n",
    "\n",
    "    return complete_graph_betweenness, mst_betweenness, treshold_betweenness, pmfg_betweenness"
   ]
  },
  {
   "attachments": {},
   "cell_type": "markdown",
   "metadata": {},
   "source": [
    "### Eigenvalue centrality"
   ]
  },
  {
   "cell_type": "code",
   "execution_count": 156,
   "metadata": {},
   "outputs": [],
   "source": [
    "def get_eigenvalue_centrality(COMPLETE_GRAPH, MST, THRESHOLD, PMFG, Stocks ):\n",
    "    complete_graph_eigenvalue_centrality = dict(nx.eigenvector_centrality(COMPLETE_GRAPH).items())\n",
    "    mst_eigenvalue_centrality = dict(nx.eigenvector_centrality(MST, 10000).items())\n",
    "    treshold_eigenvalue_centrality = dict(nx.eigenvector_centrality(THRESHOLD).items())\n",
    "\n",
    "    pmfg_eigenvalue_centrality = {}\n",
    "    for val in list(nx.eigenvector_centrality(PMFG, 1000).items()):\n",
    "        pmfg_eigenvalue_centrality[Stocks[val[0]].ticker] = val[1]\n",
    "    \n",
    "    return complete_graph_eigenvalue_centrality, mst_eigenvalue_centrality, treshold_eigenvalue_centrality, pmfg_eigenvalue_centrality\n"
   ]
  },
  {
   "attachments": {},
   "cell_type": "markdown",
   "metadata": {},
   "source": [
    "### Expected force\n"
   ]
  },
  {
   "cell_type": "code",
   "execution_count": 157,
   "metadata": {},
   "outputs": [],
   "source": [
    "## от i вершины до 1 любой на расстоянии 1\n",
    "def one_vertices_distance_one(v, matrix):\n",
    "    res = []\n",
    "    for i in np.arange(len(matrix[v])):\n",
    "        count = 0\n",
    "        if matrix[v][i] == 1:\n",
    "            # print(v, i)\n",
    "            for l in np.arange(len(matrix[i])):\n",
    "                if l != v and matrix[i][l] == 1:\n",
    "                    # print('1 loop ', i, l)\n",
    "                    count += 1\n",
    "\n",
    "            for k in np.arange(len(matrix[v])):\n",
    "                if k != i and matrix[v][k] == 1:\n",
    "                    # print('2 loop ', v, k)\n",
    "                    count += 1\n",
    "                    \n",
    "            res.append(count)\n",
    "    return res"
   ]
  },
  {
   "cell_type": "code",
   "execution_count": 158,
   "metadata": {},
   "outputs": [],
   "source": [
    "def two_vertices_distance_one(v, matrix):\n",
    "    visited = []\n",
    "    res = []\n",
    "    if (sum(matrix[v]) >= 2):\n",
    "        for i in np.arange(len(matrix[v])):\n",
    "            if matrix[v][i] != 0:\n",
    "                for j in np.arange(i + 1, len(matrix[v])):\n",
    "                    count = 0\n",
    "                    if j != v and matrix[v][j] == 1 and ((i , j) not in visited) and ((j , i) not in visited):\n",
    "                        # print(v,i,j)\n",
    "                        visited.append((i , j))\n",
    "                        \n",
    "                        for k in np.arange(len(matrix[i])):\n",
    "                            if matrix[i][k] == 1 and k != v and k != j:\n",
    "                                # print('first loop ', i,k)\n",
    "                                count +=1\n",
    "\n",
    "                        for l in np.arange(len(matrix[j])):\n",
    "                            if matrix[j][l] == 1 and l != v and l != i:\n",
    "                                # print('second loop ', j,l)\n",
    "                                count += 1\n",
    "                                \n",
    "                        for o in np.arange(len(matrix[v])):\n",
    "                            if matrix[v][o] == 1 and o != v and o != j and o != i:\n",
    "                                # print('third loop ', v,o)\n",
    "                                count +=1\n",
    "                        if count == 0:\n",
    "                            res.append(-1)\n",
    "                        else:\n",
    "                            res.append(count)        \n",
    "    else:\n",
    "        res.append(-1)\n",
    "\n",
    "    return res"
   ]
  },
  {
   "cell_type": "code",
   "execution_count": 159,
   "metadata": {},
   "outputs": [],
   "source": [
    "def one_vertices_distance_two(v, matrix):\n",
    "    res = []\n",
    "    for i in np.arange(len(matrix[v])):\n",
    "        if matrix[v][i] == 1:\n",
    "            for k in np.arange(len(matrix[i])):\n",
    "                count = 0\n",
    "                if k != v and matrix[i][k] == 1:\n",
    "                    # print('path',v,i,k )\n",
    "                    \n",
    "                    for m in np.arange(len(matrix[i])):\n",
    "                        if m != v and m != k and matrix[i][m] == 1:\n",
    "                            # print('first loop ',i, m )\n",
    "                            count += 1\n",
    "\n",
    "                    for l in  np.arange(len(matrix[k])):\n",
    "                        if l != v and l != i and matrix[k][l] == 1:\n",
    "                            # print('second loop ', k,l)\n",
    "                            count += 1\n",
    "                    \n",
    "                   \n",
    "                    for o in np.arange(len(matrix[v])):\n",
    "                        if o != v and o != i and o != k and matrix[v][o] == 1 :\n",
    "                            # print('third loop ', v,o)\n",
    "                            count += 1\n",
    "                   \n",
    "                    res.append(count)\n",
    "    return res\n",
    "\n",
    "                    "
   ]
  },
  {
   "cell_type": "code",
   "execution_count": 160,
   "metadata": {},
   "outputs": [],
   "source": [
    "def get_esstimate_b(start_v, number_cluster,  res):\n",
    "    if sum(res[start_v]) == 0:\n",
    "        return 0 \n",
    "    else:\n",
    "        return res[start_v][number_cluster]/sum(res[start_v])"
   ]
  },
  {
   "cell_type": "code",
   "execution_count": 161,
   "metadata": {},
   "outputs": [],
   "source": [
    "def get_expected_force(matrix):\n",
    "    d_1_case = []\n",
    "    d_2_case = []\n",
    "    d_3_case = []\n",
    "    for v in np.arange(len(matrix)):\n",
    "        d_1_case.append(one_vertices_distance_one(v, matrix))\n",
    "        d_2_case.append(two_vertices_distance_one(v, matrix))\n",
    "        d_3_case.append(one_vertices_distance_two(v, matrix))\n",
    "    # print(d_1_case)\n",
    "    # print(d_2_case)\n",
    "    # print(d_3_case)\n",
    "    res = []\n",
    "    for start_v in np.arange(len(matrix)):\n",
    "        if d_2_case[start_v][0] != -1:\n",
    "            res.append(d_1_case[start_v] + d_2_case[start_v] + d_3_case[start_v])\n",
    "        else:\n",
    "            res.append(d_1_case[start_v] + d_3_case[start_v])\n",
    "    # print('res', res)\n",
    "\n",
    "    es =[]\n",
    "    for p in np.arange(len(res)):\n",
    "        s = 0 \n",
    "        for j in np.arange(len(res[p])):\n",
    "            d = get_esstimate_b(p, j,  res)\n",
    "            if d != 0:\n",
    "                s += d * math.log(d)\n",
    "        if s == 0:\n",
    "            es.append(s)\n",
    "        else:\n",
    "            es.append(-s)\n",
    "\n",
    "    return es"
   ]
  },
  {
   "cell_type": "code",
   "execution_count": 162,
   "metadata": {},
   "outputs": [],
   "source": [
    "def get_Adj_matrix(graph, Stocks):\n",
    "    Adj_matrix = []\n",
    "\n",
    "    for i in np.arange(len(Stocks)):\n",
    "        row = []\n",
    "        for j in np.arange(len(Stocks)):\n",
    "            if (Stocks[i].ticker, Stocks[j].ticker) in graph.edges():\n",
    "                row.append(1)\n",
    "            else:\n",
    "                row.append(0)\n",
    "        Adj_matrix.append(row)\n",
    "    return Adj_matrix\n",
    "\n",
    "\n",
    "def get_Adj_matrix_for_planar(graph, Stocks):\n",
    "    Adj_matrix = []\n",
    "\n",
    "    for i in np.arange(len(Stocks)):\n",
    "        row = []\n",
    "        for j in np.arange(len(Stocks)):\n",
    "            if (Stocks[i].id, Stocks[j].id) in graph.edges():\n",
    "                row.append(1)\n",
    "            else:\n",
    "                row.append(0)\n",
    "        Adj_matrix.append(row)\n",
    "    return Adj_matrix\n"
   ]
  },
  {
   "cell_type": "code",
   "execution_count": 163,
   "metadata": {},
   "outputs": [],
   "source": [
    "def get_expected_force_total(COMPLETE_GRAPH, MST, THRESHOLD, PMFG, Stocks):\n",
    "    complete_graph_expected_force = get_expected_force(get_Adj_matrix(COMPLETE_GRAPH, Stocks))\n",
    "    mst_eigenvalue_expected_force = get_expected_force(get_Adj_matrix(MST, Stocks))\n",
    "    treshold_expected_force = get_expected_force(get_Adj_matrix(THRESHOLD, Stocks))\n",
    "    pmfg_expected_force = get_expected_force(get_Adj_matrix_for_planar(PMFG, Stocks))\n",
    "\n",
    "    return complete_graph_expected_force, mst_eigenvalue_expected_force, treshold_expected_force, pmfg_expected_force"
   ]
  },
  {
   "cell_type": "code",
   "execution_count": 164,
   "metadata": {},
   "outputs": [],
   "source": [
    "## Функция подсчитывает меры цетральности для каждого графа\n",
    "def get_centrality_measures(COMPLETE_GRAPH, MST, PMFG, THRESHOLD, Stocks, TICKERS):\n",
    "\n",
    "    ## BETWEENNESS\n",
    "    complete_graph_betweenness,\\\n",
    "    mst_betweenness,\\\n",
    "    treshold_betweenness,\\\n",
    "    pmfg_betweenness = get_betweenness(COMPLETE_GRAPH, MST,THRESHOLD,PMFG, Stocks)\n",
    "    BETWEENNESS = pd.DataFrame({'Complete graph': complete_graph_betweenness, \n",
    "                           'Minimum spanning tree': mst_betweenness,\n",
    "                           'Threshold significance graph' : treshold_betweenness,\n",
    "                           'Planar max filter graph': pmfg_betweenness })\n",
    "    \n",
    "    ## EIGENVALUE_CENTRALITY\n",
    "    complete_graph_eigenvalue_centrality,\\\n",
    "    mst_eigenvalue_centrality,\\\n",
    "    treshold_eigenvalue_centrality, \\\n",
    "    pmfg_eigenvalue_centrality = get_eigenvalue_centrality(COMPLETE_GRAPH, MST, THRESHOLD, PMFG, Stocks)\n",
    "    EIGENVALUE_CENTRALITY = pd.DataFrame({'Complete graph': complete_graph_eigenvalue_centrality, \n",
    "                           'Minimum spanning tree': mst_eigenvalue_centrality,\n",
    "                           'Threshold significance graph' : treshold_eigenvalue_centrality,\n",
    "                           'Planar max filter graph': pmfg_eigenvalue_centrality })\n",
    "    \n",
    "\n",
    "    ## EXPECTED_FORCE\n",
    "    complete_graph_expected_force,\\\n",
    "    mst_eigenvalue_expected_force,\\\n",
    "    treshold_expected_force,\\\n",
    "    pmfg_expected_force = get_expected_force_total(COMPLETE_GRAPH, MST, THRESHOLD, PMFG, Stocks)\n",
    "\n",
    "    EXPECTED_FORCE = pd.DataFrame({'Complete graph': complete_graph_expected_force, \n",
    "                           'Minimum spanning tree': mst_eigenvalue_expected_force,\n",
    "                           'Threshold significance graph' : treshold_expected_force,\n",
    "                           'Planar max filter graph': pmfg_expected_force}, index=TICKERS)\n",
    "    \n",
    "    return BETWEENNESS, EIGENVALUE_CENTRALITY, EXPECTED_FORCE\n",
    "    "
   ]
  },
  {
   "attachments": {},
   "cell_type": "markdown",
   "metadata": {},
   "source": [
    "## Стратегии"
   ]
  },
  {
   "cell_type": "code",
   "execution_count": 165,
   "metadata": {},
   "outputs": [],
   "source": [
    "def get_return_mean_cov(stocks):\n",
    "    # получить по выбранным активам матрицу их доходностей,\n",
    "    # вектор средних доходностей и матрицу ковариации\n",
    "    r_matrix = {}\n",
    "    for stock in stocks:\n",
    "        r_matrix[stock.ticker] = stock.log_returns[1:].copy()\n",
    "    r_df = pd.DataFrame(r_matrix)\n",
    "    return r_df.values, r_df.mean().values, r_df.cov().values"
   ]
  },
  {
   "attachments": {},
   "cell_type": "markdown",
   "metadata": {},
   "source": [
    "### Return maximization strategies"
   ]
  },
  {
   "cell_type": "code",
   "execution_count": 166,
   "metadata": {},
   "outputs": [],
   "source": [
    "def objective_function_max(X, mean_vec):\n",
    "    return -1*(X.dot(np.transpose(np.array([mean_vec]))))#"
   ]
  },
  {
   "cell_type": "code",
   "execution_count": 167,
   "metadata": {},
   "outputs": [],
   "source": [
    "def con(X, i, j):\n",
    "    return X[j] - X[i]"
   ]
  },
  {
   "cell_type": "code",
   "execution_count": 168,
   "metadata": {},
   "outputs": [],
   "source": [
    "def constraint3(centrality_measures):\n",
    "    constraints = []\n",
    "    for i in range(len(centrality_measures)):\n",
    "        for j in range(len(centrality_measures)):\n",
    "            if i != j:\n",
    "                    if round(centrality_measures[i],9) >= round(centrality_measures[j],9):\n",
    "                        constraints.append({'type': 'ineq', 'fun':con, 'args':(i,j,) })\n",
    "    return constraints"
   ]
  },
  {
   "cell_type": "code",
   "execution_count": 169,
   "metadata": {},
   "outputs": [],
   "source": [
    "def return_maximization_strategies(objective_function, mean_returns, cov_matrix, N, bound, measure_of_centrality = None, type_graph = None, centrality_measure = False, null_value = None, stocks = None):\n",
    "        X = np.ones(N)\n",
    "        X = X / X.sum()\n",
    "        bounds = bound\n",
    "        constraints = [{'type': 'eq', 'fun': lambda x: np.sum(x) - bounds[0][1]},\n",
    "                       {'type': 'ineq', 'fun': lambda x: np.trace(cov_matrix)/N - x.transpose().dot(cov_matrix).dot(x)}]\n",
    "        if centrality_measure:\n",
    "               if null_value is not None:\n",
    "                    X = null_value\n",
    "               constraints = constraints + constraint3(measure_of_centrality[type_graph])\n",
    "\n",
    "        minimized = minimize(objective_function,\n",
    "                         X,\n",
    "                         args=(mean_returns),\n",
    "                         method='SLSQP',\n",
    "                         constraints=constraints,\n",
    "                         bounds=bounds, options = {'maxiter': 10000} ).x\n",
    "        return minimized"
   ]
  },
  {
   "attachments": {},
   "cell_type": "markdown",
   "metadata": {},
   "source": [
    "### Risk minimization strategies"
   ]
  },
  {
   "cell_type": "code",
   "execution_count": 170,
   "metadata": {},
   "outputs": [],
   "source": [
    "def objective_function_min(X, cov_matrix):\n",
    "    return np.transpose(X).dot(cov_matrix).dot(X)"
   ]
  },
  {
   "cell_type": "code",
   "execution_count": 171,
   "metadata": {},
   "outputs": [],
   "source": [
    "def return_minimization_strategies(objective_function, mean_returns, cov_matrix, N, bound, measure_of_centrality = None, type_graph = None, centrality_measure = False,  null_value = None, stocks = None):\n",
    "        X = np.ones(N)\n",
    "        bounds = bound\n",
    "        E_matrix = [1]*N\n",
    "\n",
    "        constraints = [{'type': 'eq', 'fun': lambda x: np.sum(x) - bounds[0][1]},\n",
    "                       {'type': 'ineq', 'fun': lambda x: np.transpose(x).dot(mean_returns) - (np.transpose(np.array(E_matrix)).dot(mean_returns))/N}]\n",
    "\n",
    "        if centrality_measure:\n",
    "                if null_value is not None:\n",
    "                    X = null_value\n",
    "                constraints = constraints + constraint3(measure_of_centrality[type_graph])\n",
    "\n",
    "        minimized = minimize(objective_function,\n",
    "                         X,\n",
    "                         args=(cov_matrix),\n",
    "                         method='SLSQP',\n",
    "                         constraints=constraints,\n",
    "                         bounds=bounds, options = {'maxiter': 10000}).x\n",
    "        return minimized\n",
    "        "
   ]
  },
  {
   "attachments": {},
   "cell_type": "markdown",
   "metadata": {},
   "source": [
    "## Эксперементы основанные на максимизации доходностей"
   ]
  },
  {
   "attachments": {},
   "cell_type": "markdown",
   "metadata": {},
   "source": [
    "#### Individual strategies (Альтернативные стратегии)"
   ]
  },
  {
   "cell_type": "code",
   "execution_count": 172,
   "metadata": {},
   "outputs": [],
   "source": [
    "def MAX_Individual_strategies(DATA_OF_STOCKS_FOR_BUILDING_MODEL, BETWEENNESS, EIGENVALUE_CENTRALITY, EXPECTED_FORCE, resulting_portfolio_max):\n",
    "    r_matrix, mean_vec, cov_matrix = get_return_mean_cov(DATA_OF_STOCKS_FOR_BUILDING_MODEL)\n",
    "    #Benchmark\n",
    "    benchmark_max_weights = return_maximization_strategies(objective_function_max, mean_vec, cov_matrix, len(DATA_OF_STOCKS_FOR_BUILDING_MODEL), ((0,1),), measure_of_centrality = None, type_graph = None, centrality_measure = False, null_value= None, stocks=DATA_OF_STOCKS_FOR_BUILDING_MODEL)\n",
    "    resulting_portfolio_max['Benchmark'] = benchmark_max_weights\n",
    "\n",
    "    ## Betweenness\n",
    "    weights_max_minimun_spaning_tree_with_betweenness = return_maximization_strategies(objective_function_max, mean_vec, cov_matrix, len(DATA_OF_STOCKS_FOR_BUILDING_MODEL), ((0,1),), BETWEENNESS, 'Minimum spanning tree', centrality_measure = True, null_value = benchmark_max_weights ,stocks=DATA_OF_STOCKS_FOR_BUILDING_MODEL)\n",
    "    weights_max_weights_max_planar_max_filter_with_betweenness = return_maximization_strategies(objective_function_max, mean_vec, cov_matrix, len(DATA_OF_STOCKS_FOR_BUILDING_MODEL), ((0,1),), BETWEENNESS, 'Planar max filter graph', centrality_measure = True, null_value = benchmark_max_weights, stocks=DATA_OF_STOCKS_FOR_BUILDING_MODEL )\n",
    "    weights_max_threshold_significance_graph_with_betweenness = return_maximization_strategies(objective_function_max, mean_vec, cov_matrix, len(DATA_OF_STOCKS_FOR_BUILDING_MODEL), ((0,1),), BETWEENNESS, 'Threshold significance graph', centrality_measure = True, null_value = benchmark_max_weights, stocks=DATA_OF_STOCKS_FOR_BUILDING_MODEL )\n",
    "\n",
    "    resulting_portfolio_max['Betweenness_MST'] = weights_max_minimun_spaning_tree_with_betweenness\n",
    "    resulting_portfolio_max['Betweenness_PMFG'] = weights_max_weights_max_planar_max_filter_with_betweenness\n",
    "    resulting_portfolio_max['Betweenness_Threshold'] = weights_max_threshold_significance_graph_with_betweenness\n",
    "\n",
    "    ## Eigenvalue centrality\n",
    "    weights_max_completed_graph_with_eigenvalue_centrality = return_maximization_strategies(objective_function_max, mean_vec, cov_matrix, len(DATA_OF_STOCKS_FOR_BUILDING_MODEL), ((0,1),), EIGENVALUE_CENTRALITY, 'Complete graph', centrality_measure = True, null_value = benchmark_max_weights, stocks=DATA_OF_STOCKS_FOR_BUILDING_MODEL)\n",
    "    weights_max_minimun_spaning_tree_with_eigenvalue_centrality = return_maximization_strategies(objective_function_max, mean_vec, cov_matrix, len(DATA_OF_STOCKS_FOR_BUILDING_MODEL), ((0,1),), EIGENVALUE_CENTRALITY, 'Minimum spanning tree', centrality_measure = True, null_value = benchmark_max_weights, stocks=DATA_OF_STOCKS_FOR_BUILDING_MODEL)\n",
    "    weights_max_weights_max_planar_max_filter_with_eigenvalue_centrality = return_maximization_strategies(objective_function_max, mean_vec, cov_matrix, len(DATA_OF_STOCKS_FOR_BUILDING_MODEL), ((0,1),), EIGENVALUE_CENTRALITY, 'Planar max filter graph', centrality_measure = True, null_value = benchmark_max_weights, stocks=DATA_OF_STOCKS_FOR_BUILDING_MODEL)\n",
    "    weights_max_threshold_significance_graph_with_eigenvalue_centrality = return_maximization_strategies(objective_function_max, mean_vec, cov_matrix, len(DATA_OF_STOCKS_FOR_BUILDING_MODEL), ((0,1),), EIGENVALUE_CENTRALITY, 'Threshold significance graph', centrality_measure = True, null_value = benchmark_max_weights, stocks=DATA_OF_STOCKS_FOR_BUILDING_MODEL)\n",
    "\n",
    "    resulting_portfolio_max['Eigenvalue_Complete'] = weights_max_completed_graph_with_eigenvalue_centrality\n",
    "    resulting_portfolio_max['Eigenvalue_MST'] = weights_max_minimun_spaning_tree_with_eigenvalue_centrality\n",
    "    resulting_portfolio_max['Eigenvalue_PMFG'] = weights_max_weights_max_planar_max_filter_with_eigenvalue_centrality\n",
    "    resulting_portfolio_max['Eigenvalue_Threshold'] = weights_max_threshold_significance_graph_with_eigenvalue_centrality\n",
    "\n",
    "    ## Expected force\n",
    "    weights_max_completed_graph_with_expected_force = return_maximization_strategies(objective_function_max, mean_vec, cov_matrix, len(DATA_OF_STOCKS_FOR_BUILDING_MODEL), ((0,1),), EXPECTED_FORCE, 'Complete graph', centrality_measure = True, null_value = benchmark_max_weights, stocks=DATA_OF_STOCKS_FOR_BUILDING_MODEL)\n",
    "    weights_max_minimun_spaning_tree_with_expected_force  = return_maximization_strategies(objective_function_max, mean_vec, cov_matrix, len(DATA_OF_STOCKS_FOR_BUILDING_MODEL), ((0,1),), EXPECTED_FORCE, 'Minimum spanning tree', centrality_measure = True, null_value = benchmark_max_weights, stocks=DATA_OF_STOCKS_FOR_BUILDING_MODEL)\n",
    "    weights_max_weights_max_planar_max_filter_with_expected_force = return_maximization_strategies(objective_function_max, mean_vec, cov_matrix, len(DATA_OF_STOCKS_FOR_BUILDING_MODEL), ((0,1),), EXPECTED_FORCE, 'Planar max filter graph', centrality_measure = True, null_value = benchmark_max_weights, stocks=DATA_OF_STOCKS_FOR_BUILDING_MODEL)\n",
    "    weights_max_threshold_significance_graph_with_expected_force = return_maximization_strategies(objective_function_max, mean_vec, cov_matrix, len(DATA_OF_STOCKS_FOR_BUILDING_MODEL), ((0,1),), EXPECTED_FORCE, 'Threshold significance graph', centrality_measure = True, null_value = benchmark_max_weights, stocks=DATA_OF_STOCKS_FOR_BUILDING_MODEL)\n",
    "\n",
    "    resulting_portfolio_max['Expected_force_Complete'] = weights_max_completed_graph_with_expected_force\n",
    "    resulting_portfolio_max['Expected_force_MST'] = weights_max_minimun_spaning_tree_with_expected_force\n",
    "    resulting_portfolio_max['Expected_force_PMFG'] = weights_max_weights_max_planar_max_filter_with_expected_force\n",
    "    resulting_portfolio_max['Expected_force_Threshold'] = weights_max_threshold_significance_graph_with_expected_force\n",
    "\n",
    "    return resulting_portfolio_max\n",
    "    "
   ]
  },
  {
   "attachments": {},
   "cell_type": "markdown",
   "metadata": {},
   "source": [
    "#### Combination strategies"
   ]
  },
  {
   "cell_type": "code",
   "execution_count": 173,
   "metadata": {},
   "outputs": [],
   "source": [
    "def get_new_centrality_measure(graph_name, list_of_stocks, centrality_measure_):\n",
    "    centrality_measure = []\n",
    "    names_stocks = []\n",
    "    for stock in list_of_stocks:\n",
    "        if stock.ticker in centrality_measure_.index:\n",
    "            centrality_measure.append(centrality_measure_[graph_name][stock.ticker])\n",
    "            names_stocks.append(stock.ticker)\n",
    "\n",
    "    return pd.DataFrame(centrality_measure, columns=[graph_name], index = list(names_stocks))"
   ]
  },
  {
   "cell_type": "code",
   "execution_count": 174,
   "metadata": {},
   "outputs": [],
   "source": [
    "def MAX_get_combination_strategies(resulting_portfolio_max, DATA_OF_STOCKS_FOR_BUILDING_MODEL, BETWEENNESS, EIGENVALUE_CENTRALITY, EXPECTED_FORCE):    \n",
    "    stocks_for_benchmark = DATA_OF_STOCKS_FOR_BUILDING_MODEL[:int(len(DATA_OF_STOCKS_FOR_BUILDING_MODEL)/2 + 1)]\n",
    "    stocks_for_centrality_measures = [i for i in DATA_OF_STOCKS_FOR_BUILDING_MODEL if i not in stocks_for_benchmark]\n",
    "    index_1 = int(len(stocks_for_centrality_measures)/4)\n",
    "    index_2 = int(2 * len(stocks_for_centrality_measures)/4)\n",
    "    index_3 = int(3 * len(stocks_for_centrality_measures)/4)\n",
    "    index_4 = int(4 * len(stocks_for_centrality_measures)/4)\n",
    "    stocks_for_completed_graph = stocks_for_centrality_measures[:index_1]\n",
    "    stocks_for_minimun_spaning_tree = stocks_for_centrality_measures[index_1:index_2]\n",
    "    stocks_threshold_significance_graph = stocks_for_centrality_measures[index_2 : index_3]\n",
    "    stocks_for_planar_max_filter = stocks_for_centrality_measures[index_3:index_4]\n",
    "\n",
    "\n",
    "    ## Betweennes + B\n",
    "    r_matrix, mean_vec, cov_matrix = get_return_mean_cov(list(stocks_for_benchmark))\n",
    "    weights_max_benchmark = return_maximization_strategies(objective_function_max, mean_vec, cov_matrix, len(stocks_for_benchmark), ((0,0.5),), measure_of_centrality = None, type_graph = None, centrality_measure = False, null_value = None, stocks = stocks_for_benchmark )\n",
    "\n",
    "    r_matrix, mean_vec, cov_matrix = get_return_mean_cov(list(stocks_for_completed_graph))\n",
    "    new_betweenness = get_new_centrality_measure('Complete graph', stocks_for_completed_graph, BETWEENNESS)\n",
    "    weights_completed_grapg = return_maximization_strategies(objective_function_max, mean_vec, cov_matrix, len(stocks_for_completed_graph), ((0,0.125),), new_betweenness, 'Complete graph', centrality_measure = True,  null_value = None, stocks = stocks_for_completed_graph)\n",
    "\n",
    "    r_matrix, mean_vec, cov_matrix = get_return_mean_cov(list(stocks_for_minimun_spaning_tree))\n",
    "    new_betweenness = get_new_centrality_measure('Minimum spanning tree', stocks_for_minimun_spaning_tree, BETWEENNESS)\n",
    "    weights_minimun_spaning_tree  = return_maximization_strategies(objective_function_max, mean_vec, cov_matrix, len(stocks_for_minimun_spaning_tree), ((0,0.125),), new_betweenness, 'Minimum spanning tree', centrality_measure = True,  null_value = None, stocks = stocks_for_minimun_spaning_tree )\n",
    "\n",
    "    r_matrix, mean_vec, cov_matrix = get_return_mean_cov(list(stocks_threshold_significance_graph))\n",
    "    new_betweenness = get_new_centrality_measure('Threshold significance graph', stocks_threshold_significance_graph, BETWEENNESS)\n",
    "    weights_threshold_significance_graph = return_maximization_strategies(objective_function_max, mean_vec, cov_matrix, len(stocks_threshold_significance_graph), ((0,0.125),), new_betweenness, 'Threshold significance graph', centrality_measure = True,  null_value = None, stocks = stocks_threshold_significance_graph)\n",
    "\n",
    "    r_matrix, mean_vec, cov_matrix = get_return_mean_cov(list(stocks_for_planar_max_filter))\n",
    "    new_betweenness = get_new_centrality_measure('Planar max filter graph', stocks_for_planar_max_filter, BETWEENNESS)\n",
    "    weights_planar_max_filter =  return_maximization_strategies(objective_function_max, mean_vec, cov_matrix, len(stocks_for_planar_max_filter), ((0,0.125),), new_betweenness, 'Planar max filter graph', centrality_measure = True,  null_value = None, stocks = stocks_for_planar_max_filter)\n",
    "\n",
    "    res_betweenness_max = []\n",
    "    for stock in np.arange(len(stocks_for_benchmark)):\n",
    "        res_betweenness_max.append({list(stocks_for_benchmark)[stock].ticker: weights_max_benchmark[stock]})\n",
    "\n",
    "    for stock in np.arange(len(stocks_for_completed_graph)):\n",
    "        res_betweenness_max.append({list(stocks_for_completed_graph)[stock].ticker: weights_completed_grapg[stock]})\n",
    "\n",
    "    for stock in np.arange(len(stocks_for_minimun_spaning_tree)):\n",
    "        res_betweenness_max.append({list(stocks_for_minimun_spaning_tree)[stock].ticker: weights_minimun_spaning_tree[stock]})\n",
    "\n",
    "    for stock in np.arange(len(stocks_threshold_significance_graph)):\n",
    "        res_betweenness_max.append({list(stocks_threshold_significance_graph)[stock].ticker: weights_threshold_significance_graph[stock]}) \n",
    "\n",
    "    for stock in np.arange(len(stocks_for_planar_max_filter)):\n",
    "        res_betweenness_max.append({list(stocks_for_planar_max_filter)[stock].ticker: weights_planar_max_filter[stock]}) \n",
    "\n",
    "    resulting_portfolio_max['Betweenness + B'] = np.array([list(w.values())[0] for w in res_betweenness_max])\n",
    "\n",
    "\n",
    "\n",
    "    ## Eigenvalue centrality + B\n",
    "    r_matrix, mean_vec, cov_matrix = get_return_mean_cov(list(stocks_for_benchmark))\n",
    "    weights_max_benchmark = return_maximization_strategies(objective_function_max, mean_vec, cov_matrix, len(stocks_for_benchmark), ((0,0.5),), measure_of_centrality = None, type_graph = None, centrality_measure = False, null_value = None, stocks = stocks_for_benchmark)\n",
    "\n",
    "    r_matrix, mean_vec, cov_matrix = get_return_mean_cov(list(stocks_for_completed_graph))\n",
    "    new_eigenvalue_centrality = get_new_centrality_measure('Complete graph', stocks_for_completed_graph, EIGENVALUE_CENTRALITY)\n",
    "    weights_completed_grapg = return_maximization_strategies(objective_function_max, mean_vec, cov_matrix, len(stocks_for_completed_graph), ((0,0.125),), new_eigenvalue_centrality, 'Complete graph', centrality_measure = True,  null_value = None, stocks = stocks_for_completed_graph)\n",
    "\n",
    "    r_matrix, mean_vec, cov_matrix = get_return_mean_cov(list(stocks_for_minimun_spaning_tree))\n",
    "    new_eigenvalue_centrality = get_new_centrality_measure('Minimum spanning tree', stocks_for_minimun_spaning_tree, EIGENVALUE_CENTRALITY)\n",
    "    weights_minimun_spaning_tree  = return_maximization_strategies(objective_function_max, mean_vec, cov_matrix, len(stocks_for_minimun_spaning_tree), ((0,0.125),), new_eigenvalue_centrality, 'Minimum spanning tree', centrality_measure = True, null_value = None, stocks = stocks_for_minimun_spaning_tree )\n",
    "\n",
    "    r_matrix, mean_vec, cov_matrix = get_return_mean_cov(list(stocks_threshold_significance_graph))\n",
    "    new_eigenvalue_centrality = get_new_centrality_measure('Threshold significance graph', stocks_threshold_significance_graph, EIGENVALUE_CENTRALITY)\n",
    "    weights_threshold_significance_graph = return_maximization_strategies(objective_function_max, mean_vec, cov_matrix, len(stocks_threshold_significance_graph), ((0,0.125),), new_eigenvalue_centrality, 'Threshold significance graph', centrality_measure = True, null_value = None, stocks = stocks_threshold_significance_graph)\n",
    "\n",
    "    r_matrix, mean_vec, cov_matrix = get_return_mean_cov(list(stocks_for_planar_max_filter))\n",
    "    new_eigenvalue_centrality = get_new_centrality_measure('Planar max filter graph', stocks_for_planar_max_filter, EIGENVALUE_CENTRALITY)\n",
    "    weights_planar_max_filter =  return_maximization_strategies(objective_function_max, mean_vec, cov_matrix, len(stocks_for_planar_max_filter), ((0,0.125),), new_eigenvalue_centrality, 'Planar max filter graph', centrality_measure = True, null_value=None,  stocks = stocks_for_planar_max_filter )\n",
    "\n",
    "    res_eigenvalue_centrality_max = []\n",
    "    for stock in np.arange(len(stocks_for_benchmark)):\n",
    "        res_eigenvalue_centrality_max.append({list(stocks_for_benchmark)[stock].ticker: weights_max_benchmark[stock]})\n",
    "\n",
    "    for stock in np.arange(len(stocks_for_completed_graph)):\n",
    "        res_eigenvalue_centrality_max.append({list(stocks_for_completed_graph)[stock].ticker: weights_completed_grapg[stock]})\n",
    "\n",
    "    for stock in np.arange(len(stocks_for_minimun_spaning_tree)):\n",
    "        res_eigenvalue_centrality_max.append({list(stocks_for_minimun_spaning_tree)[stock].ticker: weights_minimun_spaning_tree[stock]})\n",
    "\n",
    "    for stock in np.arange(len(stocks_threshold_significance_graph)):\n",
    "        res_eigenvalue_centrality_max.append({list(stocks_threshold_significance_graph)[stock].ticker: weights_threshold_significance_graph[stock]}) \n",
    "\n",
    "    for stock in np.arange(len(stocks_for_planar_max_filter)):\n",
    "        res_eigenvalue_centrality_max.append({list(stocks_for_planar_max_filter)[stock].ticker: weights_planar_max_filter[stock]}) \n",
    "\n",
    "    resulting_portfolio_max['Eigenvalue + B'] = np.array([list(w.values())[0] for w in res_eigenvalue_centrality_max])\n",
    "\n",
    "\n",
    "\n",
    "    ## Expected force + B\n",
    "    r_matrix, mean_vec, cov_matrix = get_return_mean_cov(list(stocks_for_benchmark))\n",
    "    weights_max_benchmark = return_maximization_strategies(objective_function_max, mean_vec, cov_matrix, len(stocks_for_benchmark), ((0,0.5),), measure_of_centrality = None, type_graph = None, centrality_measure = False, null_value= None, stocks= stocks_for_benchmark)\n",
    "\n",
    "    r_matrix, mean_vec, cov_matrix = get_return_mean_cov(list(stocks_for_completed_graph))\n",
    "    new_expected_force = get_new_centrality_measure('Complete graph', stocks_for_completed_graph, EXPECTED_FORCE)\n",
    "    weights_completed_grapg = return_maximization_strategies(objective_function_max, mean_vec, cov_matrix, len(stocks_for_completed_graph), ((0,0.125),), new_expected_force, 'Complete graph', centrality_measure = True, null_value = None, stocks = stocks_for_completed_graph)\n",
    "\n",
    "    r_matrix, mean_vec, cov_matrix = get_return_mean_cov(list(stocks_for_minimun_spaning_tree))\n",
    "    new_expected_force = get_new_centrality_measure('Minimum spanning tree', stocks_for_minimun_spaning_tree, EXPECTED_FORCE)\n",
    "    weights_minimun_spaning_tree  = return_maximization_strategies(objective_function_max, mean_vec, cov_matrix, len(stocks_for_minimun_spaning_tree), ((0,0.125),), new_expected_force, 'Minimum spanning tree', centrality_measure = True, null_value=None, stocks = stocks_for_minimun_spaning_tree)\n",
    "\n",
    "    r_matrix, mean_vec, cov_matrix = get_return_mean_cov(list(stocks_threshold_significance_graph))\n",
    "    new_expected_force = get_new_centrality_measure('Threshold significance graph', stocks_threshold_significance_graph, EXPECTED_FORCE)\n",
    "    weights_threshold_significance_graph = return_maximization_strategies(objective_function_max, mean_vec, cov_matrix, len(stocks_threshold_significance_graph), ((0,0.125),), new_expected_force, 'Threshold significance graph', centrality_measure = True, null_value= None, stocks = stocks_threshold_significance_graph )\n",
    "\n",
    "    r_matrix, mean_vec, cov_matrix = get_return_mean_cov(list(stocks_for_planar_max_filter))\n",
    "    new_expected_force = get_new_centrality_measure('Planar max filter graph', stocks_for_planar_max_filter, EXPECTED_FORCE)\n",
    "    weights_planar_max_filter =  return_maximization_strategies(objective_function_max, mean_vec, cov_matrix, len(stocks_for_planar_max_filter), ((0,0.125),), new_expected_force, 'Planar max filter graph', centrality_measure = True,null_value=None,  stocks = stocks_for_planar_max_filter )\n",
    "\n",
    "    res_expected_force_max = []\n",
    "    for stock in np.arange(len(stocks_for_benchmark)):\n",
    "        res_expected_force_max.append({list(stocks_for_benchmark)[stock].ticker: weights_max_benchmark[stock]})\n",
    "\n",
    "    for stock in np.arange(len(stocks_for_completed_graph)):\n",
    "        res_expected_force_max.append({list(stocks_for_completed_graph)[stock].ticker: weights_completed_grapg[stock]})\n",
    "\n",
    "    for stock in np.arange(len(stocks_for_minimun_spaning_tree)):\n",
    "        res_expected_force_max.append({list(stocks_for_minimun_spaning_tree)[stock].ticker: weights_minimun_spaning_tree[stock]})\n",
    "\n",
    "    for stock in np.arange(len(stocks_threshold_significance_graph)):\n",
    "        res_expected_force_max.append({list(stocks_threshold_significance_graph)[stock].ticker: weights_threshold_significance_graph[stock]}) \n",
    "\n",
    "    for stock in np.arange(len(stocks_for_planar_max_filter)):\n",
    "        res_expected_force_max.append({list(stocks_for_planar_max_filter)[stock].ticker: weights_planar_max_filter[stock]}) \n",
    "\n",
    "    resulting_portfolio_max['Expected force + B'] = np.array([list(w.values())[0] for w in res_expected_force_max])\n",
    "\n",
    "\n",
    "\n",
    "    stocks_for_benchmark = DATA_OF_STOCKS_FOR_BUILDING_MODEL[:int(len(DATA_OF_STOCKS_FOR_BUILDING_MODEL)/2)]\n",
    "    stocks_for_centrality_measures = [i for i in DATA_OF_STOCKS_FOR_BUILDING_MODEL if i not in stocks_for_benchmark]\n",
    "    index_1 = int(len(stocks_for_centrality_measures)/3)\n",
    "    index_2 = int(2 * len(stocks_for_centrality_measures)/3)\n",
    "    index_3 = int(3 * len(stocks_for_centrality_measures)/3)\n",
    "    stocks_for_betweenness = stocks_for_centrality_measures[:index_1]\n",
    "    stocks_for_eigenvalue_centrality  = stocks_for_centrality_measures[index_1:index_2]\n",
    "    stocks_for_expected_force = stocks_for_centrality_measures[index_2:index_3]\n",
    "\n",
    "\n",
    "    ## MST + B\n",
    "    r_matrix, mean_vec, cov_matrix = get_return_mean_cov(list(stocks_for_benchmark))\n",
    "    weights_max_benchmark = return_maximization_strategies(objective_function_max, mean_vec, cov_matrix, len(stocks_for_benchmark), ((0,0.5),), measure_of_centrality = None, type_graph = None, centrality_measure = False, null_value= None, stocks = stocks_for_benchmark)\n",
    "\n",
    "    r_matrix, mean_vec, cov_matrix = get_return_mean_cov(list(stocks_for_betweenness))\n",
    "    new_betweenness = get_new_centrality_measure('Minimum spanning tree', stocks_for_betweenness, BETWEENNESS)\n",
    "    weights_betweennes = return_maximization_strategies(objective_function_max, mean_vec, cov_matrix, len(stocks_for_betweenness), ((0,0.165),), new_betweenness, 'Minimum spanning tree', centrality_measure = True, null_value= None, stocks = stocks_for_betweenness )\n",
    "\n",
    "    r_matrix, mean_vec, cov_matrix = get_return_mean_cov(list(stocks_for_eigenvalue_centrality))\n",
    "    new_eigenvalue_centrality = get_new_centrality_measure('Minimum spanning tree', stocks_for_eigenvalue_centrality, EIGENVALUE_CENTRALITY)\n",
    "    weights_eigenvalue_centrality = return_maximization_strategies(objective_function_max, mean_vec, cov_matrix, len(stocks_for_eigenvalue_centrality), ((0,0.165),), new_eigenvalue_centrality, 'Minimum spanning tree', centrality_measure = True, null_value=None, stocks = stocks_for_eigenvalue_centrality )\n",
    "\n",
    "    r_matrix, mean_vec, cov_matrix = get_return_mean_cov(list(stocks_for_expected_force))\n",
    "    new_expected_force = get_new_centrality_measure('Minimum spanning tree', stocks_for_expected_force, EXPECTED_FORCE)\n",
    "    weights_expected_force = return_maximization_strategies(objective_function_max, mean_vec, cov_matrix, len(stocks_for_expected_force), ((0,0.165),), new_expected_force, 'Minimum spanning tree', centrality_measure = True, null_value= None, stocks= stocks_for_expected_force  )\n",
    "\n",
    "\n",
    "    res_MST_B_max = []\n",
    "    for stock in np.arange(len(stocks_for_benchmark)):\n",
    "        res_MST_B_max.append({list(stocks_for_benchmark)[stock].ticker: weights_max_benchmark[stock]})\n",
    "\n",
    "    for stock in np.arange(len(stocks_for_betweenness)):\n",
    "        res_MST_B_max.append({list(stocks_for_betweenness)[stock].ticker: weights_betweennes[stock]})\n",
    "\n",
    "    for stock in np.arange(len(stocks_for_eigenvalue_centrality)):\n",
    "        res_MST_B_max.append({list(stocks_for_eigenvalue_centrality)[stock].ticker: weights_eigenvalue_centrality[stock]})\n",
    "\n",
    "    for stock in np.arange(len(stocks_for_expected_force)):\n",
    "        res_MST_B_max.append({list(stocks_for_expected_force)[stock].ticker: weights_expected_force[stock]}) \n",
    "\n",
    "\n",
    "    resulting_portfolio_max['MST + B'] = np.array([list(w.values())[0] for w in res_MST_B_max])\n",
    "\n",
    "\n",
    "\n",
    "    ## PMFG + B\n",
    "    r_matrix, mean_vec, cov_matrix = get_return_mean_cov(list(stocks_for_benchmark))\n",
    "    weights_max_benchmark = return_maximization_strategies(objective_function_max, mean_vec, cov_matrix, len(stocks_for_benchmark), ((0,0.5),), measure_of_centrality = None, type_graph = None, centrality_measure = False, null_value=None, stocks=stocks_for_benchmark)\n",
    "\n",
    "    r_matrix, mean_vec, cov_matrix = get_return_mean_cov(list(stocks_for_betweenness))\n",
    "    new_betweenness = get_new_centrality_measure('Planar max filter graph', stocks_for_betweenness, BETWEENNESS)\n",
    "    weights_betweennes = return_maximization_strategies(objective_function_max, mean_vec, cov_matrix, len(stocks_for_betweenness), ((0,0.165),), new_betweenness, 'Planar max filter graph', centrality_measure = True, null_value=None, stocks = stocks_for_betweenness)\n",
    "\n",
    "    r_matrix, mean_vec, cov_matrix = get_return_mean_cov(list(stocks_for_eigenvalue_centrality))\n",
    "    new_eigenvalue_centrality = get_new_centrality_measure('Planar max filter graph', stocks_for_eigenvalue_centrality, EIGENVALUE_CENTRALITY)\n",
    "    weights_eigenvalue_centrality = return_maximization_strategies(objective_function_max, mean_vec, cov_matrix, len(stocks_for_eigenvalue_centrality), ((0,0.165),), new_eigenvalue_centrality, 'Planar max filter graph', centrality_measure = True, null_value=None, stocks = stocks_for_eigenvalue_centrality )\n",
    "\n",
    "    r_matrix, mean_vec, cov_matrix = get_return_mean_cov(list(stocks_for_expected_force))\n",
    "    new_expected_force = get_new_centrality_measure('Planar max filter graph', stocks_for_expected_force, EXPECTED_FORCE)\n",
    "    weights_expected_force = return_maximization_strategies(objective_function_max, mean_vec, cov_matrix, len(stocks_for_expected_force), ((0,0.165),), new_expected_force, 'Planar max filter graph', centrality_measure = True, null_value= None, stocks=stocks_for_expected_force  )\n",
    "\n",
    "\n",
    "    res_PMFG_B_max = []\n",
    "    for stock in np.arange(len(stocks_for_benchmark)):\n",
    "        res_PMFG_B_max.append({list(stocks_for_benchmark)[stock].ticker: weights_max_benchmark[stock]})\n",
    "\n",
    "    for stock in np.arange(len(stocks_for_betweenness)):\n",
    "        res_PMFG_B_max.append({list(stocks_for_betweenness)[stock].ticker: weights_betweennes[stock]})\n",
    "\n",
    "    for stock in np.arange(len(stocks_for_eigenvalue_centrality)):\n",
    "        res_PMFG_B_max.append({list(stocks_for_eigenvalue_centrality)[stock].ticker: weights_eigenvalue_centrality[stock]})\n",
    "\n",
    "    for stock in np.arange(len(stocks_for_expected_force)):\n",
    "        res_PMFG_B_max.append({list(stocks_for_expected_force)[stock].ticker: weights_expected_force[stock]}) \n",
    "\n",
    "    resulting_portfolio_max['PMFG + B'] = np.array([list(w.values())[0] for w in res_PMFG_B_max])\n",
    "\n",
    "\n",
    "\n",
    "    ## Treshold + B\n",
    "    r_matrix, mean_vec, cov_matrix = get_return_mean_cov(list(stocks_for_benchmark))\n",
    "    weights_max_benchmark = return_maximization_strategies(objective_function_max, mean_vec, cov_matrix, len(stocks_for_benchmark), ((0,0.5),), measure_of_centrality = None, type_graph = None, centrality_measure = False, null_value=None, stocks = stocks_for_benchmark)\n",
    "\n",
    "    r_matrix, mean_vec, cov_matrix = get_return_mean_cov(list(stocks_for_betweenness))\n",
    "    new_betweenness = get_new_centrality_measure('Threshold significance graph', stocks_for_betweenness, BETWEENNESS)\n",
    "    weights_betweennes = return_maximization_strategies(objective_function_max, mean_vec, cov_matrix, len(stocks_for_betweenness), ((0,0.165),), new_betweenness, 'Threshold significance graph', centrality_measure = True, null_value=None, stocks = stocks_for_betweenness)\n",
    "\n",
    "    r_matrix, mean_vec, cov_matrix = get_return_mean_cov(list(stocks_for_eigenvalue_centrality))\n",
    "    new_eigenvalue_centrality = get_new_centrality_measure('Threshold significance graph', stocks_for_eigenvalue_centrality, EIGENVALUE_CENTRALITY)\n",
    "    weights_eigenvalue_centrality = return_maximization_strategies(objective_function_max, mean_vec, cov_matrix, len(stocks_for_eigenvalue_centrality), ((0,0.165),), new_eigenvalue_centrality, 'Threshold significance graph', centrality_measure = True, null_value=None, stocks = stocks_for_eigenvalue_centrality )\n",
    "\n",
    "    r_matrix, mean_vec, cov_matrix = get_return_mean_cov(list(stocks_for_expected_force))\n",
    "    new_expected_force = get_new_centrality_measure('Threshold significance graph', stocks_for_expected_force, EXPECTED_FORCE)\n",
    "    weights_expected_force = return_maximization_strategies(objective_function_max, mean_vec, cov_matrix, len(stocks_for_expected_force), ((0,0.165),), new_expected_force, 'Threshold significance graph', centrality_measure = True, null_value=None, stocks = stocks_for_expected_force  )\n",
    "\n",
    "\n",
    "\n",
    "    res_Treshold_B_max = []\n",
    "    for stock in np.arange(len(stocks_for_benchmark)):\n",
    "        res_Treshold_B_max.append({list(stocks_for_benchmark)[stock].ticker: weights_max_benchmark[stock]})\n",
    "\n",
    "    for stock in np.arange(len(stocks_for_betweenness)):\n",
    "        res_Treshold_B_max.append({list(stocks_for_betweenness)[stock].ticker: weights_betweennes[stock]})\n",
    "\n",
    "    for stock in np.arange(len(stocks_for_eigenvalue_centrality)):\n",
    "        res_Treshold_B_max.append({list(stocks_for_eigenvalue_centrality)[stock].ticker: weights_eigenvalue_centrality[stock]})\n",
    "\n",
    "    for stock in np.arange(len(stocks_for_expected_force)):\n",
    "        res_Treshold_B_max.append({list(stocks_for_expected_force)[stock].ticker: weights_expected_force[stock]}) \n",
    "\n",
    "\n",
    "    resulting_portfolio_max['Threshold + B'] = np.array([list(w.values())[0] for w in res_Treshold_B_max])\n",
    "\n",
    "\n",
    "\n",
    "    ## Complete graph + B\n",
    "    r_matrix, mean_vec, cov_matrix = get_return_mean_cov(list(stocks_for_benchmark))\n",
    "    weights_max_benchmark = return_maximization_strategies(objective_function_max, mean_vec, cov_matrix, len(stocks_for_benchmark), ((0,0.5),), measure_of_centrality = None, type_graph = None, centrality_measure = False, null_value=None, stocks= stocks_for_benchmark)\n",
    "\n",
    "    r_matrix, mean_vec, cov_matrix = get_return_mean_cov(list(stocks_for_betweenness))\n",
    "    new_betweenness = get_new_centrality_measure('Complete graph', stocks_for_betweenness, BETWEENNESS)\n",
    "    weights_betweennes = return_maximization_strategies(objective_function_max, mean_vec, cov_matrix, len(stocks_for_betweenness), ((0,0.165),), new_betweenness, 'Complete graph', centrality_measure = True, null_value=None, stocks = stocks_for_betweenness)\n",
    "\n",
    "    r_matrix, mean_vec, cov_matrix = get_return_mean_cov(list(stocks_for_eigenvalue_centrality))\n",
    "    new_eigenvalue_centrality = get_new_centrality_measure('Complete graph', stocks_for_eigenvalue_centrality, EIGENVALUE_CENTRALITY)\n",
    "    weights_eigenvalue_centrality = return_maximization_strategies(objective_function_max, mean_vec, cov_matrix, len(stocks_for_eigenvalue_centrality), ((0,0.165),), new_eigenvalue_centrality, 'Complete graph', centrality_measure = True, null_value=None,  stocks= stocks_for_eigenvalue_centrality  )\n",
    "\n",
    "    r_matrix, mean_vec, cov_matrix = get_return_mean_cov(list(stocks_for_expected_force))\n",
    "    new_expected_force = get_new_centrality_measure('Complete graph', stocks_for_expected_force, EXPECTED_FORCE)\n",
    "    weights_expected_force = return_maximization_strategies(objective_function_max, mean_vec, cov_matrix, len(stocks_for_expected_force), ((0,0.165),), new_expected_force, 'Complete graph', centrality_measure = True, null_value=None, stocks = stocks_for_expected_force )\n",
    "\n",
    "\n",
    "    res_completed_B_max = []\n",
    "    for stock in np.arange(len(stocks_for_benchmark)):\n",
    "        res_completed_B_max.append({list(stocks_for_benchmark)[stock].ticker: weights_max_benchmark[stock]})\n",
    "\n",
    "    for stock in np.arange(len(stocks_for_betweenness)):\n",
    "        res_completed_B_max.append({list(stocks_for_betweenness)[stock].ticker: weights_betweennes[stock]})\n",
    "\n",
    "    for stock in np.arange(len(stocks_for_eigenvalue_centrality)):\n",
    "        res_completed_B_max.append({list(stocks_for_eigenvalue_centrality)[stock].ticker: weights_eigenvalue_centrality[stock]})\n",
    "\n",
    "    for stock in np.arange(len(stocks_for_expected_force)):\n",
    "        res_completed_B_max.append({list(stocks_for_expected_force)[stock].ticker: weights_expected_force[stock]}) \n",
    "\n",
    "    resulting_portfolio_max['Complete + B'] = np.array([list(w.values())[0] for w in res_completed_B_max])\n",
    "\n",
    "\n",
    "    for port in resulting_portfolio_max:\n",
    "        resulting_portfolio_max[port] = np.round(resulting_portfolio_max[port], decimals=3)\n",
    "\n",
    "\n",
    "    return resulting_portfolio_max"
   ]
  },
  {
   "attachments": {},
   "cell_type": "markdown",
   "metadata": {},
   "source": [
    "## Эксперементы основанные на минимизации риска"
   ]
  },
  {
   "cell_type": "code",
   "execution_count": 175,
   "metadata": {},
   "outputs": [],
   "source": [
    "def MIN_Individual_strategies(DATA_OF_STOCKS_FOR_BUILDING_MODEL, BETWEENNESS, EIGENVALUE_CENTRALITY, EXPECTED_FORCE, resulting_portfolio_min):\n",
    "    #Benchmark\n",
    "    r_matrix, mean_vec, cov_matrix = get_return_mean_cov(DATA_OF_STOCKS_FOR_BUILDING_MODEL)\n",
    "    benchmark_min_weights = return_minimization_strategies(objective_function_min, mean_vec, cov_matrix, len(DATA_OF_STOCKS_FOR_BUILDING_MODEL), ((0,1),), measure_of_centrality = None, type_graph = None, centrality_measure = False, null_value= None, stocks=DATA_OF_STOCKS_FOR_BUILDING_MODEL)\n",
    "    resulting_portfolio_min['Benchmark'] = benchmark_min_weights\n",
    "\n",
    "    ## Betweenness\n",
    "    weights_min_minimun_spaning_tree_with_betweenness = return_minimization_strategies(objective_function_min, mean_vec, cov_matrix, len(DATA_OF_STOCKS_FOR_BUILDING_MODEL), ((0,1),), BETWEENNESS, 'Minimum spanning tree', centrality_measure = True, null_value= benchmark_min_weights, stocks= DATA_OF_STOCKS_FOR_BUILDING_MODEL )\n",
    "    weights_min_weights_max_planar_max_filter_with_betweenness = return_minimization_strategies(objective_function_min, mean_vec, cov_matrix, len(DATA_OF_STOCKS_FOR_BUILDING_MODEL), ((0,1),), BETWEENNESS, 'Planar max filter graph', centrality_measure = True, null_value= benchmark_min_weights, stocks= DATA_OF_STOCKS_FOR_BUILDING_MODEL )\n",
    "    weights_min_threshold_significance_graph_with_betweenness = return_minimization_strategies(objective_function_min, mean_vec, cov_matrix, len(DATA_OF_STOCKS_FOR_BUILDING_MODEL), ((0,1),), BETWEENNESS, 'Threshold significance graph', centrality_measure = True,  null_value= benchmark_min_weights, stocks= DATA_OF_STOCKS_FOR_BUILDING_MODEL )\n",
    "    resulting_portfolio_min['Betweenness_MST'] = weights_min_minimun_spaning_tree_with_betweenness\n",
    "    resulting_portfolio_min['Betweenness_PMFG'] = weights_min_weights_max_planar_max_filter_with_betweenness\n",
    "    resulting_portfolio_min['Betweenness_Threshold'] = weights_min_threshold_significance_graph_with_betweenness\n",
    "\n",
    "    ## Eigenvalue centrality\n",
    "    weights_min_completed_graph_with_eigenvalue_centrality = return_minimization_strategies(objective_function_min, mean_vec, cov_matrix, len(DATA_OF_STOCKS_FOR_BUILDING_MODEL), ((0,1),), EIGENVALUE_CENTRALITY, 'Complete graph', centrality_measure = True, null_value= benchmark_min_weights, stocks= DATA_OF_STOCKS_FOR_BUILDING_MODEL)\n",
    "    weights_min_minimun_spaning_tree_with_eigenvalue_centrality = return_minimization_strategies(objective_function_min, mean_vec, cov_matrix, len(DATA_OF_STOCKS_FOR_BUILDING_MODEL), ((0,1),), EIGENVALUE_CENTRALITY, 'Minimum spanning tree', centrality_measure = True, null_value= benchmark_min_weights, stocks= DATA_OF_STOCKS_FOR_BUILDING_MODEL)\n",
    "    weights_min_weights_max_planar_max_filter_with_eigenvalue_centrality = return_minimization_strategies(objective_function_min, mean_vec, cov_matrix, len(DATA_OF_STOCKS_FOR_BUILDING_MODEL), ((0,1),), EIGENVALUE_CENTRALITY, 'Planar max filter graph', centrality_measure = True, null_value= benchmark_min_weights, stocks= DATA_OF_STOCKS_FOR_BUILDING_MODEL)\n",
    "    weights_min_threshold_significance_graph_with_eigenvalue_centrality = return_minimization_strategies(objective_function_min, mean_vec, cov_matrix, len(DATA_OF_STOCKS_FOR_BUILDING_MODEL), ((0,1),), EIGENVALUE_CENTRALITY, 'Threshold significance graph', centrality_measure = True, null_value= benchmark_min_weights, stocks= DATA_OF_STOCKS_FOR_BUILDING_MODEL)\n",
    "    resulting_portfolio_min['Eigenvalue_Complete'] = weights_min_completed_graph_with_eigenvalue_centrality\n",
    "    resulting_portfolio_min['Eigenvalue_MST'] = weights_min_minimun_spaning_tree_with_eigenvalue_centrality\n",
    "    resulting_portfolio_min['Eigenvalue_PMFG'] = weights_min_weights_max_planar_max_filter_with_eigenvalue_centrality\n",
    "    resulting_portfolio_min['Eigenvalue_Threshold'] = weights_min_threshold_significance_graph_with_eigenvalue_centrality\n",
    "    \n",
    "    ## Expected force\n",
    "    weights_min_completed_graph_with_expected_force = return_minimization_strategies(objective_function_min, mean_vec, cov_matrix, len(DATA_OF_STOCKS_FOR_BUILDING_MODEL), ((0,1),), EXPECTED_FORCE, 'Complete graph', centrality_measure = True, null_value= benchmark_min_weights, stocks= DATA_OF_STOCKS_FOR_BUILDING_MODEL)\n",
    "    weights_min_minimun_spaning_tree_with_expected_force  = return_minimization_strategies(objective_function_min, mean_vec, cov_matrix, len(DATA_OF_STOCKS_FOR_BUILDING_MODEL), ((0,1),), EXPECTED_FORCE, 'Minimum spanning tree', centrality_measure = True, null_value= benchmark_min_weights, stocks= DATA_OF_STOCKS_FOR_BUILDING_MODEL)\n",
    "    weights_min_weights_max_planar_max_filter_with_expected_force = return_minimization_strategies(objective_function_min, mean_vec, cov_matrix, len(DATA_OF_STOCKS_FOR_BUILDING_MODEL), ((0,1),), EXPECTED_FORCE, 'Planar max filter graph', centrality_measure = True, null_value= benchmark_min_weights, stocks= DATA_OF_STOCKS_FOR_BUILDING_MODEL)\n",
    "    weights_min_threshold_significance_graph_with_expected_force = return_minimization_strategies(objective_function_min, mean_vec, cov_matrix, len(DATA_OF_STOCKS_FOR_BUILDING_MODEL), ((0,1),), EXPECTED_FORCE, 'Threshold significance graph', centrality_measure = True, null_value= benchmark_min_weights, stocks= DATA_OF_STOCKS_FOR_BUILDING_MODEL)\n",
    "\n",
    "    resulting_portfolio_min['Expected_force_Complete'] = weights_min_completed_graph_with_expected_force\n",
    "    resulting_portfolio_min['Expected_force_MST'] = weights_min_minimun_spaning_tree_with_expected_force\n",
    "    resulting_portfolio_min['Expected_force_PMFG'] = weights_min_weights_max_planar_max_filter_with_expected_force\n",
    "    resulting_portfolio_min['Expected_force_Threshold'] = weights_min_threshold_significance_graph_with_expected_force\n",
    "    \n",
    "    return resulting_portfolio_min\n",
    "    \n"
   ]
  },
  {
   "attachments": {},
   "cell_type": "markdown",
   "metadata": {},
   "source": [
    "#### Combination strategies"
   ]
  },
  {
   "cell_type": "code",
   "execution_count": 176,
   "metadata": {},
   "outputs": [],
   "source": [
    "def MIN_get_combination_strategies(resulting_portfolio_min, DATA_OF_STOCKS_FOR_BUILDING_MODEL, BETWEENNESS, EIGENVALUE_CENTRALITY, EXPECTED_FORCE):    \n",
    "    stocks_for_benchmark = DATA_OF_STOCKS_FOR_BUILDING_MODEL[:int(len(DATA_OF_STOCKS_FOR_BUILDING_MODEL)/2 + 1)]\n",
    "    stocks_for_centrality_measures = [i for i in DATA_OF_STOCKS_FOR_BUILDING_MODEL if i not in stocks_for_benchmark]\n",
    "    index_1 = int(len(stocks_for_centrality_measures)/4)\n",
    "    index_2 = int(2 * len(stocks_for_centrality_measures)/4)\n",
    "    index_3 = int(3 * len(stocks_for_centrality_measures)/4 )\n",
    "    index_4 = int(4 * len(stocks_for_centrality_measures)/4)\n",
    "    stocks_for_completed_graph = stocks_for_centrality_measures[:index_1]\n",
    "    stocks_for_minimun_spaning_tree = stocks_for_centrality_measures[index_1:index_2]\n",
    "    stocks_threshold_significance_graph = stocks_for_centrality_measures[index_2 : index_3]\n",
    "    stocks_for_planar_max_filter = stocks_for_centrality_measures[index_3:index_4]\n",
    "\n",
    "    ## Betweennes + B\n",
    "    r_matrix, mean_vec, cov_matrix = get_return_mean_cov(list(stocks_for_benchmark))\n",
    "    weights_min_benchmark = return_minimization_strategies(objective_function_min, mean_vec, cov_matrix, len(stocks_for_benchmark), ((0,0.5),), measure_of_centrality = None, type_graph = None, centrality_measure = False, null_value= None, stocks = stocks_for_benchmark)\n",
    "\n",
    "    r_matrix, mean_vec, cov_matrix = get_return_mean_cov(list(stocks_for_completed_graph))\n",
    "    new_betweenness = get_new_centrality_measure('Complete graph', stocks_for_completed_graph, BETWEENNESS)\n",
    "    weights_completed_grapg = return_minimization_strategies(objective_function_min, mean_vec, cov_matrix, len(stocks_for_completed_graph), ((0,0.125),), new_betweenness, 'Complete graph', centrality_measure = True, null_value=None, stocks= stocks_for_completed_graph )\n",
    "\n",
    "    r_matrix, mean_vec, cov_matrix = get_return_mean_cov(list(stocks_for_minimun_spaning_tree))\n",
    "    new_betweenness = get_new_centrality_measure('Minimum spanning tree', stocks_for_minimun_spaning_tree, BETWEENNESS)\n",
    "    weights_minimun_spaning_tree  = return_minimization_strategies(objective_function_min, mean_vec, cov_matrix, len(stocks_for_minimun_spaning_tree), ((0,0.125),), new_betweenness, 'Minimum spanning tree', centrality_measure = True, null_value= None, stocks = stocks_for_minimun_spaning_tree )\n",
    "\n",
    "    r_matrix, mean_vec, cov_matrix = get_return_mean_cov(list(stocks_threshold_significance_graph))\n",
    "    new_betweenness = get_new_centrality_measure('Threshold significance graph', stocks_threshold_significance_graph, BETWEENNESS)\n",
    "    weights_threshold_significance_graph = return_minimization_strategies(objective_function_min, mean_vec, cov_matrix, len(stocks_threshold_significance_graph), ((0,0.125),), new_betweenness, 'Threshold significance graph', centrality_measure = True, null_value=None, stocks = stocks_threshold_significance_graph )\n",
    "\n",
    "    r_matrix, mean_vec, cov_matrix = get_return_mean_cov(list(stocks_for_planar_max_filter))\n",
    "    new_betweenness = get_new_centrality_measure('Planar max filter graph', stocks_for_planar_max_filter, BETWEENNESS)\n",
    "    weights_planar_max_filter =  return_minimization_strategies(objective_function_min, mean_vec, cov_matrix, len(stocks_for_planar_max_filter), ((0,0.125),), new_betweenness, 'Planar max filter graph', centrality_measure = True, null_value=None, stocks = stocks_for_planar_max_filter )\n",
    "\n",
    "    res_betweenness_min = []\n",
    "    for stock in np.arange(len(stocks_for_benchmark)):\n",
    "        res_betweenness_min.append({list(stocks_for_benchmark)[stock].ticker: weights_min_benchmark[stock]})\n",
    "\n",
    "    for stock in np.arange(len(stocks_for_completed_graph)):\n",
    "        res_betweenness_min.append({list(stocks_for_completed_graph)[stock].ticker: weights_completed_grapg[stock]})\n",
    "\n",
    "    for stock in np.arange(len(stocks_for_minimun_spaning_tree)):\n",
    "        res_betweenness_min.append({list(stocks_for_minimun_spaning_tree)[stock].ticker: weights_minimun_spaning_tree[stock]})\n",
    "\n",
    "    for stock in np.arange(len(stocks_threshold_significance_graph)):\n",
    "        res_betweenness_min.append({list(stocks_threshold_significance_graph)[stock].ticker: weights_threshold_significance_graph[stock]}) \n",
    "\n",
    "    for stock in np.arange(len(stocks_for_planar_max_filter)):\n",
    "        res_betweenness_min.append({list(stocks_for_planar_max_filter)[stock].ticker: weights_planar_max_filter[stock]}) \n",
    "\n",
    "    resulting_portfolio_min['Betweenness + B'] = np.array([list(w.values())[0] for w in res_betweenness_min])\n",
    "\n",
    "\n",
    "\n",
    "    ## Eigenvalue centrality + B\n",
    "    r_matrix, mean_vec, cov_matrix = get_return_mean_cov(list(stocks_for_benchmark))\n",
    "    weights_min_benchmark = return_minimization_strategies(objective_function_min, mean_vec, cov_matrix, len(stocks_for_benchmark), ((0,0.5),), measure_of_centrality = None, type_graph = None, centrality_measure = False, null_value=None, stocks=stocks_for_benchmark)\n",
    "\n",
    "    r_matrix, mean_vec, cov_matrix = get_return_mean_cov(list(stocks_for_completed_graph))\n",
    "    new_eigenvalue_centrality = get_new_centrality_measure('Complete graph', stocks_for_completed_graph, EIGENVALUE_CENTRALITY)\n",
    "    weights_completed_grapg = return_minimization_strategies(objective_function_min, mean_vec, cov_matrix, len(stocks_for_completed_graph), ((0,0.125),), new_eigenvalue_centrality, 'Complete graph', centrality_measure = True, null_value=None, stocks=stocks_for_completed_graph )\n",
    "\n",
    "    r_matrix, mean_vec, cov_matrix = get_return_mean_cov(list(stocks_for_minimun_spaning_tree))\n",
    "    new_eigenvalue_centrality = get_new_centrality_measure('Minimum spanning tree', stocks_for_minimun_spaning_tree, EIGENVALUE_CENTRALITY)\n",
    "    weights_minimun_spaning_tree  = return_minimization_strategies(objective_function_min, mean_vec, cov_matrix, len(stocks_for_minimun_spaning_tree), ((0,0.125),), new_eigenvalue_centrality, 'Minimum spanning tree', centrality_measure = True, null_value=None, stocks = stocks_for_minimun_spaning_tree)\n",
    "\n",
    "    r_matrix, mean_vec, cov_matrix = get_return_mean_cov(list(stocks_threshold_significance_graph))\n",
    "    new_eigenvalue_centrality = get_new_centrality_measure('Threshold significance graph', stocks_threshold_significance_graph, EIGENVALUE_CENTRALITY)\n",
    "    weights_threshold_significance_graph = return_minimization_strategies(objective_function_min, mean_vec, cov_matrix, len(stocks_threshold_significance_graph), ((0,0.125),), new_eigenvalue_centrality, 'Threshold significance graph', centrality_measure = True, null_value=None, stocks= stocks_threshold_significance_graph )\n",
    "\n",
    "    r_matrix, mean_vec, cov_matrix = get_return_mean_cov(list(stocks_for_planar_max_filter))\n",
    "    new_eigenvalue_centrality = get_new_centrality_measure('Planar max filter graph', stocks_for_planar_max_filter, EIGENVALUE_CENTRALITY)\n",
    "    weights_planar_max_filter =  return_minimization_strategies(objective_function_min, mean_vec, cov_matrix, len(stocks_for_planar_max_filter), ((0,0.125),), new_eigenvalue_centrality, 'Planar max filter graph', centrality_measure = True, null_value=None, stocks=stocks_for_planar_max_filter)\n",
    "\n",
    "    res_eigenvalue_centrality_min = []\n",
    "    for stock in np.arange(len(stocks_for_benchmark)):\n",
    "        res_eigenvalue_centrality_min.append({list(stocks_for_benchmark)[stock].ticker: weights_min_benchmark[stock]})\n",
    "\n",
    "    for stock in np.arange(len(stocks_for_completed_graph)):\n",
    "        res_eigenvalue_centrality_min.append({list(stocks_for_completed_graph)[stock].ticker: weights_completed_grapg[stock]})\n",
    "\n",
    "    for stock in np.arange(len(stocks_for_minimun_spaning_tree)):\n",
    "        res_eigenvalue_centrality_min.append({list(stocks_for_minimun_spaning_tree)[stock].ticker: weights_minimun_spaning_tree[stock]})\n",
    "\n",
    "    for stock in np.arange(len(stocks_threshold_significance_graph)):\n",
    "        res_eigenvalue_centrality_min.append({list(stocks_threshold_significance_graph)[stock].ticker: weights_threshold_significance_graph[stock]}) \n",
    "\n",
    "    for stock in np.arange(len(stocks_for_planar_max_filter)):\n",
    "        res_eigenvalue_centrality_min.append({list(stocks_for_planar_max_filter)[stock].ticker: weights_planar_max_filter[stock]}) \n",
    "\n",
    "    resulting_portfolio_min['Eigenvalue + B'] = np.array([list(w.values())[0] for w in res_eigenvalue_centrality_min])\n",
    "\n",
    "\n",
    "\n",
    "    ## Expected force + B\n",
    "    r_matrix, mean_vec, cov_matrix = get_return_mean_cov(list(stocks_for_benchmark))\n",
    "    weights_min_benchmark = return_minimization_strategies(objective_function_min, mean_vec, cov_matrix, len(stocks_for_benchmark), ((0,0.5),), measure_of_centrality = None, type_graph = None, centrality_measure = False, null_value=None, stocks = stocks_for_benchmark)\n",
    "\n",
    "    r_matrix, mean_vec, cov_matrix = get_return_mean_cov(list(stocks_for_completed_graph))\n",
    "    new_expected_force = get_new_centrality_measure('Complete graph', stocks_for_completed_graph, EXPECTED_FORCE)\n",
    "    weights_completed_grapg = return_minimization_strategies(objective_function_min, mean_vec, cov_matrix, len(stocks_for_completed_graph), ((0,0.125),), new_expected_force, 'Complete graph', centrality_measure = True, null_value=None, stocks=stocks_for_completed_graph )\n",
    "\n",
    "    r_matrix, mean_vec, cov_matrix = get_return_mean_cov(list(stocks_for_minimun_spaning_tree))\n",
    "    new_expected_force = get_new_centrality_measure('Minimum spanning tree', stocks_for_minimun_spaning_tree, EXPECTED_FORCE)\n",
    "    weights_minimun_spaning_tree  = return_minimization_strategies(objective_function_min, mean_vec, cov_matrix, len(stocks_for_minimun_spaning_tree), ((0,0.125),), new_expected_force, 'Minimum spanning tree', centrality_measure = True, null_value=None, stocks=stocks_for_minimun_spaning_tree )\n",
    "\n",
    "    r_matrix, mean_vec, cov_matrix = get_return_mean_cov(list(stocks_threshold_significance_graph))\n",
    "    new_expected_force = get_new_centrality_measure('Threshold significance graph', stocks_threshold_significance_graph, EXPECTED_FORCE)\n",
    "    weights_threshold_significance_graph = return_minimization_strategies(objective_function_min, mean_vec, cov_matrix, len(stocks_threshold_significance_graph), ((0,0.125),), new_expected_force, 'Threshold significance graph', centrality_measure = True, null_value=None, stocks= stocks_threshold_significance_graph)\n",
    "\n",
    "    r_matrix, mean_vec, cov_matrix = get_return_mean_cov(list(stocks_for_planar_max_filter))\n",
    "    new_expected_force = get_new_centrality_measure('Planar max filter graph', stocks_for_planar_max_filter, EXPECTED_FORCE)\n",
    "    weights_planar_max_filter =  return_minimization_strategies(objective_function_min, mean_vec, cov_matrix, len(stocks_for_planar_max_filter), ((0,0.125),), new_expected_force, 'Planar max filter graph', centrality_measure = True, null_value=None, stocks = stocks_for_planar_max_filter )\n",
    "\n",
    "    res_expected_force_min = []\n",
    "    for stock in np.arange(len(stocks_for_benchmark)):\n",
    "        res_expected_force_min.append({list(stocks_for_benchmark)[stock].ticker: weights_min_benchmark[stock]})\n",
    "\n",
    "    for stock in np.arange(len(stocks_for_completed_graph)):\n",
    "        res_expected_force_min.append({list(stocks_for_completed_graph)[stock].ticker: weights_completed_grapg[stock]})\n",
    "\n",
    "    for stock in np.arange(len(stocks_for_minimun_spaning_tree)):\n",
    "        res_expected_force_min.append({list(stocks_for_minimun_spaning_tree)[stock].ticker: weights_minimun_spaning_tree[stock]})\n",
    "\n",
    "    for stock in np.arange(len(stocks_threshold_significance_graph)):\n",
    "        res_expected_force_min.append({list(stocks_threshold_significance_graph)[stock].ticker: weights_threshold_significance_graph[stock]}) \n",
    "\n",
    "    for stock in np.arange(len(stocks_for_planar_max_filter)):\n",
    "        res_expected_force_min.append({list(stocks_for_planar_max_filter)[stock].ticker: weights_planar_max_filter[stock]}) \n",
    "\n",
    "    resulting_portfolio_min['Expected force + B'] = np.array([list(w.values())[0] for w in res_expected_force_min])\n",
    "\n",
    "\n",
    "\n",
    "\n",
    "\n",
    "\n",
    "    stocks_for_benchmark = DATA_OF_STOCKS_FOR_BUILDING_MODEL[:int(len(DATA_OF_STOCKS_FOR_BUILDING_MODEL)/2)]\n",
    "    stocks_for_centrality_measures = [i for i in DATA_OF_STOCKS_FOR_BUILDING_MODEL if i not in stocks_for_benchmark]\n",
    "    index_1 = int(len(stocks_for_centrality_measures)/3)\n",
    "    index_2 = int(2 * len(stocks_for_centrality_measures)/3)\n",
    "    index_3 = int(3 * len(stocks_for_centrality_measures)/3)\n",
    "    stocks_for_betweenness = stocks_for_centrality_measures[:index_1]\n",
    "    stocks_for_eigenvalue_centrality  = stocks_for_centrality_measures[index_1:index_2]\n",
    "    stocks_for_expected_force = stocks_for_centrality_measures[index_2:index_3]\n",
    "\n",
    "\n",
    "    ## MST + B\n",
    "    r_matrix, mean_vec, cov_matrix = get_return_mean_cov(list(stocks_for_benchmark))\n",
    "    weights_min_benchmark = return_minimization_strategies(objective_function_min, mean_vec, cov_matrix, len(stocks_for_benchmark), ((0,0.5),), measure_of_centrality = None, type_graph = None, centrality_measure = False, null_value=None, stocks=stocks_for_benchmark)\n",
    "\n",
    "    r_matrix, mean_vec, cov_matrix = get_return_mean_cov(list(stocks_for_betweenness))\n",
    "    new_betweenness = get_new_centrality_measure('Minimum spanning tree', stocks_for_betweenness, BETWEENNESS)\n",
    "    weights_betweennes = return_minimization_strategies(objective_function_min, mean_vec, cov_matrix, len(stocks_for_betweenness), ((0,0.165),), new_betweenness, 'Minimum spanning tree', centrality_measure = True, null_value=None,  stocks = stocks_for_betweenness )\n",
    "\n",
    "    r_matrix, mean_vec, cov_matrix = get_return_mean_cov(list(stocks_for_eigenvalue_centrality))\n",
    "    new_eigenvalue_centrality = get_new_centrality_measure('Minimum spanning tree', stocks_for_eigenvalue_centrality, EIGENVALUE_CENTRALITY)\n",
    "    weights_eigenvalue_centrality = return_minimization_strategies(objective_function_min, mean_vec, cov_matrix, len(stocks_for_eigenvalue_centrality), ((0,0.165),), new_eigenvalue_centrality, 'Minimum spanning tree', centrality_measure = True, null_value=None, stocks= stocks_for_eigenvalue_centrality)\n",
    "\n",
    "    r_matrix, mean_vec, cov_matrix = get_return_mean_cov(list(stocks_for_expected_force))\n",
    "    new_expected_force = get_new_centrality_measure('Minimum spanning tree', stocks_for_expected_force, EXPECTED_FORCE)\n",
    "    weights_expected_force = return_minimization_strategies(objective_function_min, mean_vec, cov_matrix, len(stocks_for_expected_force), ((0,0.165),), new_expected_force, 'Minimum spanning tree', centrality_measure = True, null_value=None, stocks=stocks_for_expected_force )\n",
    "\n",
    "\n",
    "    res_MST_B_min= []\n",
    "    for stock in np.arange(len(stocks_for_benchmark)):\n",
    "        res_MST_B_min.append({list(stocks_for_benchmark)[stock].ticker: weights_min_benchmark[stock]})\n",
    "\n",
    "    for stock in np.arange(len(stocks_for_betweenness)):\n",
    "        res_MST_B_min.append({list(stocks_for_betweenness)[stock].ticker: weights_betweennes[stock]})\n",
    "\n",
    "    for stock in np.arange(len(stocks_for_eigenvalue_centrality)):\n",
    "        res_MST_B_min.append({list(stocks_for_eigenvalue_centrality)[stock].ticker: weights_eigenvalue_centrality[stock]})\n",
    "\n",
    "    for stock in np.arange(len(stocks_for_expected_force)):\n",
    "        res_MST_B_min.append({list(stocks_for_expected_force)[stock].ticker: weights_expected_force[stock]}) \n",
    "\n",
    "    resulting_portfolio_min['MST + B'] = np.array([list(w.values())[0] for w in res_MST_B_min])\n",
    "\n",
    "\n",
    "\n",
    "    ## PMFG + B\n",
    "    r_matrix, mean_vec, cov_matrix = get_return_mean_cov(list(stocks_for_benchmark))\n",
    "    weights_min_benchmark = return_minimization_strategies(objective_function_min, mean_vec, cov_matrix, len(stocks_for_benchmark), ((0,0.5),), measure_of_centrality = None, type_graph = None, centrality_measure = False, null_value=None, stocks=stocks_for_benchmark)\n",
    "\n",
    "    r_matrix, mean_vec, cov_matrix = get_return_mean_cov(list(stocks_for_betweenness))\n",
    "    new_betweenness = get_new_centrality_measure('Planar max filter graph', stocks_for_betweenness, BETWEENNESS)\n",
    "    weights_betweennes = return_minimization_strategies(objective_function_min, mean_vec, cov_matrix, len(stocks_for_betweenness), ((0,0.165),), new_betweenness, 'Planar max filter graph', centrality_measure = True, null_value=None, stocks=stocks_for_betweenness )\n",
    "\n",
    "    r_matrix, mean_vec, cov_matrix = get_return_mean_cov(list(stocks_for_eigenvalue_centrality))\n",
    "    new_eigenvalue_centrality = get_new_centrality_measure('Planar max filter graph', stocks_for_eigenvalue_centrality, EIGENVALUE_CENTRALITY)\n",
    "    weights_eigenvalue_centrality = return_minimization_strategies(objective_function_min, mean_vec, cov_matrix, len(stocks_for_eigenvalue_centrality), ((0,0.165),), new_eigenvalue_centrality, 'Planar max filter graph', centrality_measure = True, null_value=None, stocks=stocks_for_eigenvalue_centrality )\n",
    "\n",
    "    r_matrix, mean_vec, cov_matrix = get_return_mean_cov(list(stocks_for_expected_force))\n",
    "    new_expected_force = get_new_centrality_measure('Planar max filter graph', stocks_for_expected_force, EXPECTED_FORCE)\n",
    "    weights_expected_force = return_minimization_strategies(objective_function_min, mean_vec, cov_matrix, len(stocks_for_expected_force), ((0,0.165),), new_expected_force, 'Planar max filter graph', centrality_measure = True, null_value=None, stocks=stocks_for_expected_force )\n",
    "\n",
    "\n",
    "    res_PMFG_B_min= []\n",
    "    for stock in np.arange(len(stocks_for_benchmark)):\n",
    "        res_PMFG_B_min.append({list(stocks_for_benchmark)[stock].ticker: weights_min_benchmark[stock]})\n",
    "\n",
    "    for stock in np.arange(len(stocks_for_betweenness)):\n",
    "        res_PMFG_B_min.append({list(stocks_for_betweenness)[stock].ticker: weights_betweennes[stock]})\n",
    "\n",
    "    for stock in np.arange(len(stocks_for_eigenvalue_centrality)):\n",
    "        res_PMFG_B_min.append({list(stocks_for_eigenvalue_centrality)[stock].ticker: weights_eigenvalue_centrality[stock]})\n",
    "\n",
    "    for stock in np.arange(len(stocks_for_expected_force)):\n",
    "        res_PMFG_B_min.append({list(stocks_for_expected_force)[stock].ticker: weights_expected_force[stock]}) \n",
    "\n",
    "    resulting_portfolio_min['PMFG + B'] = np.array([list(w.values())[0] for w in res_PMFG_B_min])\n",
    "\n",
    "\n",
    "\n",
    "\n",
    "\n",
    "    ## Treshold + B\n",
    "    r_matrix, mean_vec, cov_matrix = get_return_mean_cov(list(stocks_for_benchmark))\n",
    "    weights_min_benchmark = return_minimization_strategies(objective_function_min, mean_vec, cov_matrix, len(stocks_for_benchmark), ((0,0.5),), measure_of_centrality = None, type_graph = None, centrality_measure = False, null_value=None, stocks=stocks_for_benchmark)\n",
    "\n",
    "    r_matrix, mean_vec, cov_matrix = get_return_mean_cov(list(stocks_for_betweenness))\n",
    "    new_betweenness = get_new_centrality_measure('Threshold significance graph', stocks_for_betweenness, BETWEENNESS)\n",
    "    weights_betweennes = return_minimization_strategies(objective_function_min, mean_vec, cov_matrix, len(stocks_for_betweenness), ((0,0.165),), new_betweenness, 'Threshold significance graph', centrality_measure = True, null_value=None, stocks=stocks_for_betweenness )\n",
    "\n",
    "    r_matrix, mean_vec, cov_matrix = get_return_mean_cov(list(stocks_for_eigenvalue_centrality))\n",
    "    new_eigenvalue_centrality = get_new_centrality_measure('Threshold significance graph', stocks_for_eigenvalue_centrality, EIGENVALUE_CENTRALITY)\n",
    "    weights_eigenvalue_centrality = return_minimization_strategies(objective_function_min, mean_vec, cov_matrix, len(stocks_for_eigenvalue_centrality), ((0,0.165),), new_eigenvalue_centrality, 'Threshold significance graph', centrality_measure = True, null_value=None, stocks= stocks_for_eigenvalue_centrality)\n",
    "\n",
    "    r_matrix, mean_vec, cov_matrix = get_return_mean_cov(list(stocks_for_expected_force))\n",
    "    new_expected_force = get_new_centrality_measure('Threshold significance graph', stocks_for_expected_force, EXPECTED_FORCE)\n",
    "    weights_expected_force = return_minimization_strategies(objective_function_min, mean_vec, cov_matrix, len(stocks_for_expected_force), ((0,0.165),), new_expected_force, 'Threshold significance graph', centrality_measure = True, null_value=None, stocks= stocks_for_expected_force)\n",
    "\n",
    "\n",
    "    res_Treshold_B_min= []\n",
    "    for stock in np.arange(len(stocks_for_benchmark)):\n",
    "        res_Treshold_B_min.append({list(stocks_for_benchmark)[stock].ticker: weights_min_benchmark[stock]})\n",
    "\n",
    "    for stock in np.arange(len(stocks_for_betweenness)):\n",
    "        res_Treshold_B_min.append({list(stocks_for_betweenness)[stock].ticker: weights_betweennes[stock]})\n",
    "\n",
    "    for stock in np.arange(len(stocks_for_eigenvalue_centrality)):\n",
    "        res_Treshold_B_min.append({list(stocks_for_eigenvalue_centrality)[stock].ticker: weights_eigenvalue_centrality[stock]})\n",
    "\n",
    "    for stock in np.arange(len(stocks_for_expected_force)):\n",
    "        res_Treshold_B_min.append({list(stocks_for_expected_force)[stock].ticker: weights_expected_force[stock]}) \n",
    "\n",
    "    resulting_portfolio_min['Threshold + B'] = np.array([list(w.values())[0] for w in res_Treshold_B_min])\n",
    "\n",
    "\n",
    "\n",
    "    ## Complete graph + B\n",
    "    r_matrix, mean_vec, cov_matrix = get_return_mean_cov(list(stocks_for_benchmark))\n",
    "    weights_min_benchmark = return_minimization_strategies(objective_function_min, mean_vec, cov_matrix, len(stocks_for_benchmark), ((0,0.5),), measure_of_centrality = None, type_graph = None, centrality_measure = False, null_value=None, stocks=stocks_for_benchmark)\n",
    "\n",
    "    r_matrix, mean_vec, cov_matrix = get_return_mean_cov(list(stocks_for_betweenness))\n",
    "    new_betweenness = get_new_centrality_measure('Complete graph', stocks_for_betweenness, BETWEENNESS)\n",
    "    weights_betweennes = return_minimization_strategies(objective_function_min, mean_vec, cov_matrix, len(stocks_for_betweenness), ((0,0.165),), new_betweenness, 'Complete graph', centrality_measure = True, null_value=None, stocks=stocks_for_betweenness )\n",
    "\n",
    "    r_matrix, mean_vec, cov_matrix = get_return_mean_cov(list(stocks_for_eigenvalue_centrality))\n",
    "    new_eigenvalue_centrality = get_new_centrality_measure('Complete graph', stocks_for_eigenvalue_centrality, EIGENVALUE_CENTRALITY)\n",
    "    weights_eigenvalue_centrality = return_minimization_strategies(objective_function_min, mean_vec, cov_matrix, len(stocks_for_eigenvalue_centrality), ((0,0.165),), new_eigenvalue_centrality, 'Complete graph', centrality_measure = True, null_value=None, stocks=stocks_for_eigenvalue_centrality )\n",
    "\n",
    "    r_matrix, mean_vec, cov_matrix = get_return_mean_cov(list(stocks_for_expected_force))\n",
    "    new_expected_force = get_new_centrality_measure('Complete graph', stocks_for_expected_force, EXPECTED_FORCE)\n",
    "    weights_expected_force = return_minimization_strategies(objective_function_min, mean_vec, cov_matrix, len(stocks_for_expected_force), ((0,0.165),), new_expected_force, 'Complete graph', centrality_measure = True, null_value=None, stocks=stocks_for_expected_force )\n",
    "\n",
    "\n",
    "    res_completed_B_min= []\n",
    "    for stock in np.arange(len(stocks_for_benchmark)):\n",
    "        res_completed_B_min.append({list(stocks_for_benchmark)[stock].ticker: weights_min_benchmark[stock]})\n",
    "\n",
    "    for stock in np.arange(len(stocks_for_betweenness)):\n",
    "        res_completed_B_min.append({list(stocks_for_betweenness)[stock].ticker: weights_betweennes[stock]})\n",
    "\n",
    "    for stock in np.arange(len(stocks_for_eigenvalue_centrality)):\n",
    "        res_completed_B_min.append({list(stocks_for_eigenvalue_centrality)[stock].ticker: weights_eigenvalue_centrality[stock]})\n",
    "\n",
    "    for stock in np.arange(len(stocks_for_expected_force)):\n",
    "        res_completed_B_min.append({list(stocks_for_expected_force)[stock].ticker: weights_expected_force[stock]}) \n",
    "\n",
    "    resulting_portfolio_min['Complete + B'] = np.array([list(w.values())[0] for w in res_completed_B_min])\n",
    "\n",
    "\n",
    "    for port in resulting_portfolio_min:\n",
    "        resulting_portfolio_min[port] = np.round(resulting_portfolio_min[port], decimals=3)\n",
    "\n",
    "    return resulting_portfolio_min"
   ]
  },
  {
   "attachments": {},
   "cell_type": "markdown",
   "metadata": {},
   "source": [
    "## Оценка инвестиционных портфелей"
   ]
  },
  {
   "attachments": {},
   "cell_type": "markdown",
   "metadata": {},
   "source": [
    "### Out-of-sample portfolio performance evaluation"
   ]
  },
  {
   "cell_type": "code",
   "execution_count": 177,
   "metadata": {},
   "outputs": [],
   "source": [
    "def get_profitability_portfolio_one_day(weights, stocks_perfomance):\n",
    "    if len(stocks_perfomance[0].date) == 7:\n",
    "        N = 7\n",
    "    else:\n",
    "        N = len(stocks_perfomance[0].date)\n",
    "    profitability_portfolio = []\n",
    "    for day in np.arange(N):\n",
    "        prof = 0\n",
    "        for stock in stocks_perfomance:\n",
    "            prof += stock.log_returns[day]*weights[stock.id]\n",
    "        profitability_portfolio.append(prof)\n",
    "    return sum(profitability_portfolio)\n"
   ]
  },
  {
   "cell_type": "code",
   "execution_count": 178,
   "metadata": {},
   "outputs": [],
   "source": [
    "def get_prof(resulting_portfolios, stocks_perfomance):\n",
    "    returns = {}\n",
    "    for portfolio in resulting_portfolios:\n",
    "\n",
    "        returns[portfolio] = get_profitability_portfolio_one_day(resulting_portfolios[portfolio], stocks_perfomance)\n",
    "    return returns\n"
   ]
  },
  {
   "cell_type": "code",
   "execution_count": 179,
   "metadata": {},
   "outputs": [],
   "source": [
    "def save_json(res_port, file_name):\n",
    "    for res in res_port:\n",
    "        if type(res_port[res]) != list:\n",
    "            res_port[res] = res_port[res].tolist()\n",
    "    with open(file_name, 'w') as fp:\n",
    "            json.dump(res_port, fp)"
   ]
  },
  {
   "cell_type": "code",
   "execution_count": 180,
   "metadata": {},
   "outputs": [
    {
     "name": "stdout",
     "output_type": "stream",
     "text": [
      "Временной промежуток: 2017-01-01 - 2018-01-01 обучаемся, на 2018-01-02 - 2018-01-08 считаем доходность \n",
      "\n",
      "Cкачивание данных завершено\n",
      "\n",
      "Предобработка данных завершена\n",
      "\n"
     ]
    },
    {
     "name": "stderr",
     "output_type": "stream",
     "text": [
      "100%|██████████| 41/41 [00:01<00:00, 23.02it/s]\n"
     ]
    },
    {
     "name": "stdout",
     "output_type": "stream",
     "text": [
      "Подсчет корреляции завершен\n",
      "\n",
      "Построение графа и подграфов завершены\n",
      "\n",
      "Подсчет мер центральности завершен\n",
      "\n",
      "Стратегии по максимизации доходности отработали\n",
      "\n",
      "Стратегии по минимизации риска отработали\n",
      "\n",
      "================================================================\n",
      "\n",
      "Временной промежуток: 2017-01-08 - 2018-01-08 обучаемся, на 2018-01-09 - 2018-01-15 считаем доходность \n",
      "\n",
      "Cкачивание данных завершено\n",
      "\n",
      "Предобработка данных завершена\n",
      "\n"
     ]
    },
    {
     "name": "stderr",
     "output_type": "stream",
     "text": [
      "100%|██████████| 41/41 [00:01<00:00, 22.82it/s]\n"
     ]
    },
    {
     "name": "stdout",
     "output_type": "stream",
     "text": [
      "Подсчет корреляции завершен\n",
      "\n",
      "Построение графа и подграфов завершены\n",
      "\n",
      "Подсчет мер центральности завершен\n",
      "\n",
      "Стратегии по максимизации доходности отработали\n",
      "\n",
      "Стратегии по минимизации риска отработали\n",
      "\n",
      "================================================================\n",
      "\n",
      "Временной промежуток: 2017-01-15 - 2018-01-15 обучаемся, на 2018-01-16 - 2018-01-22 считаем доходность \n",
      "\n",
      "Cкачивание данных завершено\n",
      "\n",
      "Предобработка данных завершена\n",
      "\n"
     ]
    },
    {
     "name": "stderr",
     "output_type": "stream",
     "text": [
      "100%|██████████| 41/41 [00:01<00:00, 23.43it/s]\n"
     ]
    },
    {
     "name": "stdout",
     "output_type": "stream",
     "text": [
      "Подсчет корреляции завершен\n",
      "\n",
      "Построение графа и подграфов завершены\n",
      "\n",
      "Подсчет мер центральности завершен\n",
      "\n",
      "Стратегии по максимизации доходности отработали\n",
      "\n",
      "Стратегии по минимизации риска отработали\n",
      "\n",
      "================================================================\n",
      "\n",
      "Временной промежуток: 2017-01-22 - 2018-01-22 обучаемся, на 2018-01-23 - 2018-01-29 считаем доходность \n",
      "\n",
      "Cкачивание данных завершено\n",
      "\n",
      "Предобработка данных завершена\n",
      "\n"
     ]
    },
    {
     "name": "stderr",
     "output_type": "stream",
     "text": [
      "100%|██████████| 41/41 [00:01<00:00, 22.09it/s]\n"
     ]
    },
    {
     "name": "stdout",
     "output_type": "stream",
     "text": [
      "Подсчет корреляции завершен\n",
      "\n",
      "Построение графа и подграфов завершены\n",
      "\n",
      "Подсчет мер центральности завершен\n",
      "\n",
      "Стратегии по максимизации доходности отработали\n",
      "\n",
      "Стратегии по минимизации риска отработали\n",
      "\n",
      "================================================================\n",
      "\n",
      "Временной промежуток: 2017-01-29 - 2018-01-29 обучаемся, на 2018-01-30 - 2018-02-05 считаем доходность \n",
      "\n",
      "Cкачивание данных завершено\n",
      "\n",
      "Предобработка данных завершена\n",
      "\n"
     ]
    },
    {
     "name": "stderr",
     "output_type": "stream",
     "text": [
      "100%|██████████| 41/41 [00:01<00:00, 20.83it/s]\n"
     ]
    },
    {
     "name": "stdout",
     "output_type": "stream",
     "text": [
      "Подсчет корреляции завершен\n",
      "\n",
      "Построение графа и подграфов завершены\n",
      "\n",
      "Подсчет мер центральности завершен\n",
      "\n",
      "Стратегии по максимизации доходности отработали\n",
      "\n",
      "Стратегии по минимизации риска отработали\n",
      "\n",
      "================================================================\n",
      "\n",
      "Временной промежуток: 2017-02-05 - 2018-02-05 обучаемся, на 2018-02-06 - 2018-02-12 считаем доходность \n",
      "\n",
      "Cкачивание данных завершено\n",
      "\n",
      "Предобработка данных завершена\n",
      "\n"
     ]
    },
    {
     "name": "stderr",
     "output_type": "stream",
     "text": [
      "100%|██████████| 41/41 [00:02<00:00, 18.88it/s]\n"
     ]
    },
    {
     "name": "stdout",
     "output_type": "stream",
     "text": [
      "Подсчет корреляции завершен\n",
      "\n",
      "Построение графа и подграфов завершены\n",
      "\n",
      "Подсчет мер центральности завершен\n",
      "\n",
      "Стратегии по максимизации доходности отработали\n",
      "\n",
      "Стратегии по минимизации риска отработали\n",
      "\n",
      "================================================================\n",
      "\n",
      "Временной промежуток: 2017-02-12 - 2018-02-12 обучаемся, на 2018-02-13 - 2018-02-19 считаем доходность \n",
      "\n",
      "Cкачивание данных завершено\n",
      "\n",
      "Предобработка данных завершена\n",
      "\n"
     ]
    },
    {
     "name": "stderr",
     "output_type": "stream",
     "text": [
      "100%|██████████| 41/41 [00:01<00:00, 22.43it/s]\n"
     ]
    },
    {
     "name": "stdout",
     "output_type": "stream",
     "text": [
      "Подсчет корреляции завершен\n",
      "\n",
      "Построение графа и подграфов завершены\n",
      "\n",
      "Подсчет мер центральности завершен\n",
      "\n",
      "Стратегии по максимизации доходности отработали\n",
      "\n",
      "Стратегии по минимизации риска отработали\n",
      "\n",
      "================================================================\n",
      "\n",
      "Временной промежуток: 2017-02-19 - 2018-02-19 обучаемся, на 2018-02-20 - 2018-02-26 считаем доходность \n",
      "\n",
      "Cкачивание данных завершено\n",
      "\n",
      "Предобработка данных завершена\n",
      "\n"
     ]
    },
    {
     "name": "stderr",
     "output_type": "stream",
     "text": [
      "100%|██████████| 41/41 [00:01<00:00, 25.70it/s]\n"
     ]
    },
    {
     "name": "stdout",
     "output_type": "stream",
     "text": [
      "Подсчет корреляции завершен\n",
      "\n",
      "Построение графа и подграфов завершены\n",
      "\n",
      "Подсчет мер центральности завершен\n",
      "\n",
      "Стратегии по максимизации доходности отработали\n",
      "\n",
      "Стратегии по минимизации риска отработали\n",
      "\n",
      "================================================================\n",
      "\n",
      "Временной промежуток: 2017-02-26 - 2018-02-26 обучаемся, на 2018-02-27 - 2018-03-05 считаем доходность \n",
      "\n",
      "Cкачивание данных завершено\n",
      "\n",
      "Предобработка данных завершена\n",
      "\n"
     ]
    },
    {
     "name": "stderr",
     "output_type": "stream",
     "text": [
      "100%|██████████| 41/41 [00:01<00:00, 24.99it/s]\n"
     ]
    },
    {
     "name": "stdout",
     "output_type": "stream",
     "text": [
      "Подсчет корреляции завершен\n",
      "\n",
      "Построение графа и подграфов завершены\n",
      "\n",
      "Подсчет мер центральности завершен\n",
      "\n",
      "Стратегии по максимизации доходности отработали\n",
      "\n",
      "Стратегии по минимизации риска отработали\n",
      "\n",
      "================================================================\n",
      "\n",
      "Временной промежуток: 2017-03-05 - 2018-03-05 обучаемся, на 2018-03-06 - 2018-03-12 считаем доходность \n",
      "\n",
      "Cкачивание данных завершено\n",
      "\n",
      "Предобработка данных завершена\n",
      "\n"
     ]
    },
    {
     "name": "stderr",
     "output_type": "stream",
     "text": [
      "100%|██████████| 41/41 [00:01<00:00, 20.83it/s]\n"
     ]
    },
    {
     "name": "stdout",
     "output_type": "stream",
     "text": [
      "Подсчет корреляции завершен\n",
      "\n",
      "Построение графа и подграфов завершены\n",
      "\n",
      "Подсчет мер центральности завершен\n",
      "\n",
      "Стратегии по максимизации доходности отработали\n",
      "\n",
      "Стратегии по минимизации риска отработали\n",
      "\n",
      "================================================================\n",
      "\n",
      "Временной промежуток: 2017-03-12 - 2018-03-12 обучаемся, на 2018-03-13 - 2018-03-19 считаем доходность \n",
      "\n",
      "Cкачивание данных завершено\n",
      "\n",
      "Предобработка данных завершена\n",
      "\n"
     ]
    },
    {
     "name": "stderr",
     "output_type": "stream",
     "text": [
      "100%|██████████| 41/41 [00:01<00:00, 25.95it/s]\n"
     ]
    },
    {
     "name": "stdout",
     "output_type": "stream",
     "text": [
      "Подсчет корреляции завершен\n",
      "\n",
      "Построение графа и подграфов завершены\n",
      "\n",
      "Подсчет мер центральности завершен\n",
      "\n",
      "Стратегии по максимизации доходности отработали\n",
      "\n",
      "Стратегии по минимизации риска отработали\n",
      "\n",
      "================================================================\n",
      "\n",
      "Временной промежуток: 2017-03-19 - 2018-03-19 обучаемся, на 2018-03-20 - 2018-03-26 считаем доходность \n",
      "\n",
      "Cкачивание данных завершено\n",
      "\n",
      "Предобработка данных завершена\n",
      "\n"
     ]
    },
    {
     "name": "stderr",
     "output_type": "stream",
     "text": [
      "100%|██████████| 41/41 [00:01<00:00, 25.19it/s]\n"
     ]
    },
    {
     "name": "stdout",
     "output_type": "stream",
     "text": [
      "Подсчет корреляции завершен\n",
      "\n",
      "Построение графа и подграфов завершены\n",
      "\n",
      "Подсчет мер центральности завершен\n",
      "\n",
      "Стратегии по максимизации доходности отработали\n",
      "\n",
      "Стратегии по минимизации риска отработали\n",
      "\n",
      "================================================================\n",
      "\n",
      "Временной промежуток: 2017-03-26 - 2018-03-26 обучаемся, на 2018-03-27 - 2018-04-02 считаем доходность \n",
      "\n",
      "Cкачивание данных завершено\n",
      "\n",
      "Предобработка данных завершена\n",
      "\n"
     ]
    },
    {
     "name": "stderr",
     "output_type": "stream",
     "text": [
      "100%|██████████| 41/41 [00:01<00:00, 25.47it/s]\n"
     ]
    },
    {
     "name": "stdout",
     "output_type": "stream",
     "text": [
      "Подсчет корреляции завершен\n",
      "\n",
      "Построение графа и подграфов завершены\n",
      "\n",
      "Подсчет мер центральности завершен\n",
      "\n",
      "Стратегии по максимизации доходности отработали\n",
      "\n",
      "Стратегии по минимизации риска отработали\n",
      "\n",
      "================================================================\n",
      "\n",
      "Временной промежуток: 2017-04-02 - 2018-04-02 обучаемся, на 2018-04-03 - 2018-04-09 считаем доходность \n",
      "\n",
      "Cкачивание данных завершено\n",
      "\n",
      "Предобработка данных завершена\n",
      "\n"
     ]
    },
    {
     "name": "stderr",
     "output_type": "stream",
     "text": [
      "100%|██████████| 41/41 [00:01<00:00, 23.86it/s]\n"
     ]
    },
    {
     "name": "stdout",
     "output_type": "stream",
     "text": [
      "Подсчет корреляции завершен\n",
      "\n",
      "Построение графа и подграфов завершены\n",
      "\n",
      "Подсчет мер центральности завершен\n",
      "\n",
      "Стратегии по максимизации доходности отработали\n",
      "\n",
      "Стратегии по минимизации риска отработали\n",
      "\n",
      "================================================================\n",
      "\n",
      "Временной промежуток: 2017-04-09 - 2018-04-09 обучаемся, на 2018-04-10 - 2018-04-16 считаем доходность \n",
      "\n",
      "Cкачивание данных завершено\n",
      "\n",
      "Предобработка данных завершена\n",
      "\n"
     ]
    },
    {
     "name": "stderr",
     "output_type": "stream",
     "text": [
      "100%|██████████| 41/41 [00:01<00:00, 26.50it/s]\n"
     ]
    },
    {
     "name": "stdout",
     "output_type": "stream",
     "text": [
      "Подсчет корреляции завершен\n",
      "\n",
      "Построение графа и подграфов завершены\n",
      "\n",
      "Подсчет мер центральности завершен\n",
      "\n",
      "Стратегии по максимизации доходности отработали\n",
      "\n",
      "Стратегии по минимизации риска отработали\n",
      "\n",
      "================================================================\n",
      "\n",
      "Временной промежуток: 2017-04-16 - 2018-04-16 обучаемся, на 2018-04-17 - 2018-04-23 считаем доходность \n",
      "\n",
      "Cкачивание данных завершено\n",
      "\n",
      "Предобработка данных завершена\n",
      "\n"
     ]
    },
    {
     "name": "stderr",
     "output_type": "stream",
     "text": [
      "100%|██████████| 41/41 [00:01<00:00, 20.99it/s]\n"
     ]
    },
    {
     "name": "stdout",
     "output_type": "stream",
     "text": [
      "Подсчет корреляции завершен\n",
      "\n",
      "Построение графа и подграфов завершены\n",
      "\n",
      "Подсчет мер центральности завершен\n",
      "\n",
      "Стратегии по максимизации доходности отработали\n",
      "\n",
      "Стратегии по минимизации риска отработали\n",
      "\n",
      "================================================================\n",
      "\n",
      "Временной промежуток: 2017-04-23 - 2018-04-23 обучаемся, на 2018-04-24 - 2018-04-30 считаем доходность \n",
      "\n",
      "Cкачивание данных завершено\n",
      "\n",
      "Предобработка данных завершена\n",
      "\n"
     ]
    },
    {
     "name": "stderr",
     "output_type": "stream",
     "text": [
      "100%|██████████| 41/41 [00:01<00:00, 23.45it/s]\n"
     ]
    },
    {
     "name": "stdout",
     "output_type": "stream",
     "text": [
      "Подсчет корреляции завершен\n",
      "\n",
      "Построение графа и подграфов завершены\n",
      "\n",
      "Подсчет мер центральности завершен\n",
      "\n",
      "Стратегии по максимизации доходности отработали\n",
      "\n",
      "Стратегии по минимизации риска отработали\n",
      "\n",
      "================================================================\n",
      "\n",
      "Временной промежуток: 2017-04-30 - 2018-04-30 обучаемся, на 2018-05-01 - 2018-05-07 считаем доходность \n",
      "\n",
      "Cкачивание данных завершено\n",
      "\n",
      "Предобработка данных завершена\n",
      "\n"
     ]
    },
    {
     "name": "stderr",
     "output_type": "stream",
     "text": [
      "100%|██████████| 41/41 [00:01<00:00, 24.75it/s]\n"
     ]
    },
    {
     "name": "stdout",
     "output_type": "stream",
     "text": [
      "Подсчет корреляции завершен\n",
      "\n",
      "Построение графа и подграфов завершены\n",
      "\n",
      "Подсчет мер центральности завершен\n",
      "\n",
      "Стратегии по максимизации доходности отработали\n",
      "\n",
      "Стратегии по минимизации риска отработали\n",
      "\n",
      "================================================================\n",
      "\n",
      "Временной промежуток: 2017-05-07 - 2018-05-07 обучаемся, на 2018-05-08 - 2018-05-14 считаем доходность \n",
      "\n",
      "Cкачивание данных завершено\n",
      "\n",
      "Предобработка данных завершена\n",
      "\n"
     ]
    },
    {
     "name": "stderr",
     "output_type": "stream",
     "text": [
      "100%|██████████| 41/41 [00:04<00:00,  9.53it/s]\n"
     ]
    },
    {
     "name": "stdout",
     "output_type": "stream",
     "text": [
      "Подсчет корреляции завершен\n",
      "\n",
      "Построение графа и подграфов завершены\n",
      "\n",
      "Подсчет мер центральности завершен\n",
      "\n",
      "Стратегии по максимизации доходности отработали\n",
      "\n",
      "Стратегии по минимизации риска отработали\n",
      "\n",
      "================================================================\n",
      "\n",
      "Временной промежуток: 2017-05-14 - 2018-05-14 обучаемся, на 2018-05-15 - 2018-05-21 считаем доходность \n",
      "\n",
      "Cкачивание данных завершено\n",
      "\n",
      "Предобработка данных завершена\n",
      "\n"
     ]
    },
    {
     "name": "stderr",
     "output_type": "stream",
     "text": [
      "100%|██████████| 41/41 [00:01<00:00, 23.64it/s]\n"
     ]
    },
    {
     "name": "stdout",
     "output_type": "stream",
     "text": [
      "Подсчет корреляции завершен\n",
      "\n",
      "Построение графа и подграфов завершены\n",
      "\n",
      "Подсчет мер центральности завершен\n",
      "\n",
      "Стратегии по максимизации доходности отработали\n",
      "\n",
      "Стратегии по минимизации риска отработали\n",
      "\n",
      "================================================================\n",
      "\n",
      "Временной промежуток: 2017-05-21 - 2018-05-21 обучаемся, на 2018-05-22 - 2018-05-28 считаем доходность \n",
      "\n",
      "Cкачивание данных завершено\n",
      "\n",
      "Предобработка данных завершена\n",
      "\n"
     ]
    },
    {
     "name": "stderr",
     "output_type": "stream",
     "text": [
      "100%|██████████| 41/41 [00:01<00:00, 25.48it/s]\n"
     ]
    },
    {
     "name": "stdout",
     "output_type": "stream",
     "text": [
      "Подсчет корреляции завершен\n",
      "\n",
      "Построение графа и подграфов завершены\n",
      "\n",
      "Подсчет мер центральности завершен\n",
      "\n",
      "Стратегии по максимизации доходности отработали\n",
      "\n",
      "Стратегии по минимизации риска отработали\n",
      "\n",
      "================================================================\n",
      "\n",
      "Временной промежуток: 2017-05-28 - 2018-05-28 обучаемся, на 2018-05-29 - 2018-06-04 считаем доходность \n",
      "\n",
      "Cкачивание данных завершено\n",
      "\n",
      "Предобработка данных завершена\n",
      "\n"
     ]
    },
    {
     "name": "stderr",
     "output_type": "stream",
     "text": [
      "100%|██████████| 41/41 [00:01<00:00, 25.73it/s]\n"
     ]
    },
    {
     "name": "stdout",
     "output_type": "stream",
     "text": [
      "Подсчет корреляции завершен\n",
      "\n",
      "Построение графа и подграфов завершены\n",
      "\n",
      "Подсчет мер центральности завершен\n",
      "\n",
      "Стратегии по максимизации доходности отработали\n",
      "\n",
      "Стратегии по минимизации риска отработали\n",
      "\n",
      "================================================================\n",
      "\n",
      "Временной промежуток: 2017-06-04 - 2018-06-04 обучаемся, на 2018-06-05 - 2018-06-11 считаем доходность \n",
      "\n",
      "Cкачивание данных завершено\n",
      "\n",
      "Предобработка данных завершена\n",
      "\n"
     ]
    },
    {
     "name": "stderr",
     "output_type": "stream",
     "text": [
      "100%|██████████| 41/41 [00:01<00:00, 20.99it/s]\n"
     ]
    },
    {
     "name": "stdout",
     "output_type": "stream",
     "text": [
      "Подсчет корреляции завершен\n",
      "\n",
      "Построение графа и подграфов завершены\n",
      "\n",
      "Подсчет мер центральности завершен\n",
      "\n",
      "Стратегии по максимизации доходности отработали\n",
      "\n",
      "Стратегии по минимизации риска отработали\n",
      "\n",
      "================================================================\n",
      "\n",
      "Временной промежуток: 2017-06-11 - 2018-06-11 обучаемся, на 2018-06-12 - 2018-06-18 считаем доходность \n",
      "\n",
      "Cкачивание данных завершено\n",
      "\n",
      "Предобработка данных завершена\n",
      "\n"
     ]
    },
    {
     "name": "stderr",
     "output_type": "stream",
     "text": [
      "100%|██████████| 41/41 [00:02<00:00, 18.85it/s]\n"
     ]
    },
    {
     "name": "stdout",
     "output_type": "stream",
     "text": [
      "Подсчет корреляции завершен\n",
      "\n",
      "Построение графа и подграфов завершены\n",
      "\n",
      "Подсчет мер центральности завершен\n",
      "\n",
      "Стратегии по максимизации доходности отработали\n",
      "\n",
      "Стратегии по минимизации риска отработали\n",
      "\n",
      "================================================================\n",
      "\n",
      "Временной промежуток: 2017-06-18 - 2018-06-18 обучаемся, на 2018-06-19 - 2018-06-25 считаем доходность \n",
      "\n",
      "Cкачивание данных завершено\n",
      "\n",
      "Предобработка данных завершена\n",
      "\n"
     ]
    },
    {
     "name": "stderr",
     "output_type": "stream",
     "text": [
      "100%|██████████| 41/41 [00:01<00:00, 30.47it/s]\n"
     ]
    },
    {
     "name": "stdout",
     "output_type": "stream",
     "text": [
      "Подсчет корреляции завершен\n",
      "\n",
      "Построение графа и подграфов завершены\n",
      "\n",
      "Подсчет мер центральности завершен\n",
      "\n",
      "Стратегии по максимизации доходности отработали\n",
      "\n",
      "Стратегии по минимизации риска отработали\n",
      "\n",
      "================================================================\n",
      "\n",
      "Временной промежуток: 2017-06-25 - 2018-06-25 обучаемся, на 2018-06-26 - 2018-07-02 считаем доходность \n",
      "\n",
      "Cкачивание данных завершено\n",
      "\n",
      "Предобработка данных завершена\n",
      "\n"
     ]
    },
    {
     "name": "stderr",
     "output_type": "stream",
     "text": [
      "100%|██████████| 41/41 [00:01<00:00, 21.51it/s]\n"
     ]
    },
    {
     "name": "stdout",
     "output_type": "stream",
     "text": [
      "Подсчет корреляции завершен\n",
      "\n",
      "Построение графа и подграфов завершены\n",
      "\n",
      "Подсчет мер центральности завершен\n",
      "\n",
      "Стратегии по максимизации доходности отработали\n",
      "\n",
      "Стратегии по минимизации риска отработали\n",
      "\n",
      "================================================================\n",
      "\n",
      "Временной промежуток: 2017-07-02 - 2018-07-02 обучаемся, на 2018-07-03 - 2018-07-09 считаем доходность \n",
      "\n",
      "Cкачивание данных завершено\n",
      "\n",
      "Предобработка данных завершена\n",
      "\n"
     ]
    },
    {
     "name": "stderr",
     "output_type": "stream",
     "text": [
      "100%|██████████| 41/41 [00:02<00:00, 19.77it/s]\n"
     ]
    },
    {
     "name": "stdout",
     "output_type": "stream",
     "text": [
      "Подсчет корреляции завершен\n",
      "\n",
      "Построение графа и подграфов завершены\n",
      "\n",
      "Подсчет мер центральности завершен\n",
      "\n",
      "Стратегии по максимизации доходности отработали\n",
      "\n",
      "Стратегии по минимизации риска отработали\n",
      "\n",
      "================================================================\n",
      "\n",
      "Временной промежуток: 2017-07-09 - 2018-07-09 обучаемся, на 2018-07-10 - 2018-07-16 считаем доходность \n",
      "\n",
      "Cкачивание данных завершено\n",
      "\n",
      "Предобработка данных завершена\n",
      "\n"
     ]
    },
    {
     "name": "stderr",
     "output_type": "stream",
     "text": [
      "100%|██████████| 41/41 [00:01<00:00, 22.82it/s]\n"
     ]
    },
    {
     "name": "stdout",
     "output_type": "stream",
     "text": [
      "Подсчет корреляции завершен\n",
      "\n",
      "Построение графа и подграфов завершены\n",
      "\n",
      "Подсчет мер центральности завершен\n",
      "\n",
      "Стратегии по максимизации доходности отработали\n",
      "\n",
      "Стратегии по минимизации риска отработали\n",
      "\n",
      "================================================================\n",
      "\n",
      "Временной промежуток: 2017-07-16 - 2018-07-16 обучаемся, на 2018-07-17 - 2018-07-23 считаем доходность \n",
      "\n",
      "Cкачивание данных завершено\n",
      "\n",
      "Предобработка данных завершена\n",
      "\n"
     ]
    },
    {
     "name": "stderr",
     "output_type": "stream",
     "text": [
      "100%|██████████| 41/41 [00:01<00:00, 22.11it/s]\n"
     ]
    },
    {
     "name": "stdout",
     "output_type": "stream",
     "text": [
      "Подсчет корреляции завершен\n",
      "\n",
      "Построение графа и подграфов завершены\n",
      "\n",
      "Подсчет мер центральности завершен\n",
      "\n",
      "Стратегии по максимизации доходности отработали\n",
      "\n",
      "Стратегии по минимизации риска отработали\n",
      "\n",
      "================================================================\n",
      "\n",
      "Временной промежуток: 2017-07-23 - 2018-07-23 обучаемся, на 2018-07-24 - 2018-07-30 считаем доходность \n",
      "\n",
      "Cкачивание данных завершено\n",
      "\n",
      "Предобработка данных завершена\n",
      "\n"
     ]
    },
    {
     "name": "stderr",
     "output_type": "stream",
     "text": [
      "100%|██████████| 41/41 [00:01<00:00, 20.50it/s]\n"
     ]
    },
    {
     "name": "stdout",
     "output_type": "stream",
     "text": [
      "Подсчет корреляции завершен\n",
      "\n",
      "Построение графа и подграфов завершены\n",
      "\n",
      "Подсчет мер центральности завершен\n",
      "\n",
      "Стратегии по максимизации доходности отработали\n",
      "\n",
      "Стратегии по минимизации риска отработали\n",
      "\n",
      "================================================================\n",
      "\n",
      "Временной промежуток: 2017-07-30 - 2018-07-30 обучаемся, на 2018-07-31 - 2018-08-06 считаем доходность \n",
      "\n",
      "Cкачивание данных завершено\n",
      "\n",
      "Предобработка данных завершена\n",
      "\n"
     ]
    },
    {
     "name": "stderr",
     "output_type": "stream",
     "text": [
      "100%|██████████| 41/41 [00:01<00:00, 22.74it/s]\n"
     ]
    },
    {
     "name": "stdout",
     "output_type": "stream",
     "text": [
      "Подсчет корреляции завершен\n",
      "\n",
      "Построение графа и подграфов завершены\n",
      "\n",
      "Подсчет мер центральности завершен\n",
      "\n",
      "Стратегии по максимизации доходности отработали\n",
      "\n",
      "Стратегии по минимизации риска отработали\n",
      "\n",
      "================================================================\n",
      "\n",
      "Временной промежуток: 2017-08-06 - 2018-08-06 обучаемся, на 2018-08-07 - 2018-08-13 считаем доходность \n",
      "\n",
      "Cкачивание данных завершено\n",
      "\n",
      "Предобработка данных завершена\n",
      "\n"
     ]
    },
    {
     "name": "stderr",
     "output_type": "stream",
     "text": [
      "100%|██████████| 41/41 [00:01<00:00, 23.22it/s]\n"
     ]
    },
    {
     "name": "stdout",
     "output_type": "stream",
     "text": [
      "Подсчет корреляции завершен\n",
      "\n",
      "Построение графа и подграфов завершены\n",
      "\n",
      "Подсчет мер центральности завершен\n",
      "\n",
      "Стратегии по максимизации доходности отработали\n",
      "\n",
      "Стратегии по минимизации риска отработали\n",
      "\n",
      "================================================================\n",
      "\n",
      "Временной промежуток: 2017-08-13 - 2018-08-13 обучаемся, на 2018-08-14 - 2018-08-20 считаем доходность \n",
      "\n",
      "Cкачивание данных завершено\n",
      "\n",
      "Предобработка данных завершена\n",
      "\n"
     ]
    },
    {
     "name": "stderr",
     "output_type": "stream",
     "text": [
      "100%|██████████| 41/41 [00:01<00:00, 28.51it/s]\n"
     ]
    },
    {
     "name": "stdout",
     "output_type": "stream",
     "text": [
      "Подсчет корреляции завершен\n",
      "\n",
      "Построение графа и подграфов завершены\n",
      "\n",
      "Подсчет мер центральности завершен\n",
      "\n",
      "Стратегии по максимизации доходности отработали\n",
      "\n",
      "Стратегии по минимизации риска отработали\n",
      "\n",
      "================================================================\n",
      "\n",
      "Временной промежуток: 2017-08-20 - 2018-08-20 обучаемся, на 2018-08-21 - 2018-08-27 считаем доходность \n",
      "\n",
      "Cкачивание данных завершено\n",
      "\n",
      "Предобработка данных завершена\n",
      "\n"
     ]
    },
    {
     "name": "stderr",
     "output_type": "stream",
     "text": [
      "100%|██████████| 41/41 [00:01<00:00, 25.98it/s]\n"
     ]
    },
    {
     "name": "stdout",
     "output_type": "stream",
     "text": [
      "Подсчет корреляции завершен\n",
      "\n",
      "Построение графа и подграфов завершены\n",
      "\n",
      "Подсчет мер центральности завершен\n",
      "\n",
      "Стратегии по максимизации доходности отработали\n",
      "\n",
      "Стратегии по минимизации риска отработали\n",
      "\n",
      "================================================================\n",
      "\n",
      "Временной промежуток: 2017-08-27 - 2018-08-27 обучаемся, на 2018-08-28 - 2018-09-03 считаем доходность \n",
      "\n",
      "Cкачивание данных завершено\n",
      "\n",
      "Предобработка данных завершена\n",
      "\n"
     ]
    },
    {
     "name": "stderr",
     "output_type": "stream",
     "text": [
      "100%|██████████| 41/41 [00:01<00:00, 27.62it/s]\n"
     ]
    },
    {
     "name": "stdout",
     "output_type": "stream",
     "text": [
      "Подсчет корреляции завершен\n",
      "\n",
      "Построение графа и подграфов завершены\n",
      "\n",
      "Подсчет мер центральности завершен\n",
      "\n",
      "Стратегии по максимизации доходности отработали\n",
      "\n",
      "Стратегии по минимизации риска отработали\n",
      "\n",
      "================================================================\n",
      "\n",
      "Временной промежуток: 2017-09-03 - 2018-09-03 обучаемся, на 2018-09-04 - 2018-09-10 считаем доходность \n",
      "\n",
      "Cкачивание данных завершено\n",
      "\n",
      "Предобработка данных завершена\n",
      "\n"
     ]
    },
    {
     "name": "stderr",
     "output_type": "stream",
     "text": [
      "100%|██████████| 41/41 [00:01<00:00, 27.05it/s]\n"
     ]
    },
    {
     "name": "stdout",
     "output_type": "stream",
     "text": [
      "Подсчет корреляции завершен\n",
      "\n",
      "Построение графа и подграфов завершены\n",
      "\n",
      "Подсчет мер центральности завершен\n",
      "\n",
      "Стратегии по максимизации доходности отработали\n",
      "\n",
      "Стратегии по минимизации риска отработали\n",
      "\n",
      "================================================================\n",
      "\n",
      "Временной промежуток: 2017-09-10 - 2018-09-10 обучаемся, на 2018-09-11 - 2018-09-17 считаем доходность \n",
      "\n",
      "Cкачивание данных завершено\n",
      "\n",
      "Предобработка данных завершена\n",
      "\n"
     ]
    },
    {
     "name": "stderr",
     "output_type": "stream",
     "text": [
      "100%|██████████| 41/41 [00:01<00:00, 27.91it/s]\n"
     ]
    },
    {
     "name": "stdout",
     "output_type": "stream",
     "text": [
      "Подсчет корреляции завершен\n",
      "\n",
      "Построение графа и подграфов завершены\n",
      "\n",
      "Подсчет мер центральности завершен\n",
      "\n",
      "Стратегии по максимизации доходности отработали\n",
      "\n",
      "Стратегии по минимизации риска отработали\n",
      "\n",
      "================================================================\n",
      "\n",
      "Временной промежуток: 2017-09-17 - 2018-09-17 обучаемся, на 2018-09-18 - 2018-09-24 считаем доходность \n",
      "\n",
      "Cкачивание данных завершено\n",
      "\n",
      "Предобработка данных завершена\n",
      "\n"
     ]
    },
    {
     "name": "stderr",
     "output_type": "stream",
     "text": [
      "100%|██████████| 41/41 [00:01<00:00, 26.85it/s]\n"
     ]
    },
    {
     "name": "stdout",
     "output_type": "stream",
     "text": [
      "Подсчет корреляции завершен\n",
      "\n",
      "Построение графа и подграфов завершены\n",
      "\n",
      "Подсчет мер центральности завершен\n",
      "\n",
      "Стратегии по максимизации доходности отработали\n",
      "\n",
      "Стратегии по минимизации риска отработали\n",
      "\n",
      "================================================================\n",
      "\n",
      "Временной промежуток: 2017-09-24 - 2018-09-24 обучаемся, на 2018-09-25 - 2018-10-01 считаем доходность \n",
      "\n",
      "Cкачивание данных завершено\n",
      "\n",
      "Предобработка данных завершена\n",
      "\n"
     ]
    },
    {
     "name": "stderr",
     "output_type": "stream",
     "text": [
      "100%|██████████| 41/41 [00:01<00:00, 26.24it/s]\n"
     ]
    },
    {
     "name": "stdout",
     "output_type": "stream",
     "text": [
      "Подсчет корреляции завершен\n",
      "\n",
      "Построение графа и подграфов завершены\n",
      "\n",
      "Подсчет мер центральности завершен\n",
      "\n",
      "Стратегии по максимизации доходности отработали\n",
      "\n"
     ]
    },
    {
     "name": "stderr",
     "output_type": "stream",
     "text": [
      "c:\\Users\\dsfs-\\AppData\\Local\\Programs\\Python\\Python39\\lib\\site-packages\\scipy\\optimize\\_optimize.py:353: RuntimeWarning: Values in x were outside bounds during a minimize step, clipping to bounds\n",
      "  warnings.warn(\"Values in x were outside bounds during a \"\n"
     ]
    },
    {
     "name": "stdout",
     "output_type": "stream",
     "text": [
      "Стратегии по минимизации риска отработали\n",
      "\n",
      "================================================================\n",
      "\n",
      "Временной промежуток: 2017-10-01 - 2018-10-01 обучаемся, на 2018-10-02 - 2018-10-08 считаем доходность \n",
      "\n",
      "Cкачивание данных завершено\n",
      "\n",
      "Предобработка данных завершена\n",
      "\n"
     ]
    },
    {
     "name": "stderr",
     "output_type": "stream",
     "text": [
      "100%|██████████| 41/41 [00:01<00:00, 29.48it/s]\n"
     ]
    },
    {
     "name": "stdout",
     "output_type": "stream",
     "text": [
      "Подсчет корреляции завершен\n",
      "\n",
      "Построение графа и подграфов завершены\n",
      "\n",
      "Подсчет мер центральности завершен\n",
      "\n",
      "Стратегии по максимизации доходности отработали\n",
      "\n",
      "Стратегии по минимизации риска отработали\n",
      "\n",
      "================================================================\n",
      "\n",
      "Временной промежуток: 2017-10-08 - 2018-10-08 обучаемся, на 2018-10-09 - 2018-10-15 считаем доходность \n",
      "\n",
      "Cкачивание данных завершено\n",
      "\n",
      "Предобработка данных завершена\n",
      "\n"
     ]
    },
    {
     "name": "stderr",
     "output_type": "stream",
     "text": [
      "100%|██████████| 41/41 [00:01<00:00, 30.16it/s]\n"
     ]
    },
    {
     "name": "stdout",
     "output_type": "stream",
     "text": [
      "Подсчет корреляции завершен\n",
      "\n",
      "Построение графа и подграфов завершены\n",
      "\n",
      "Подсчет мер центральности завершен\n",
      "\n",
      "Стратегии по максимизации доходности отработали\n",
      "\n",
      "Стратегии по минимизации риска отработали\n",
      "\n",
      "================================================================\n",
      "\n",
      "Временной промежуток: 2017-10-15 - 2018-10-15 обучаемся, на 2018-10-16 - 2018-10-22 считаем доходность \n",
      "\n",
      "Cкачивание данных завершено\n",
      "\n",
      "Предобработка данных завершена\n",
      "\n"
     ]
    },
    {
     "name": "stderr",
     "output_type": "stream",
     "text": [
      "100%|██████████| 41/41 [00:01<00:00, 33.22it/s]\n"
     ]
    },
    {
     "name": "stdout",
     "output_type": "stream",
     "text": [
      "Подсчет корреляции завершен\n",
      "\n",
      "Построение графа и подграфов завершены\n",
      "\n",
      "Подсчет мер центральности завершен\n",
      "\n",
      "Стратегии по максимизации доходности отработали\n",
      "\n",
      "Стратегии по минимизации риска отработали\n",
      "\n",
      "================================================================\n",
      "\n",
      "Временной промежуток: 2017-10-22 - 2018-10-22 обучаемся, на 2018-10-23 - 2018-10-29 считаем доходность \n",
      "\n",
      "Cкачивание данных завершено\n",
      "\n",
      "Предобработка данных завершена\n",
      "\n"
     ]
    },
    {
     "name": "stderr",
     "output_type": "stream",
     "text": [
      "100%|██████████| 41/41 [00:01<00:00, 34.08it/s]\n"
     ]
    },
    {
     "name": "stdout",
     "output_type": "stream",
     "text": [
      "Подсчет корреляции завершен\n",
      "\n",
      "Построение графа и подграфов завершены\n",
      "\n",
      "Подсчет мер центральности завершен\n",
      "\n",
      "Стратегии по максимизации доходности отработали\n",
      "\n",
      "Стратегии по минимизации риска отработали\n",
      "\n",
      "================================================================\n",
      "\n",
      "Временной промежуток: 2017-10-29 - 2018-10-29 обучаемся, на 2018-10-30 - 2018-11-05 считаем доходность \n",
      "\n",
      "Cкачивание данных завершено\n",
      "\n",
      "Предобработка данных завершена\n",
      "\n"
     ]
    },
    {
     "name": "stderr",
     "output_type": "stream",
     "text": [
      "100%|██████████| 41/41 [00:01<00:00, 34.99it/s]\n"
     ]
    },
    {
     "name": "stdout",
     "output_type": "stream",
     "text": [
      "Подсчет корреляции завершен\n",
      "\n",
      "Построение графа и подграфов завершены\n",
      "\n",
      "Подсчет мер центральности завершен\n",
      "\n",
      "Стратегии по максимизации доходности отработали\n",
      "\n",
      "Стратегии по минимизации риска отработали\n",
      "\n",
      "================================================================\n",
      "\n",
      "Временной промежуток: 2017-11-05 - 2018-11-05 обучаемся, на 2018-11-06 - 2018-11-12 считаем доходность \n",
      "\n",
      "Cкачивание данных завершено\n",
      "\n",
      "Предобработка данных завершена\n",
      "\n"
     ]
    },
    {
     "name": "stderr",
     "output_type": "stream",
     "text": [
      "100%|██████████| 41/41 [00:01<00:00, 36.44it/s]\n"
     ]
    },
    {
     "name": "stdout",
     "output_type": "stream",
     "text": [
      "Подсчет корреляции завершен\n",
      "\n",
      "Построение графа и подграфов завершены\n",
      "\n",
      "Подсчет мер центральности завершен\n",
      "\n",
      "Стратегии по максимизации доходности отработали\n",
      "\n",
      "Стратегии по минимизации риска отработали\n",
      "\n",
      "================================================================\n",
      "\n",
      "Временной промежуток: 2017-11-12 - 2018-11-12 обучаемся, на 2018-11-13 - 2018-11-19 считаем доходность \n",
      "\n",
      "Cкачивание данных завершено\n",
      "\n",
      "Предобработка данных завершена\n",
      "\n"
     ]
    },
    {
     "name": "stderr",
     "output_type": "stream",
     "text": [
      "100%|██████████| 41/41 [00:01<00:00, 35.94it/s]\n"
     ]
    },
    {
     "name": "stdout",
     "output_type": "stream",
     "text": [
      "Подсчет корреляции завершен\n",
      "\n",
      "Построение графа и подграфов завершены\n",
      "\n",
      "Подсчет мер центральности завершен\n",
      "\n",
      "Стратегии по максимизации доходности отработали\n",
      "\n",
      "Стратегии по минимизации риска отработали\n",
      "\n",
      "================================================================\n",
      "\n",
      "Временной промежуток: 2017-11-19 - 2018-11-19 обучаемся, на 2018-11-20 - 2018-11-26 считаем доходность \n",
      "\n",
      "Cкачивание данных завершено\n",
      "\n",
      "Предобработка данных завершена\n",
      "\n"
     ]
    },
    {
     "name": "stderr",
     "output_type": "stream",
     "text": [
      "100%|██████████| 41/41 [00:01<00:00, 25.36it/s]\n"
     ]
    },
    {
     "name": "stdout",
     "output_type": "stream",
     "text": [
      "Подсчет корреляции завершен\n",
      "\n",
      "Построение графа и подграфов завершены\n",
      "\n",
      "Подсчет мер центральности завершен\n",
      "\n",
      "Стратегии по максимизации доходности отработали\n",
      "\n",
      "Стратегии по минимизации риска отработали\n",
      "\n",
      "================================================================\n",
      "\n",
      "Временной промежуток: 2017-11-26 - 2018-11-26 обучаемся, на 2018-11-27 - 2018-12-03 считаем доходность \n",
      "\n",
      "Cкачивание данных завершено\n",
      "\n",
      "Предобработка данных завершена\n",
      "\n"
     ]
    },
    {
     "name": "stderr",
     "output_type": "stream",
     "text": [
      "100%|██████████| 41/41 [00:01<00:00, 37.48it/s]\n"
     ]
    },
    {
     "name": "stdout",
     "output_type": "stream",
     "text": [
      "Подсчет корреляции завершен\n",
      "\n",
      "Построение графа и подграфов завершены\n",
      "\n",
      "Подсчет мер центральности завершен\n",
      "\n",
      "Стратегии по максимизации доходности отработали\n",
      "\n",
      "Стратегии по минимизации риска отработали\n",
      "\n",
      "================================================================\n",
      "\n",
      "Временной промежуток: 2017-12-03 - 2018-12-03 обучаемся, на 2018-12-04 - 2018-12-10 считаем доходность \n",
      "\n",
      "Cкачивание данных завершено\n",
      "\n",
      "Предобработка данных завершена\n",
      "\n"
     ]
    },
    {
     "name": "stderr",
     "output_type": "stream",
     "text": [
      "100%|██████████| 41/41 [00:01<00:00, 29.46it/s]\n"
     ]
    },
    {
     "name": "stdout",
     "output_type": "stream",
     "text": [
      "Подсчет корреляции завершен\n",
      "\n",
      "Построение графа и подграфов завершены\n",
      "\n",
      "Подсчет мер центральности завершен\n",
      "\n",
      "Стратегии по максимизации доходности отработали\n",
      "\n",
      "Стратегии по минимизации риска отработали\n",
      "\n",
      "================================================================\n",
      "\n",
      "Временной промежуток: 2017-12-10 - 2018-12-10 обучаемся, на 2018-12-11 - 2018-12-17 считаем доходность \n",
      "\n",
      "Cкачивание данных завершено\n",
      "\n",
      "Предобработка данных завершена\n",
      "\n"
     ]
    },
    {
     "name": "stderr",
     "output_type": "stream",
     "text": [
      "100%|██████████| 41/41 [00:01<00:00, 34.74it/s]\n"
     ]
    },
    {
     "name": "stdout",
     "output_type": "stream",
     "text": [
      "Подсчет корреляции завершен\n",
      "\n",
      "Построение графа и подграфов завершены\n",
      "\n",
      "Подсчет мер центральности завершен\n",
      "\n",
      "Стратегии по максимизации доходности отработали\n",
      "\n",
      "Стратегии по минимизации риска отработали\n",
      "\n",
      "================================================================\n",
      "\n",
      "Временной промежуток: 2017-12-17 - 2018-12-17 обучаемся, на 2018-12-18 - 2018-12-24 считаем доходность \n",
      "\n",
      "Cкачивание данных завершено\n",
      "\n",
      "Предобработка данных завершена\n",
      "\n"
     ]
    },
    {
     "name": "stderr",
     "output_type": "stream",
     "text": [
      "100%|██████████| 41/41 [00:01<00:00, 36.44it/s]\n"
     ]
    },
    {
     "name": "stdout",
     "output_type": "stream",
     "text": [
      "Подсчет корреляции завершен\n",
      "\n",
      "Построение графа и подграфов завершены\n",
      "\n",
      "Подсчет мер центральности завершен\n",
      "\n",
      "Стратегии по максимизации доходности отработали\n",
      "\n",
      "Стратегии по минимизации риска отработали\n",
      "\n",
      "================================================================\n",
      "\n",
      "Временной промежуток: 2017-12-24 - 2018-12-24 обучаемся, на 2018-12-25 - 2018-12-31 считаем доходность \n",
      "\n",
      "Cкачивание данных завершено\n",
      "\n",
      "Предобработка данных завершена\n",
      "\n"
     ]
    },
    {
     "name": "stderr",
     "output_type": "stream",
     "text": [
      "100%|██████████| 41/41 [00:01<00:00, 33.42it/s]\n"
     ]
    },
    {
     "name": "stdout",
     "output_type": "stream",
     "text": [
      "Подсчет корреляции завершен\n",
      "\n",
      "Построение графа и подграфов завершены\n",
      "\n",
      "Подсчет мер центральности завершен\n",
      "\n",
      "Стратегии по максимизации доходности отработали\n",
      "\n",
      "Стратегии по минимизации риска отработали\n",
      "\n",
      "================================================================\n",
      "\n",
      "Временной промежуток: 2017-12-31 - 2018-12-31 обучаемся, на 2019-01-01 - 2019-01-07 считаем доходность \n",
      "\n",
      "Cкачивание данных завершено\n",
      "\n",
      "Предобработка данных завершена\n",
      "\n"
     ]
    },
    {
     "name": "stderr",
     "output_type": "stream",
     "text": [
      "100%|██████████| 41/41 [00:02<00:00, 18.48it/s]\n"
     ]
    },
    {
     "name": "stdout",
     "output_type": "stream",
     "text": [
      "Подсчет корреляции завершен\n",
      "\n",
      "Построение графа и подграфов завершены\n",
      "\n",
      "Подсчет мер центральности завершен\n",
      "\n",
      "Стратегии по максимизации доходности отработали\n",
      "\n",
      "Стратегии по минимизации риска отработали\n",
      "\n",
      "================================================================\n",
      "\n",
      "Временной промежуток: 2018-01-07 - 2019-01-07 обучаемся, на 2019-01-08 - 2019-01-14 считаем доходность \n",
      "\n",
      "Cкачивание данных завершено\n",
      "\n",
      "Предобработка данных завершена\n",
      "\n"
     ]
    },
    {
     "name": "stderr",
     "output_type": "stream",
     "text": [
      "100%|██████████| 41/41 [00:00<00:00, 42.76it/s]\n"
     ]
    },
    {
     "name": "stdout",
     "output_type": "stream",
     "text": [
      "Подсчет корреляции завершен\n",
      "\n",
      "Построение графа и подграфов завершены\n",
      "\n",
      "Подсчет мер центральности завершен\n",
      "\n",
      "Стратегии по максимизации доходности отработали\n",
      "\n",
      "Стратегии по минимизации риска отработали\n",
      "\n",
      "================================================================\n",
      "\n",
      "Временной промежуток: 2018-01-14 - 2019-01-14 обучаемся, на 2019-01-15 - 2019-01-21 считаем доходность \n",
      "\n",
      "Cкачивание данных завершено\n",
      "\n",
      "Предобработка данных завершена\n",
      "\n"
     ]
    },
    {
     "name": "stderr",
     "output_type": "stream",
     "text": [
      "100%|██████████| 41/41 [00:00<00:00, 49.51it/s]\n"
     ]
    },
    {
     "name": "stdout",
     "output_type": "stream",
     "text": [
      "Подсчет корреляции завершен\n",
      "\n",
      "Построение графа и подграфов завершены\n",
      "\n",
      "Подсчет мер центральности завершен\n",
      "\n",
      "Стратегии по максимизации доходности отработали\n",
      "\n",
      "Стратегии по минимизации риска отработали\n",
      "\n",
      "================================================================\n",
      "\n",
      "Временной промежуток: 2018-01-21 - 2019-01-21 обучаемся, на 2019-01-22 - 2019-01-28 считаем доходность \n",
      "\n",
      "Cкачивание данных завершено\n",
      "\n",
      "Предобработка данных завершена\n",
      "\n"
     ]
    },
    {
     "name": "stderr",
     "output_type": "stream",
     "text": [
      "100%|██████████| 41/41 [00:00<00:00, 42.32it/s]\n"
     ]
    },
    {
     "name": "stdout",
     "output_type": "stream",
     "text": [
      "Подсчет корреляции завершен\n",
      "\n",
      "Построение графа и подграфов завершены\n",
      "\n",
      "Подсчет мер центральности завершен\n",
      "\n",
      "Стратегии по максимизации доходности отработали\n",
      "\n",
      "Стратегии по минимизации риска отработали\n",
      "\n",
      "================================================================\n",
      "\n",
      "Временной промежуток: 2018-01-28 - 2019-01-28 обучаемся, на 2019-01-29 - 2019-02-04 считаем доходность \n",
      "\n",
      "Cкачивание данных завершено\n",
      "\n",
      "Предобработка данных завершена\n",
      "\n"
     ]
    },
    {
     "name": "stderr",
     "output_type": "stream",
     "text": [
      "100%|██████████| 41/41 [00:00<00:00, 43.02it/s]\n"
     ]
    },
    {
     "name": "stdout",
     "output_type": "stream",
     "text": [
      "Подсчет корреляции завершен\n",
      "\n",
      "Построение графа и подграфов завершены\n",
      "\n",
      "Подсчет мер центральности завершен\n",
      "\n",
      "Стратегии по максимизации доходности отработали\n",
      "\n",
      "Стратегии по минимизации риска отработали\n",
      "\n",
      "================================================================\n",
      "\n",
      "Временной промежуток: 2018-02-04 - 2019-02-04 обучаемся, на 2019-02-05 - 2019-02-11 считаем доходность \n",
      "\n",
      "Cкачивание данных завершено\n",
      "\n",
      "Предобработка данных завершена\n",
      "\n"
     ]
    },
    {
     "name": "stderr",
     "output_type": "stream",
     "text": [
      "100%|██████████| 41/41 [00:00<00:00, 50.46it/s]\n"
     ]
    },
    {
     "name": "stdout",
     "output_type": "stream",
     "text": [
      "Подсчет корреляции завершен\n",
      "\n",
      "Построение графа и подграфов завершены\n",
      "\n",
      "Подсчет мер центральности завершен\n",
      "\n",
      "Стратегии по максимизации доходности отработали\n",
      "\n",
      "Стратегии по минимизации риска отработали\n",
      "\n",
      "================================================================\n",
      "\n",
      "Временной промежуток: 2018-02-11 - 2019-02-11 обучаемся, на 2019-02-12 - 2019-02-18 считаем доходность \n",
      "\n",
      "Cкачивание данных завершено\n",
      "\n",
      "Предобработка данных завершена\n",
      "\n"
     ]
    },
    {
     "name": "stderr",
     "output_type": "stream",
     "text": [
      "100%|██████████| 41/41 [00:00<00:00, 47.74it/s]\n"
     ]
    },
    {
     "name": "stdout",
     "output_type": "stream",
     "text": [
      "Подсчет корреляции завершен\n",
      "\n",
      "Построение графа и подграфов завершены\n",
      "\n",
      "Подсчет мер центральности завершен\n",
      "\n",
      "Стратегии по максимизации доходности отработали\n",
      "\n",
      "Стратегии по минимизации риска отработали\n",
      "\n",
      "================================================================\n",
      "\n",
      "Временной промежуток: 2018-02-18 - 2019-02-18 обучаемся, на 2019-02-19 - 2019-02-25 считаем доходность \n",
      "\n",
      "Cкачивание данных завершено\n",
      "\n",
      "Предобработка данных завершена\n",
      "\n"
     ]
    },
    {
     "name": "stderr",
     "output_type": "stream",
     "text": [
      "100%|██████████| 41/41 [00:00<00:00, 48.59it/s]\n"
     ]
    },
    {
     "name": "stdout",
     "output_type": "stream",
     "text": [
      "Подсчет корреляции завершен\n",
      "\n",
      "Построение графа и подграфов завершены\n",
      "\n",
      "Подсчет мер центральности завершен\n",
      "\n",
      "Стратегии по максимизации доходности отработали\n",
      "\n",
      "Стратегии по минимизации риска отработали\n",
      "\n",
      "================================================================\n",
      "\n",
      "Временной промежуток: 2018-02-25 - 2019-02-25 обучаемся, на 2019-02-26 - 2019-03-04 считаем доходность \n",
      "\n",
      "Cкачивание данных завершено\n",
      "\n",
      "Предобработка данных завершена\n",
      "\n"
     ]
    },
    {
     "name": "stderr",
     "output_type": "stream",
     "text": [
      "100%|██████████| 41/41 [00:00<00:00, 41.65it/s]\n"
     ]
    },
    {
     "name": "stdout",
     "output_type": "stream",
     "text": [
      "Подсчет корреляции завершен\n",
      "\n",
      "Построение графа и подграфов завершены\n",
      "\n",
      "Подсчет мер центральности завершен\n",
      "\n",
      "Стратегии по максимизации доходности отработали\n",
      "\n",
      "Стратегии по минимизации риска отработали\n",
      "\n",
      "================================================================\n",
      "\n",
      "Временной промежуток: 2018-03-04 - 2019-03-04 обучаемся, на 2019-03-05 - 2019-03-11 считаем доходность \n",
      "\n",
      "Cкачивание данных завершено\n",
      "\n",
      "Предобработка данных завершена\n",
      "\n"
     ]
    },
    {
     "name": "stderr",
     "output_type": "stream",
     "text": [
      "100%|██████████| 41/41 [00:01<00:00, 38.03it/s]\n"
     ]
    },
    {
     "name": "stdout",
     "output_type": "stream",
     "text": [
      "Подсчет корреляции завершен\n",
      "\n",
      "Построение графа и подграфов завершены\n",
      "\n",
      "Подсчет мер центральности завершен\n",
      "\n",
      "Стратегии по максимизации доходности отработали\n",
      "\n",
      "Стратегии по минимизации риска отработали\n",
      "\n",
      "================================================================\n",
      "\n",
      "Временной промежуток: 2018-03-11 - 2019-03-11 обучаемся, на 2019-03-12 - 2019-03-18 считаем доходность \n",
      "\n",
      "Cкачивание данных завершено\n",
      "\n",
      "Предобработка данных завершена\n",
      "\n"
     ]
    },
    {
     "name": "stderr",
     "output_type": "stream",
     "text": [
      "100%|██████████| 41/41 [00:00<00:00, 44.48it/s]\n"
     ]
    },
    {
     "name": "stdout",
     "output_type": "stream",
     "text": [
      "Подсчет корреляции завершен\n",
      "\n",
      "Построение графа и подграфов завершены\n",
      "\n",
      "Подсчет мер центральности завершен\n",
      "\n",
      "Стратегии по максимизации доходности отработали\n",
      "\n",
      "Стратегии по минимизации риска отработали\n",
      "\n",
      "================================================================\n",
      "\n",
      "Временной промежуток: 2018-03-18 - 2019-03-18 обучаемся, на 2019-03-19 - 2019-03-25 считаем доходность \n",
      "\n",
      "Cкачивание данных завершено\n",
      "\n",
      "Предобработка данных завершена\n",
      "\n"
     ]
    },
    {
     "name": "stderr",
     "output_type": "stream",
     "text": [
      "100%|██████████| 41/41 [00:01<00:00, 33.22it/s]\n"
     ]
    },
    {
     "name": "stdout",
     "output_type": "stream",
     "text": [
      "Подсчет корреляции завершен\n",
      "\n",
      "Построение графа и подграфов завершены\n",
      "\n",
      "Подсчет мер центральности завершен\n",
      "\n",
      "Стратегии по максимизации доходности отработали\n",
      "\n",
      "Стратегии по минимизации риска отработали\n",
      "\n",
      "================================================================\n",
      "\n",
      "Временной промежуток: 2018-03-25 - 2019-03-25 обучаемся, на 2019-03-26 - 2019-04-01 считаем доходность \n",
      "\n",
      "Cкачивание данных завершено\n",
      "\n",
      "Предобработка данных завершена\n",
      "\n"
     ]
    },
    {
     "name": "stderr",
     "output_type": "stream",
     "text": [
      "100%|██████████| 41/41 [00:00<00:00, 44.48it/s]\n"
     ]
    },
    {
     "name": "stdout",
     "output_type": "stream",
     "text": [
      "Подсчет корреляции завершен\n",
      "\n",
      "Построение графа и подграфов завершены\n",
      "\n",
      "Подсчет мер центральности завершен\n",
      "\n",
      "Стратегии по максимизации доходности отработали\n",
      "\n",
      "Стратегии по минимизации риска отработали\n",
      "\n",
      "================================================================\n",
      "\n",
      "Временной промежуток: 2018-04-01 - 2019-04-01 обучаемся, на 2019-04-02 - 2019-04-08 считаем доходность \n",
      "\n",
      "Cкачивание данных завершено\n",
      "\n",
      "Предобработка данных завершена\n",
      "\n"
     ]
    },
    {
     "name": "stderr",
     "output_type": "stream",
     "text": [
      "100%|██████████| 41/41 [00:00<00:00, 41.00it/s]\n"
     ]
    },
    {
     "name": "stdout",
     "output_type": "stream",
     "text": [
      "Подсчет корреляции завершен\n",
      "\n",
      "Построение графа и подграфов завершены\n",
      "\n",
      "Подсчет мер центральности завершен\n",
      "\n",
      "Стратегии по максимизации доходности отработали\n",
      "\n",
      "Стратегии по минимизации риска отработали\n",
      "\n",
      "================================================================\n",
      "\n",
      "Временной промежуток: 2018-04-08 - 2019-04-08 обучаемся, на 2019-04-09 - 2019-04-15 считаем доходность \n",
      "\n",
      "Cкачивание данных завершено\n",
      "\n",
      "Предобработка данных завершена\n",
      "\n"
     ]
    },
    {
     "name": "stderr",
     "output_type": "stream",
     "text": [
      "100%|██████████| 41/41 [00:01<00:00, 37.49it/s]\n"
     ]
    },
    {
     "name": "stdout",
     "output_type": "stream",
     "text": [
      "Подсчет корреляции завершен\n",
      "\n",
      "Построение графа и подграфов завершены\n",
      "\n",
      "Подсчет мер центральности завершен\n",
      "\n",
      "Стратегии по максимизации доходности отработали\n",
      "\n",
      "Стратегии по минимизации риска отработали\n",
      "\n",
      "================================================================\n",
      "\n",
      "Временной промежуток: 2018-04-15 - 2019-04-15 обучаемся, на 2019-04-16 - 2019-04-22 считаем доходность \n",
      "\n",
      "Cкачивание данных завершено\n",
      "\n",
      "Предобработка данных завершена\n",
      "\n"
     ]
    },
    {
     "name": "stderr",
     "output_type": "stream",
     "text": [
      "100%|██████████| 41/41 [00:01<00:00, 31.61it/s]\n"
     ]
    },
    {
     "name": "stdout",
     "output_type": "stream",
     "text": [
      "Подсчет корреляции завершен\n",
      "\n",
      "Построение графа и подграфов завершены\n",
      "\n",
      "Подсчет мер центральности завершен\n",
      "\n",
      "Стратегии по максимизации доходности отработали\n",
      "\n",
      "Стратегии по минимизации риска отработали\n",
      "\n",
      "================================================================\n",
      "\n",
      "Временной промежуток: 2018-04-22 - 2019-04-22 обучаемся, на 2019-04-23 - 2019-04-29 считаем доходность \n",
      "\n",
      "Cкачивание данных завершено\n",
      "\n",
      "Предобработка данных завершена\n",
      "\n"
     ]
    },
    {
     "name": "stderr",
     "output_type": "stream",
     "text": [
      "100%|██████████| 41/41 [00:01<00:00, 36.96it/s]\n"
     ]
    },
    {
     "name": "stdout",
     "output_type": "stream",
     "text": [
      "Подсчет корреляции завершен\n",
      "\n",
      "Построение графа и подграфов завершены\n",
      "\n",
      "Подсчет мер центральности завершен\n",
      "\n",
      "Стратегии по максимизации доходности отработали\n",
      "\n",
      "Стратегии по минимизации риска отработали\n",
      "\n",
      "================================================================\n",
      "\n",
      "Временной промежуток: 2018-04-29 - 2019-04-29 обучаемся, на 2019-04-30 - 2019-05-06 считаем доходность \n",
      "\n",
      "Cкачивание данных завершено\n",
      "\n",
      "Предобработка данных завершена\n",
      "\n"
     ]
    },
    {
     "name": "stderr",
     "output_type": "stream",
     "text": [
      "100%|██████████| 41/41 [00:01<00:00, 35.04it/s]\n"
     ]
    },
    {
     "name": "stdout",
     "output_type": "stream",
     "text": [
      "Подсчет корреляции завершен\n",
      "\n",
      "Построение графа и подграфов завершены\n",
      "\n",
      "Подсчет мер центральности завершен\n",
      "\n",
      "Стратегии по максимизации доходности отработали\n",
      "\n",
      "Стратегии по минимизации риска отработали\n",
      "\n",
      "================================================================\n",
      "\n",
      "Временной промежуток: 2018-05-06 - 2019-05-06 обучаемся, на 2019-05-07 - 2019-05-13 считаем доходность \n",
      "\n",
      "Cкачивание данных завершено\n",
      "\n",
      "Предобработка данных завершена\n",
      "\n"
     ]
    },
    {
     "name": "stderr",
     "output_type": "stream",
     "text": [
      "100%|██████████| 41/41 [00:01<00:00, 29.16it/s]\n"
     ]
    },
    {
     "name": "stdout",
     "output_type": "stream",
     "text": [
      "Подсчет корреляции завершен\n",
      "\n",
      "Построение графа и подграфов завершены\n",
      "\n",
      "Подсчет мер центральности завершен\n",
      "\n",
      "Стратегии по максимизации доходности отработали\n",
      "\n",
      "Стратегии по минимизации риска отработали\n",
      "\n",
      "================================================================\n",
      "\n",
      "Временной промежуток: 2018-05-13 - 2019-05-13 обучаемся, на 2019-05-14 - 2019-05-20 считаем доходность \n",
      "\n",
      "Cкачивание данных завершено\n",
      "\n",
      "Предобработка данных завершена\n",
      "\n"
     ]
    },
    {
     "name": "stderr",
     "output_type": "stream",
     "text": [
      "100%|██████████| 41/41 [00:01<00:00, 32.80it/s]\n"
     ]
    },
    {
     "name": "stdout",
     "output_type": "stream",
     "text": [
      "Подсчет корреляции завершен\n",
      "\n",
      "Построение графа и подграфов завершены\n",
      "\n",
      "Подсчет мер центральности завершен\n",
      "\n",
      "Стратегии по максимизации доходности отработали\n",
      "\n",
      "Стратегии по минимизации риска отработали\n",
      "\n",
      "================================================================\n",
      "\n",
      "Временной промежуток: 2018-05-20 - 2019-05-20 обучаемся, на 2019-05-21 - 2019-05-27 считаем доходность \n",
      "\n",
      "Cкачивание данных завершено\n",
      "\n",
      "Предобработка данных завершена\n",
      "\n"
     ]
    },
    {
     "name": "stderr",
     "output_type": "stream",
     "text": [
      "100%|██████████| 41/41 [00:01<00:00, 34.53it/s]\n"
     ]
    },
    {
     "name": "stdout",
     "output_type": "stream",
     "text": [
      "Подсчет корреляции завершен\n",
      "\n",
      "Построение графа и подграфов завершены\n",
      "\n",
      "Подсчет мер центральности завершен\n",
      "\n",
      "Стратегии по максимизации доходности отработали\n",
      "\n",
      "Стратегии по минимизации риска отработали\n",
      "\n",
      "================================================================\n",
      "\n",
      "Временной промежуток: 2018-05-27 - 2019-05-27 обучаемся, на 2019-05-28 - 2019-06-03 считаем доходность \n",
      "\n",
      "Cкачивание данных завершено\n",
      "\n",
      "Предобработка данных завершена\n",
      "\n"
     ]
    },
    {
     "name": "stderr",
     "output_type": "stream",
     "text": [
      "100%|██████████| 41/41 [00:01<00:00, 25.73it/s]\n"
     ]
    },
    {
     "name": "stdout",
     "output_type": "stream",
     "text": [
      "Подсчет корреляции завершен\n",
      "\n",
      "Построение графа и подграфов завершены\n",
      "\n",
      "Подсчет мер центральности завершен\n",
      "\n",
      "Стратегии по максимизации доходности отработали\n",
      "\n",
      "Стратегии по минимизации риска отработали\n",
      "\n",
      "================================================================\n",
      "\n",
      "Временной промежуток: 2018-06-03 - 2019-06-03 обучаемся, на 2019-06-04 - 2019-06-10 считаем доходность \n",
      "\n",
      "Cкачивание данных завершено\n",
      "\n",
      "Предобработка данных завершена\n",
      "\n"
     ]
    },
    {
     "name": "stderr",
     "output_type": "stream",
     "text": [
      "100%|██████████| 41/41 [00:01<00:00, 21.71it/s]\n"
     ]
    },
    {
     "name": "stdout",
     "output_type": "stream",
     "text": [
      "Подсчет корреляции завершен\n",
      "\n",
      "Построение графа и подграфов завершены\n",
      "\n",
      "Подсчет мер центральности завершен\n",
      "\n",
      "Стратегии по максимизации доходности отработали\n",
      "\n",
      "Стратегии по минимизации риска отработали\n",
      "\n",
      "================================================================\n",
      "\n",
      "Временной промежуток: 2018-06-10 - 2019-06-10 обучаемся, на 2019-06-11 - 2019-06-17 считаем доходность \n",
      "\n",
      "Cкачивание данных завершено\n",
      "\n",
      "Предобработка данных завершена\n",
      "\n"
     ]
    },
    {
     "name": "stderr",
     "output_type": "stream",
     "text": [
      "100%|██████████| 41/41 [00:01<00:00, 23.64it/s]\n"
     ]
    },
    {
     "name": "stdout",
     "output_type": "stream",
     "text": [
      "Подсчет корреляции завершен\n",
      "\n",
      "Построение графа и подграфов завершены\n",
      "\n",
      "Подсчет мер центральности завершен\n",
      "\n",
      "Стратегии по максимизации доходности отработали\n",
      "\n",
      "Стратегии по минимизации риска отработали\n",
      "\n",
      "================================================================\n",
      "\n",
      "Временной промежуток: 2018-06-17 - 2019-06-17 обучаемся, на 2019-06-18 - 2019-06-24 считаем доходность \n",
      "\n",
      "Cкачивание данных завершено\n",
      "\n",
      "Предобработка данных завершена\n",
      "\n"
     ]
    },
    {
     "name": "stderr",
     "output_type": "stream",
     "text": [
      "100%|██████████| 41/41 [00:01<00:00, 23.22it/s]\n"
     ]
    },
    {
     "name": "stdout",
     "output_type": "stream",
     "text": [
      "Подсчет корреляции завершен\n",
      "\n",
      "Построение графа и подграфов завершены\n",
      "\n",
      "Подсчет мер центральности завершен\n",
      "\n",
      "Стратегии по максимизации доходности отработали\n",
      "\n",
      "Стратегии по минимизации риска отработали\n",
      "\n",
      "================================================================\n",
      "\n",
      "Временной промежуток: 2018-06-24 - 2019-06-24 обучаемся, на 2019-06-25 - 2019-07-01 считаем доходность \n",
      "\n",
      "Cкачивание данных завершено\n",
      "\n",
      "Предобработка данных завершена\n",
      "\n"
     ]
    },
    {
     "name": "stderr",
     "output_type": "stream",
     "text": [
      "100%|██████████| 41/41 [00:01<00:00, 29.48it/s]\n"
     ]
    },
    {
     "name": "stdout",
     "output_type": "stream",
     "text": [
      "Подсчет корреляции завершен\n",
      "\n",
      "Построение графа и подграфов завершены\n",
      "\n",
      "Подсчет мер центральности завершен\n",
      "\n",
      "Стратегии по максимизации доходности отработали\n",
      "\n"
     ]
    },
    {
     "name": "stderr",
     "output_type": "stream",
     "text": [
      "c:\\Users\\dsfs-\\AppData\\Local\\Programs\\Python\\Python39\\lib\\site-packages\\scipy\\optimize\\_optimize.py:353: RuntimeWarning: Values in x were outside bounds during a minimize step, clipping to bounds\n",
      "  warnings.warn(\"Values in x were outside bounds during a \"\n"
     ]
    },
    {
     "name": "stdout",
     "output_type": "stream",
     "text": [
      "Стратегии по минимизации риска отработали\n",
      "\n",
      "================================================================\n",
      "\n",
      "Временной промежуток: 2018-07-01 - 2019-07-01 обучаемся, на 2019-07-02 - 2019-07-08 считаем доходность \n",
      "\n",
      "Cкачивание данных завершено\n",
      "\n",
      "Предобработка данных завершена\n",
      "\n"
     ]
    },
    {
     "name": "stderr",
     "output_type": "stream",
     "text": [
      "100%|██████████| 41/41 [00:01<00:00, 21.51it/s]\n"
     ]
    },
    {
     "name": "stdout",
     "output_type": "stream",
     "text": [
      "Подсчет корреляции завершен\n",
      "\n",
      "Построение графа и подграфов завершены\n",
      "\n",
      "Подсчет мер центральности завершен\n",
      "\n",
      "Стратегии по максимизации доходности отработали\n",
      "\n",
      "Стратегии по минимизации риска отработали\n",
      "\n",
      "================================================================\n",
      "\n",
      "Временной промежуток: 2018-07-08 - 2019-07-08 обучаемся, на 2019-07-09 - 2019-07-15 считаем доходность \n",
      "\n",
      "Cкачивание данных завершено\n",
      "\n",
      "Предобработка данных завершена\n",
      "\n"
     ]
    },
    {
     "name": "stderr",
     "output_type": "stream",
     "text": [
      "100%|██████████| 41/41 [00:01<00:00, 33.21it/s]\n"
     ]
    },
    {
     "name": "stdout",
     "output_type": "stream",
     "text": [
      "Подсчет корреляции завершен\n",
      "\n",
      "Построение графа и подграфов завершены\n",
      "\n",
      "Подсчет мер центральности завершен\n",
      "\n",
      "Стратегии по максимизации доходности отработали\n",
      "\n",
      "Стратегии по минимизации риска отработали\n",
      "\n",
      "================================================================\n",
      "\n",
      "Временной промежуток: 2018-07-15 - 2019-07-15 обучаемся, на 2019-07-16 - 2019-07-22 считаем доходность \n",
      "\n",
      "Cкачивание данных завершено\n",
      "\n",
      "Предобработка данных завершена\n",
      "\n"
     ]
    },
    {
     "name": "stderr",
     "output_type": "stream",
     "text": [
      "100%|██████████| 41/41 [00:01<00:00, 29.16it/s]\n"
     ]
    },
    {
     "name": "stdout",
     "output_type": "stream",
     "text": [
      "Подсчет корреляции завершен\n",
      "\n",
      "Построение графа и подграфов завершены\n",
      "\n",
      "Подсчет мер центральности завершен\n",
      "\n",
      "Стратегии по максимизации доходности отработали\n",
      "\n",
      "Стратегии по минимизации риска отработали\n",
      "\n",
      "================================================================\n",
      "\n",
      "Временной промежуток: 2018-07-22 - 2019-07-22 обучаемся, на 2019-07-23 - 2019-07-29 считаем доходность \n",
      "\n",
      "Cкачивание данных завершено\n",
      "\n",
      "Предобработка данных завершена\n",
      "\n"
     ]
    },
    {
     "name": "stderr",
     "output_type": "stream",
     "text": [
      "100%|██████████| 41/41 [00:01<00:00, 25.87it/s]\n"
     ]
    },
    {
     "name": "stdout",
     "output_type": "stream",
     "text": [
      "Подсчет корреляции завершен\n",
      "\n",
      "Построение графа и подграфов завершены\n",
      "\n",
      "Подсчет мер центральности завершен\n",
      "\n",
      "Стратегии по максимизации доходности отработали\n",
      "\n",
      "Стратегии по минимизации риска отработали\n",
      "\n",
      "================================================================\n",
      "\n",
      "Временной промежуток: 2018-07-29 - 2019-07-29 обучаемся, на 2019-07-30 - 2019-08-05 считаем доходность \n",
      "\n",
      "Cкачивание данных завершено\n",
      "\n",
      "Предобработка данных завершена\n",
      "\n"
     ]
    },
    {
     "name": "stderr",
     "output_type": "stream",
     "text": [
      "100%|██████████| 41/41 [00:01<00:00, 29.98it/s]\n"
     ]
    },
    {
     "name": "stdout",
     "output_type": "stream",
     "text": [
      "Подсчет корреляции завершен\n",
      "\n",
      "Построение графа и подграфов завершены\n",
      "\n",
      "Подсчет мер центральности завершен\n",
      "\n",
      "Стратегии по максимизации доходности отработали\n",
      "\n",
      "Стратегии по минимизации риска отработали\n",
      "\n",
      "================================================================\n",
      "\n",
      "Временной промежуток: 2018-08-05 - 2019-08-05 обучаемся, на 2019-08-06 - 2019-08-12 считаем доходность \n",
      "\n",
      "Cкачивание данных завершено\n",
      "\n",
      "Предобработка данных завершена\n",
      "\n"
     ]
    },
    {
     "name": "stderr",
     "output_type": "stream",
     "text": [
      "100%|██████████| 41/41 [00:01<00:00, 27.33it/s]\n"
     ]
    },
    {
     "name": "stdout",
     "output_type": "stream",
     "text": [
      "Подсчет корреляции завершен\n",
      "\n",
      "Построение графа и подграфов завершены\n",
      "\n",
      "Подсчет мер центральности завершен\n",
      "\n",
      "Стратегии по максимизации доходности отработали\n",
      "\n",
      "Стратегии по минимизации риска отработали\n",
      "\n",
      "================================================================\n",
      "\n",
      "Временной промежуток: 2018-08-12 - 2019-08-12 обучаемся, на 2019-08-13 - 2019-08-19 считаем доходность \n",
      "\n",
      "Cкачивание данных завершено\n",
      "\n",
      "Предобработка данных завершена\n",
      "\n"
     ]
    },
    {
     "name": "stderr",
     "output_type": "stream",
     "text": [
      "100%|██████████| 41/41 [00:01<00:00, 23.02it/s]\n"
     ]
    },
    {
     "name": "stdout",
     "output_type": "stream",
     "text": [
      "Подсчет корреляции завершен\n",
      "\n",
      "Построение графа и подграфов завершены\n",
      "\n",
      "Подсчет мер центральности завершен\n",
      "\n",
      "Стратегии по максимизации доходности отработали\n",
      "\n",
      "Стратегии по минимизации риска отработали\n",
      "\n",
      "================================================================\n",
      "\n",
      "Временной промежуток: 2018-08-19 - 2019-08-19 обучаемся, на 2019-08-20 - 2019-08-26 считаем доходность \n",
      "\n",
      "Cкачивание данных завершено\n",
      "\n",
      "Предобработка данных завершена\n",
      "\n"
     ]
    },
    {
     "name": "stderr",
     "output_type": "stream",
     "text": [
      "100%|██████████| 41/41 [00:01<00:00, 27.05it/s]\n"
     ]
    },
    {
     "name": "stdout",
     "output_type": "stream",
     "text": [
      "Подсчет корреляции завершен\n",
      "\n",
      "Построение графа и подграфов завершены\n",
      "\n",
      "Подсчет мер центральности завершен\n",
      "\n",
      "Стратегии по максимизации доходности отработали\n",
      "\n",
      "Стратегии по минимизации риска отработали\n",
      "\n",
      "================================================================\n",
      "\n",
      "Временной промежуток: 2018-08-26 - 2019-08-26 обучаемся, на 2019-08-27 - 2019-09-02 считаем доходность \n",
      "\n",
      "Cкачивание данных завершено\n",
      "\n",
      "Предобработка данных завершена\n",
      "\n"
     ]
    },
    {
     "name": "stderr",
     "output_type": "stream",
     "text": [
      "100%|██████████| 41/41 [00:01<00:00, 24.23it/s]\n"
     ]
    },
    {
     "name": "stdout",
     "output_type": "stream",
     "text": [
      "Подсчет корреляции завершен\n",
      "\n",
      "Построение графа и подграфов завершены\n",
      "\n",
      "Подсчет мер центральности завершен\n",
      "\n",
      "Стратегии по максимизации доходности отработали\n",
      "\n",
      "Стратегии по минимизации риска отработали\n",
      "\n",
      "================================================================\n",
      "\n",
      "Временной промежуток: 2018-09-02 - 2019-09-02 обучаемся, на 2019-09-03 - 2019-09-09 считаем доходность \n",
      "\n",
      "Cкачивание данных завершено\n",
      "\n",
      "Предобработка данных завершена\n",
      "\n"
     ]
    },
    {
     "name": "stderr",
     "output_type": "stream",
     "text": [
      "100%|██████████| 41/41 [00:01<00:00, 21.45it/s]\n"
     ]
    },
    {
     "name": "stdout",
     "output_type": "stream",
     "text": [
      "Подсчет корреляции завершен\n",
      "\n",
      "Построение графа и подграфов завершены\n",
      "\n",
      "Подсчет мер центральности завершен\n",
      "\n",
      "Стратегии по максимизации доходности отработали\n",
      "\n",
      "Стратегии по минимизации риска отработали\n",
      "\n",
      "================================================================\n",
      "\n",
      "Временной промежуток: 2018-09-09 - 2019-09-09 обучаемся, на 2019-09-10 - 2019-09-16 считаем доходность \n",
      "\n",
      "Cкачивание данных завершено\n",
      "\n",
      "Предобработка данных завершена\n",
      "\n"
     ]
    },
    {
     "name": "stderr",
     "output_type": "stream",
     "text": [
      "100%|██████████| 41/41 [00:02<00:00, 20.23it/s]\n"
     ]
    },
    {
     "name": "stdout",
     "output_type": "stream",
     "text": [
      "Подсчет корреляции завершен\n",
      "\n",
      "Построение графа и подграфов завершены\n",
      "\n",
      "Подсчет мер центральности завершен\n",
      "\n",
      "Стратегии по максимизации доходности отработали\n",
      "\n",
      "Стратегии по минимизации риска отработали\n",
      "\n",
      "================================================================\n",
      "\n",
      "Временной промежуток: 2018-09-16 - 2019-09-16 обучаемся, на 2019-09-17 - 2019-09-23 считаем доходность \n",
      "\n",
      "Cкачивание данных завершено\n",
      "\n",
      "Предобработка данных завершена\n",
      "\n"
     ]
    },
    {
     "name": "stderr",
     "output_type": "stream",
     "text": [
      "100%|██████████| 41/41 [00:01<00:00, 22.40it/s]\n"
     ]
    },
    {
     "name": "stdout",
     "output_type": "stream",
     "text": [
      "Подсчет корреляции завершен\n",
      "\n",
      "Построение графа и подграфов завершены\n",
      "\n",
      "Подсчет мер центральности завершен\n",
      "\n",
      "Стратегии по максимизации доходности отработали\n",
      "\n",
      "Стратегии по минимизации риска отработали\n",
      "\n",
      "================================================================\n",
      "\n",
      "Временной промежуток: 2018-09-23 - 2019-09-23 обучаемся, на 2019-09-24 - 2019-09-30 считаем доходность \n",
      "\n",
      "Cкачивание данных завершено\n",
      "\n",
      "Предобработка данных завершена\n",
      "\n"
     ]
    },
    {
     "name": "stderr",
     "output_type": "stream",
     "text": [
      "100%|██████████| 41/41 [00:02<00:00, 16.97it/s]\n"
     ]
    },
    {
     "name": "stdout",
     "output_type": "stream",
     "text": [
      "Подсчет корреляции завершен\n",
      "\n",
      "Построение графа и подграфов завершены\n",
      "\n",
      "Подсчет мер центральности завершен\n",
      "\n",
      "Стратегии по максимизации доходности отработали\n",
      "\n",
      "Стратегии по минимизации риска отработали\n",
      "\n",
      "================================================================\n",
      "\n",
      "Временной промежуток: 2018-09-30 - 2019-09-30 обучаемся, на 2019-10-01 - 2019-10-07 считаем доходность \n",
      "\n",
      "Cкачивание данных завершено\n",
      "\n",
      "Предобработка данных завершена\n",
      "\n"
     ]
    },
    {
     "name": "stderr",
     "output_type": "stream",
     "text": [
      "100%|██████████| 41/41 [00:02<00:00, 18.14it/s]\n"
     ]
    },
    {
     "name": "stdout",
     "output_type": "stream",
     "text": [
      "Подсчет корреляции завершен\n",
      "\n",
      "Построение графа и подграфов завершены\n",
      "\n",
      "Подсчет мер центральности завершен\n",
      "\n",
      "Стратегии по максимизации доходности отработали\n",
      "\n",
      "Стратегии по минимизации риска отработали\n",
      "\n",
      "================================================================\n",
      "\n",
      "Временной промежуток: 2018-10-07 - 2019-10-07 обучаемся, на 2019-10-08 - 2019-10-14 считаем доходность \n",
      "\n",
      "Cкачивание данных завершено\n",
      "\n",
      "Предобработка данных завершена\n",
      "\n"
     ]
    },
    {
     "name": "stderr",
     "output_type": "stream",
     "text": [
      "100%|██████████| 41/41 [00:01<00:00, 21.68it/s]\n"
     ]
    },
    {
     "name": "stdout",
     "output_type": "stream",
     "text": [
      "Подсчет корреляции завершен\n",
      "\n",
      "Построение графа и подграфов завершены\n",
      "\n",
      "Подсчет мер центральности завершен\n",
      "\n",
      "Стратегии по максимизации доходности отработали\n",
      "\n",
      "Стратегии по минимизации риска отработали\n",
      "\n",
      "================================================================\n",
      "\n",
      "Временной промежуток: 2018-10-14 - 2019-10-14 обучаемся, на 2019-10-15 - 2019-10-21 считаем доходность \n",
      "\n",
      "Cкачивание данных завершено\n",
      "\n",
      "Предобработка данных завершена\n",
      "\n"
     ]
    },
    {
     "name": "stderr",
     "output_type": "stream",
     "text": [
      "100%|██████████| 41/41 [00:01<00:00, 20.58it/s]\n"
     ]
    },
    {
     "name": "stdout",
     "output_type": "stream",
     "text": [
      "Подсчет корреляции завершен\n",
      "\n",
      "Построение графа и подграфов завершены\n",
      "\n",
      "Подсчет мер центральности завершен\n",
      "\n",
      "Стратегии по максимизации доходности отработали\n",
      "\n",
      "Стратегии по минимизации риска отработали\n",
      "\n",
      "================================================================\n",
      "\n",
      "Временной промежуток: 2018-10-21 - 2019-10-21 обучаемся, на 2019-10-22 - 2019-10-28 считаем доходность \n",
      "\n",
      "Cкачивание данных завершено\n",
      "\n",
      "Предобработка данных завершена\n",
      "\n"
     ]
    },
    {
     "name": "stderr",
     "output_type": "stream",
     "text": [
      "100%|██████████| 41/41 [00:01<00:00, 20.95it/s]\n"
     ]
    },
    {
     "name": "stdout",
     "output_type": "stream",
     "text": [
      "Подсчет корреляции завершен\n",
      "\n",
      "Построение графа и подграфов завершены\n",
      "\n",
      "Подсчет мер центральности завершен\n",
      "\n",
      "Стратегии по максимизации доходности отработали\n",
      "\n",
      "Стратегии по минимизации риска отработали\n",
      "\n",
      "================================================================\n",
      "\n",
      "Временной промежуток: 2018-10-28 - 2019-10-28 обучаемся, на 2019-10-29 - 2019-11-04 считаем доходность \n",
      "\n",
      "Cкачивание данных завершено\n",
      "\n",
      "Предобработка данных завершена\n",
      "\n"
     ]
    },
    {
     "name": "stderr",
     "output_type": "stream",
     "text": [
      "100%|██████████| 41/41 [00:02<00:00, 19.12it/s]\n"
     ]
    },
    {
     "name": "stdout",
     "output_type": "stream",
     "text": [
      "Подсчет корреляции завершен\n",
      "\n",
      "Построение графа и подграфов завершены\n",
      "\n",
      "Подсчет мер центральности завершен\n",
      "\n",
      "Стратегии по максимизации доходности отработали\n",
      "\n",
      "Стратегии по минимизации риска отработали\n",
      "\n",
      "================================================================\n",
      "\n",
      "Временной промежуток: 2018-11-04 - 2019-11-04 обучаемся, на 2019-11-05 - 2019-11-11 считаем доходность \n",
      "\n",
      "Cкачивание данных завершено\n",
      "\n",
      "Предобработка данных завершена\n",
      "\n"
     ]
    },
    {
     "name": "stderr",
     "output_type": "stream",
     "text": [
      "100%|██████████| 41/41 [00:01<00:00, 20.93it/s]\n"
     ]
    },
    {
     "name": "stdout",
     "output_type": "stream",
     "text": [
      "Подсчет корреляции завершен\n",
      "\n",
      "Построение графа и подграфов завершены\n",
      "\n",
      "Подсчет мер центральности завершен\n",
      "\n",
      "Стратегии по максимизации доходности отработали\n",
      "\n",
      "Стратегии по минимизации риска отработали\n",
      "\n",
      "================================================================\n",
      "\n",
      "Временной промежуток: 2018-11-11 - 2019-11-11 обучаемся, на 2019-11-12 - 2019-11-18 считаем доходность \n",
      "\n",
      "Cкачивание данных завершено\n",
      "\n",
      "Предобработка данных завершена\n",
      "\n"
     ]
    },
    {
     "name": "stderr",
     "output_type": "stream",
     "text": [
      "100%|██████████| 41/41 [00:02<00:00, 20.26it/s]\n"
     ]
    },
    {
     "name": "stdout",
     "output_type": "stream",
     "text": [
      "Подсчет корреляции завершен\n",
      "\n",
      "Построение графа и подграфов завершены\n",
      "\n",
      "Подсчет мер центральности завершен\n",
      "\n",
      "Стратегии по максимизации доходности отработали\n",
      "\n",
      "Стратегии по минимизации риска отработали\n",
      "\n",
      "================================================================\n",
      "\n",
      "Временной промежуток: 2018-11-18 - 2019-11-18 обучаемся, на 2019-11-19 - 2019-11-25 считаем доходность \n",
      "\n",
      "Cкачивание данных завершено\n",
      "\n",
      "Предобработка данных завершена\n",
      "\n"
     ]
    },
    {
     "name": "stderr",
     "output_type": "stream",
     "text": [
      "100%|██████████| 41/41 [00:01<00:00, 21.33it/s]\n"
     ]
    },
    {
     "name": "stdout",
     "output_type": "stream",
     "text": [
      "Подсчет корреляции завершен\n",
      "\n",
      "Построение графа и подграфов завершены\n",
      "\n",
      "Подсчет мер центральности завершен\n",
      "\n",
      "Стратегии по максимизации доходности отработали\n",
      "\n",
      "Стратегии по минимизации риска отработали\n",
      "\n",
      "================================================================\n",
      "\n",
      "Временной промежуток: 2018-11-25 - 2019-11-25 обучаемся, на 2019-11-26 - 2019-12-02 считаем доходность \n",
      "\n",
      "Cкачивание данных завершено\n",
      "\n",
      "Предобработка данных завершена\n",
      "\n"
     ]
    },
    {
     "name": "stderr",
     "output_type": "stream",
     "text": [
      "100%|██████████| 41/41 [00:05<00:00,  7.63it/s]\n"
     ]
    },
    {
     "name": "stdout",
     "output_type": "stream",
     "text": [
      "Подсчет корреляции завершен\n",
      "\n",
      "Построение графа и подграфов завершены\n",
      "\n",
      "Подсчет мер центральности завершен\n",
      "\n",
      "Стратегии по максимизации доходности отработали\n",
      "\n",
      "Стратегии по минимизации риска отработали\n",
      "\n",
      "================================================================\n",
      "\n",
      "Временной промежуток: 2018-12-02 - 2019-12-02 обучаемся, на 2019-12-03 - 2019-12-09 считаем доходность \n",
      "\n",
      "Cкачивание данных завершено\n",
      "\n",
      "Предобработка данных завершена\n",
      "\n"
     ]
    },
    {
     "name": "stderr",
     "output_type": "stream",
     "text": [
      "100%|██████████| 41/41 [00:02<00:00, 19.88it/s]\n"
     ]
    },
    {
     "name": "stdout",
     "output_type": "stream",
     "text": [
      "Подсчет корреляции завершен\n",
      "\n",
      "Построение графа и подграфов завершены\n",
      "\n",
      "Подсчет мер центральности завершен\n",
      "\n",
      "Стратегии по максимизации доходности отработали\n",
      "\n",
      "Стратегии по минимизации риска отработали\n",
      "\n",
      "================================================================\n",
      "\n",
      "Временной промежуток: 2018-12-09 - 2019-12-09 обучаемся, на 2019-12-10 - 2019-12-16 считаем доходность \n",
      "\n",
      "Cкачивание данных завершено\n",
      "\n",
      "Предобработка данных завершена\n",
      "\n"
     ]
    },
    {
     "name": "stderr",
     "output_type": "stream",
     "text": [
      "100%|██████████| 41/41 [00:03<00:00, 10.29it/s]\n"
     ]
    },
    {
     "name": "stdout",
     "output_type": "stream",
     "text": [
      "Подсчет корреляции завершен\n",
      "\n",
      "Построение графа и подграфов завершены\n",
      "\n",
      "Подсчет мер центральности завершен\n",
      "\n",
      "Стратегии по максимизации доходности отработали\n",
      "\n",
      "Стратегии по минимизации риска отработали\n",
      "\n",
      "================================================================\n",
      "\n",
      "Временной промежуток: 2018-12-16 - 2019-12-16 обучаемся, на 2019-12-17 - 2019-12-23 считаем доходность \n",
      "\n",
      "Cкачивание данных завершено\n",
      "\n",
      "Предобработка данных завершена\n",
      "\n"
     ]
    },
    {
     "name": "stderr",
     "output_type": "stream",
     "text": [
      "100%|██████████| 41/41 [00:02<00:00, 18.48it/s]\n"
     ]
    },
    {
     "name": "stdout",
     "output_type": "stream",
     "text": [
      "Подсчет корреляции завершен\n",
      "\n",
      "Построение графа и подграфов завершены\n",
      "\n",
      "Подсчет мер центральности завершен\n",
      "\n",
      "Стратегии по максимизации доходности отработали\n",
      "\n",
      "Стратегии по минимизации риска отработали\n",
      "\n",
      "================================================================\n",
      "\n",
      "Временной промежуток: 2018-12-23 - 2019-12-23 обучаемся, на 2019-12-24 - 2019-12-30 считаем доходность \n",
      "\n",
      "Cкачивание данных завершено\n",
      "\n",
      "Предобработка данных завершена\n",
      "\n"
     ]
    },
    {
     "name": "stderr",
     "output_type": "stream",
     "text": [
      "100%|██████████| 41/41 [00:02<00:00, 17.73it/s]\n"
     ]
    },
    {
     "name": "stdout",
     "output_type": "stream",
     "text": [
      "Подсчет корреляции завершен\n",
      "\n",
      "Построение графа и подграфов завершены\n",
      "\n",
      "Подсчет мер центральности завершен\n",
      "\n",
      "Стратегии по максимизации доходности отработали\n",
      "\n",
      "Стратегии по минимизации риска отработали\n",
      "\n",
      "================================================================\n",
      "\n"
     ]
    }
   ],
   "source": [
    "MAX_log_returns = []\n",
    "MIN_log_returns = []\n",
    "\n",
    "start_date = \"2017-01-01\"\n",
    "end_date =   '2018-01-01'\n",
    "\n",
    "while (str(end_date) < '2019-12-30'):\n",
    "\n",
    "    resulting_portfolio_max  = {}\n",
    "    resulting_portfolio_min =  {}   \n",
    "\n",
    "    print(f'Временной промежуток: {start_date} - {end_date} обучаемся, на {str(datetime.datetime.strptime(str(end_date), \"%Y-%m-%d\").date() + datetime.timedelta(days=1))} - {str(datetime.datetime.strptime(str(end_date), \"%Y-%m-%d\").date() + datetime.timedelta(days=7))} считаем доходность \\n')\n",
    "    DATA_OF_STOCKS_FOR_BUILDING_MODEL, DATA_OF_STOCKS_FOR_EVALUATION, TICKERS = load_data(str(start_date), str(end_date))\n",
    "    print('Cкачивание данных завершено\\n')\n",
    "    data_processing(DATA_OF_STOCKS_FOR_BUILDING_MODEL, DATA_OF_STOCKS_FOR_EVALUATION)\n",
    "    print('Предобработка данных завершена\\n')\n",
    "    long_run_correlation = get_long_run_correlation(DATA_OF_STOCKS_FOR_BUILDING_MODEL)\n",
    "    print('Подсчет корреляции завершен\\n')\n",
    "    COMPLETE_GRAPH, MST, PMFG, THRESHOLD = build_graphs(long_run_correlation, DATA_OF_STOCKS_FOR_BUILDING_MODEL )\n",
    "    print('Построение графа и подграфов завершены\\n')\n",
    "    BETWEENNESS, EIGENVALUE_CENTRALITY, EXPECTED_FORCE = get_centrality_measures(COMPLETE_GRAPH, MST, PMFG, THRESHOLD,DATA_OF_STOCKS_FOR_BUILDING_MODEL,TICKERS  )\n",
    "    print('Подсчет мер центральности завершен\\n')\n",
    "    \n",
    "    resulting_portfolio_max =  MAX_Individual_strategies(DATA_OF_STOCKS_FOR_BUILDING_MODEL, BETWEENNESS, EIGENVALUE_CENTRALITY, EXPECTED_FORCE, resulting_portfolio_max)\n",
    "    resulting_portfolio_max =  MAX_get_combination_strategies(resulting_portfolio_max, DATA_OF_STOCKS_FOR_BUILDING_MODEL, BETWEENNESS, EIGENVALUE_CENTRALITY, EXPECTED_FORCE)\n",
    "    print('Стратегии по максимизации доходности отработали\\n')\n",
    "    resulting_portfolio_min = MIN_Individual_strategies(DATA_OF_STOCKS_FOR_BUILDING_MODEL, BETWEENNESS, EIGENVALUE_CENTRALITY, EXPECTED_FORCE, resulting_portfolio_min)\n",
    "    resulting_portfolio_min = MIN_get_combination_strategies(resulting_portfolio_min, DATA_OF_STOCKS_FOR_BUILDING_MODEL, BETWEENNESS, EIGENVALUE_CENTRALITY, EXPECTED_FORCE)\n",
    "    print('Стратегии по минимизации риска отработали\\n')\n",
    "    MAX_log_returns.append(get_prof(resulting_portfolio_max, DATA_OF_STOCKS_FOR_EVALUATION))\n",
    "    MIN_log_returns.append(get_prof(resulting_portfolio_min, DATA_OF_STOCKS_FOR_EVALUATION))\n",
    "\n",
    "    save_json(resulting_portfolio_max, 'resulting_portfolio_max_'+ str(start_date) +'-'+ str(end_date) +'.json')\n",
    "    save_json(resulting_portfolio_min, 'resulting_portfolio_min_'+ str(start_date) +'-'+ str(end_date) +'.json')\n",
    "\n",
    "    start_date = datetime.datetime.strptime(str(start_date), \"%Y-%m-%d\").date() + datetime.timedelta(days=7)\n",
    "    end_date = datetime.datetime.strptime(str(end_date), \"%Y-%m-%d\").date() + datetime.timedelta(days=7)\n",
    "    print('================================================================\\n')\n"
   ]
  },
  {
   "cell_type": "code",
   "execution_count": 181,
   "metadata": {},
   "outputs": [],
   "source": [
    "strategies = list(MAX_log_returns[0].keys())\n",
    "\n",
    "MAX_returns = {}\n",
    "for strategy in strategies:\n",
    "    prof = []\n",
    "    for ret in MAX_log_returns:\n",
    "        prof.append(ret[strategy])\n",
    "    MAX_returns[strategy] = prof\n",
    "\n",
    "MIN_returns = {}\n",
    "for strategy in strategies:\n",
    "    prof = []\n",
    "    for ret in MIN_log_returns:\n",
    "        prof.append(ret[strategy])\n",
    "    MIN_returns[strategy] = prof"
   ]
  },
  {
   "attachments": {},
   "cell_type": "markdown",
   "metadata": {},
   "source": [
    "### Portfolio characteristic"
   ]
  },
  {
   "attachments": {},
   "cell_type": "markdown",
   "metadata": {},
   "source": [
    "#### Просадка (Drawdown)"
   ]
  },
  {
   "cell_type": "code",
   "execution_count": 182,
   "metadata": {},
   "outputs": [],
   "source": [
    "def Drawndown(returns):\n",
    "    max_price_portfolio = max(returns)\n",
    "    drawndown = []\n",
    "    for price in returns:\n",
    "        drawndown.append(price/max_price_portfolio)\n",
    "    # print('The average drawndown ', statistics.mean(price_resulting_portflio[1:]))\n",
    "    return drawndown, statistics.mean(drawndown)"
   ]
  },
  {
   "attachments": {},
   "cell_type": "markdown",
   "metadata": {},
   "source": [
    "#### Ожидаемый дефицит (The expected shortfall)"
   ]
  },
  {
   "cell_type": "code",
   "execution_count": 183,
   "metadata": {},
   "outputs": [],
   "source": [
    "def getVAR(profi_portfolio):\n",
    "    for stock_profit in profi_portfolio:\n",
    "        stock_profit *= -1\n",
    "    profi_portfolio = pd.DataFrame(profi_portfolio).sort_values(by=[0])\n",
    "    VAR ={'0.90': profi_portfolio.quantile(float(0.90))[0], \n",
    "          '0.95': profi_portfolio.quantile(float(0.95))[0],\n",
    "          '0.99': profi_portfolio.quantile(float(0.99))[0]}\n",
    "    return VAR"
   ]
  },
  {
   "cell_type": "code",
   "execution_count": 184,
   "metadata": {},
   "outputs": [],
   "source": [
    "def Expected_shortfall(returns):\n",
    "\n",
    "    VAR = getVAR(returns)\n",
    "\n",
    "    def integrand(x):\n",
    "        return x * norm.pdf(x, mu, sigma) / norm.cdf(-var[1], mu, sigma)\n",
    "\n",
    "    mu = np.mean(returns)\n",
    "    sigma = np.array(returns).std()\n",
    "\n",
    "    ES = []\n",
    "    for var in VAR.items():\n",
    "        def integrand(x):\n",
    "            return x * norm.pdf(x, mu, sigma) / norm.cdf(-var[1], mu, sigma)\n",
    "        cond_exp, _ = quad(integrand, -np.inf, -var[1])\n",
    "        ES.append((cond_exp, var[0]))\n",
    "\n",
    "    return ES"
   ]
  },
  {
   "attachments": {},
   "cell_type": "markdown",
   "metadata": {},
   "source": [
    "#### Коэффициент Берка (The Burke ratio)"
   ]
  },
  {
   "cell_type": "code",
   "execution_count": 185,
   "metadata": {},
   "outputs": [],
   "source": [
    "def The_Burke_ratio(returns, drawndown_list):\n",
    "    profi = sum(returns)\n",
    "    profi = profi/len(returns)\n",
    "    DD =  math.sqrt(sum([x ** 2 for x in drawndown_list]))\n",
    "    # print(f\"The Burke ratio is {profi/DD}\")\n",
    "    return profi/DD"
   ]
  },
  {
   "attachments": {},
   "cell_type": "markdown",
   "metadata": {},
   "source": [
    "#### Коэффициент Шарпа (The Sharpe ratio)"
   ]
  },
  {
   "cell_type": "code",
   "execution_count": 186,
   "metadata": {},
   "outputs": [],
   "source": [
    "## Модифицированный\n",
    "def The_Sharp_ratio(returns, Expected_shortfall):\n",
    "    profi = sum(returns)\n",
    "    profi = profi/len(returns)\n",
    "    Sharp_ratio =[]\n",
    "    for i in np.arange(len(Expected_shortfall)):\n",
    "        Sharp_ratio.append(((profi/np.abs(Expected_shortfall[i][0])), Expected_shortfall[i][1]))\n",
    "        # print(f'The Sharpe ratio is {round(profi/Expected_shortfall[i][0], 2)} with level {Expected_shortfall[i][1]}')\n",
    "    return Sharp_ratio"
   ]
  },
  {
   "cell_type": "code",
   "execution_count": 187,
   "metadata": {},
   "outputs": [],
   "source": [
    "def The_Sharp_ratio_simple(returns, SD):\n",
    "    profi = sum(returns)\n",
    "    profi = profi/len(returns)\n",
    "    return profi/SD"
   ]
  },
  {
   "attachments": {},
   "cell_type": "markdown",
   "metadata": {},
   "source": [
    "#### Характеристики портфеля"
   ]
  },
  {
   "cell_type": "code",
   "execution_count": 188,
   "metadata": {},
   "outputs": [],
   "source": [
    "def get_descriptive_statistics(returns):\n",
    "    metrics = {}\n",
    "\n",
    "## basic \n",
    "    metrics['Max'] = max(returns)\n",
    "    metrics['Min'] = min(returns)\n",
    "    metrics['M'] = statistics.mean(returns)\n",
    "    metrics['SD'] = np.array(returns).std()\n",
    "    metrics['Q1'] = np.percentile(returns, 25)\n",
    "    metrics['Q3'] = np.percentile(returns, 75)\n",
    "## pro \n",
    "    metrics['Drawndown(list)'], metrics['DD']  = Drawndown(returns)\n",
    "\n",
    "    es = Expected_shortfall(returns)\n",
    "    metrics['ES10'] = es[0][0]\n",
    "    metrics['ES5'] = es[1][0]\n",
    "    metrics['ES1'] = es[2][0]\n",
    "\n",
    "    metrics['BR'] = The_Burke_ratio(returns, metrics['Drawndown(list)'])\n",
    "    metrics['SR'] = The_Sharp_ratio_simple(returns,  metrics['SD'])\n",
    "    \n",
    "    sr = The_Sharp_ratio(returns, es)\n",
    "    metrics['SR10'] = sr[0][0]\n",
    "    metrics['SR5'] = sr[1][0]\n",
    "    metrics['SR1'] = sr[2][0]\n",
    " \n",
    "    return metrics"
   ]
  },
  {
   "cell_type": "code",
   "execution_count": 189,
   "metadata": {},
   "outputs": [],
   "source": [
    "for strategy in MAX_returns:\n",
    "    portfolio_charectetictics_max[strategy] = get_descriptive_statistics(MAX_returns[strategy])\n",
    "portfolio_charectetictics_max = pd.DataFrame(portfolio_charectetictics_max)\n",
    "portfolio_charectetictics_max.T.to_excel(name_for_portfolio_characteristics_max)"
   ]
  },
  {
   "cell_type": "code",
   "execution_count": 190,
   "metadata": {},
   "outputs": [],
   "source": [
    "for strategy in MIN_returns:\n",
    "    portfolio_charectetictics_min[strategy] = get_descriptive_statistics(MIN_returns[strategy])\n",
    "portfolio_charectetictics_min= pd.DataFrame(portfolio_charectetictics_min)\n",
    "portfolio_charectetictics_min.T.to_excel(name_for_portfolio_characteristics_min)"
   ]
  },
  {
   "attachments": {},
   "cell_type": "markdown",
   "metadata": {},
   "source": [
    "#### Доверительные интервалы"
   ]
  },
  {
   "cell_type": "code",
   "execution_count": 191,
   "metadata": {},
   "outputs": [],
   "source": [
    "import scipy.stats as st\n",
    "\n",
    "def get_confidence_interval(portfolio_metrics):\n",
    "\n",
    "    confidence_interval = st.t.interval(alpha=0.99, df=len(portfolio_metrics)-1, loc=np.mean(portfolio_metrics), scale=st.sem(portfolio_metrics)) \n",
    "\n",
    "    # Выводим результат\n",
    "    the_best_strategy = []\n",
    "    for strategy in np.arange(len(portfolio_metrics)):\n",
    "        if round(confidence_interval[0],4) <= round(portfolio_metrics[strategy],4)  <= round(confidence_interval[1],4):\n",
    "         the_best_strategy.append(portfolio_metrics.index[strategy])\n",
    "    return the_best_strategy"
   ]
  },
  {
   "cell_type": "code",
   "execution_count": 192,
   "metadata": {},
   "outputs": [],
   "source": [
    "def save_dict_to_file(dic, file_name):\n",
    "    f = open(file_name,'w')\n",
    "    f.write(str(dic))\n",
    "    f.close()"
   ]
  },
  {
   "cell_type": "code",
   "execution_count": 193,
   "metadata": {},
   "outputs": [
    {
     "name": "stderr",
     "output_type": "stream",
     "text": [
      "C:\\Users\\dsfs-\\AppData\\Local\\Temp\\ipykernel_7528\\3104765089.py:5: DeprecationWarning: Use of keyword argument 'alpha' for method 'interval' is deprecated and wil be removed in SciPy 1.11.0. Use first positional argument or keyword argument 'confidence' instead.\n",
      "  confidence_interval = st.t.interval(alpha=0.99, df=len(portfolio_metrics)-1, loc=np.mean(portfolio_metrics), scale=st.sem(portfolio_metrics))\n"
     ]
    }
   ],
   "source": [
    "best_models_max = {}\n",
    "best_models_max['M'] = get_confidence_interval(portfolio_charectetictics_max.T['M'])\n",
    "best_models_max['SR5'] = get_confidence_interval(portfolio_charectetictics_max.T['SR5'])\n",
    "best_models_max['SR'] = get_confidence_interval(portfolio_charectetictics_max.T['SR'])\n",
    "\n",
    "save_dict_to_file(best_models_max, 'best_models_max.txt')\n"
   ]
  },
  {
   "cell_type": "code",
   "execution_count": 194,
   "metadata": {},
   "outputs": [
    {
     "name": "stderr",
     "output_type": "stream",
     "text": [
      "C:\\Users\\dsfs-\\AppData\\Local\\Temp\\ipykernel_7528\\3104765089.py:5: DeprecationWarning: Use of keyword argument 'alpha' for method 'interval' is deprecated and wil be removed in SciPy 1.11.0. Use first positional argument or keyword argument 'confidence' instead.\n",
      "  confidence_interval = st.t.interval(alpha=0.99, df=len(portfolio_metrics)-1, loc=np.mean(portfolio_metrics), scale=st.sem(portfolio_metrics))\n"
     ]
    }
   ],
   "source": [
    "best_models_min = {}\n",
    "best_models_min['M'] = get_confidence_interval(portfolio_charectetictics_min.T['M'])\n",
    "best_models_min['SR5'] = get_confidence_interval(portfolio_charectetictics_min.T['SR5'])\n",
    "best_models_min['SR'] = get_confidence_interval(portfolio_charectetictics_min.T['SR'])\n",
    "\n",
    "save_dict_to_file(best_models_min, 'best_models_min.txt')"
   ]
  },
  {
   "attachments": {},
   "cell_type": "markdown",
   "metadata": {},
   "source": [
    "### Устойчивость"
   ]
  },
  {
   "cell_type": "code",
   "execution_count": 195,
   "metadata": {},
   "outputs": [],
   "source": [
    "def get_portfolio_comparison_weights(original_weights, shifted_weights):\n",
    "    count = 0\n",
    "    for num in np.arange(len(original_weights)):\n",
    "        if round(original_weights[num], 4) == round(shifted_weights[num], 4):\n",
    "            count +=1\n",
    "    return round((count/len(original_weights))*100, 2)\n",
    "\n",
    "def read_file(file_name):\n",
    "    with open(file_name) as json_file:\n",
    "        file = json.load(json_file)\n",
    "    return file"
   ]
  },
  {
   "cell_type": "code",
   "execution_count": 196,
   "metadata": {},
   "outputs": [],
   "source": [
    "def preprocessing_data(data):\n",
    "    for s in data:\n",
    "        if type(data[s][0]) == dict:\n",
    "          data[s] = list({k: v for d in data[s] for k, v in d.items()}.values())\n",
    "    return data"
   ]
  },
  {
   "cell_type": "code",
   "execution_count": 197,
   "metadata": {},
   "outputs": [],
   "source": [
    "def load_data_for_stability(type_str):\n",
    "    original = preprocessing_data(read_file('resulting_portfolio_' + type_str +'_2017-01-01-2018-01-01.json'))\n",
    "    shift_7  = preprocessing_data(read_file('resulting_portfolio_' + type_str +'_2017-01-08-2018-01-08.json'))\n",
    "    shift_14 = preprocessing_data(read_file('resulting_portfolio_' + type_str +'_2017-01-15-2018-01-15.json'))\n",
    "    shift_21 = preprocessing_data(read_file('resulting_portfolio_' + type_str +'_2017-01-22-2018-01-22.json'))\n",
    "    shift_28 = preprocessing_data(read_file('resulting_portfolio_' + type_str +'_2017-01-29-2018-01-29.json'))\n",
    "\n",
    "    return original, shift_7, shift_14, shift_21, shift_28"
   ]
  },
  {
   "cell_type": "code",
   "execution_count": 198,
   "metadata": {},
   "outputs": [],
   "source": [
    "def get_comparison_weights(original, shift_7, shift_14, shift_21, shift_28):\n",
    "    comp_7 = {}\n",
    "    for strategy in original:\n",
    "        comp_7[strategy] = get_portfolio_comparison_weights(original[strategy], shift_7[strategy])\n",
    "\n",
    "    comp_14 = {}\n",
    "    for strategy in original:\n",
    "        comp_14[strategy] = get_portfolio_comparison_weights(original[strategy], shift_14[strategy])\n",
    "\n",
    "    comp_21 = {}\n",
    "    for strategy in original:\n",
    "        comp_21[strategy] = get_portfolio_comparison_weights(original[strategy], shift_21[strategy])\n",
    "\n",
    "    comp_28 = {}\n",
    "    for strategy in original:\n",
    "        comp_28[strategy] = get_portfolio_comparison_weights(original[strategy], shift_28[strategy])\n",
    "\n",
    "    return pd.DataFrame({'Shift 7 days': comp_7,\n",
    "                          'Shift 14 days': comp_14,\n",
    "                          'Shift 21 days': comp_21,\n",
    "                          'Shift 28 days': comp_28 })\n"
   ]
  },
  {
   "cell_type": "code",
   "execution_count": 199,
   "metadata": {},
   "outputs": [],
   "source": [
    "original, shift_7, shift_14, shift_21, shift_28 = load_data_for_stability('max')\n",
    "STABILITY_MAX = get_comparison_weights(original, shift_7, shift_14, shift_21, shift_28)\n",
    "STABILITY_MAX.to_excel(name_for_portfolio_stability_max)"
   ]
  },
  {
   "cell_type": "code",
   "execution_count": 200,
   "metadata": {},
   "outputs": [],
   "source": [
    "original, shift_7, shift_14, shift_21, shift_28 = load_data_for_stability('min')\n",
    "STABILITY_MIN = get_comparison_weights(original, shift_7, shift_14, shift_21, shift_28)\n",
    "STABILITY_MIN.to_excel(name_for_portfolio_stability_min)"
   ]
  },
  {
   "attachments": {},
   "cell_type": "markdown",
   "metadata": {},
   "source": [
    "### Визуализация"
   ]
  },
  {
   "cell_type": "code",
   "execution_count": 202,
   "metadata": {},
   "outputs": [
    {
     "data": {
      "text/plain": [
       "Text(0.5, 1.0, 'Стратегия максимизация доходности')"
      ]
     },
     "execution_count": 202,
     "metadata": {},
     "output_type": "execute_result"
    },
    {
     "data": {
      "image/png": "[encoded data removed]",
      "text/plain": [
       "<Figure size 800x800 with 1 Axes>"
      ]
     },
     "metadata": {},
     "output_type": "display_data"
    }
   ],
   "source": [
    "r = pd.DataFrame(MAX_returns['Benchmark'], columns=[\"Доходность\"])\n",
    "r = r.rename_axis('Недели').reset_index()\n",
    "\n",
    "figure(figsize=(10, 10), dpi=80)\n",
    "sns.lineplot(data=r, label  = 'Benchmark', legend = 'full', x = 'Недели' , y  = 'Доходность')\n",
    "sns.lineplot(data=MAX_returns['Betweenness_MST'], label  = 'Betweenness_MST', legend = 'full')\n",
    "sns.lineplot(data=MAX_returns['Eigenvalue_Complete'], label = 'Eigenvalue_Complete', legend = 'full').set_title('Стратегия максимизация доходности', size = 20)\n"
   ]
  },
  {
   "cell_type": "code",
   "execution_count": 203,
   "metadata": {},
   "outputs": [
    {
     "data": {
      "text/plain": [
       "Text(0.5, 1.0, 'Стратегия минимизации риска')"
      ]
     },
     "execution_count": 203,
     "metadata": {},
     "output_type": "execute_result"
    },
    {
     "data": {
      "image/png": "[encoded data removed]",
      "text/plain": [
       "<Figure size 800x800 with 1 Axes>"
      ]
     },
     "metadata": {},
     "output_type": "display_data"
    }
   ],
   "source": [
    "r = pd.DataFrame(MIN_returns['Benchmark'], columns=[\"Доходность\"])\n",
    "r = r.rename_axis('Недели').reset_index()\n",
    "\n",
    "figure(figsize=(10, 10), dpi=80)\n",
    "sns.lineplot(data=r, label  = 'Benchmark', legend = 'full', x = 'Недели' , y  = 'Доходность')\n",
    "sns.lineplot(data=MIN_returns['Eigenvalue_PMFG'], label  = 'Eigenvalue_PMFG', legend = 'full')\n",
    "sns.lineplot(data=MIN_returns['Eigenvalue_Complete'], label = 'Eigenvalue_Complete', legend = 'full').set_title('Стратегия минимизации риска', size = 20)\n"
   ]
  }
 ],
 "metadata": {
  "kernelspec": {
   "display_name": "Python 3",
   "language": "python",
   "name": "python3"
  },
  "language_info": {
   "codemirror_mode": {
    "name": "ipython",
    "version": 3
   },
   "file_extension": ".py",
   "mimetype": "text/x-python",
   "name": "python",
   "nbconvert_exporter": "python",
   "pygments_lexer": "ipython3",
   "version": "3.9.0"
  },
  "orig_nbformat": 4
 },
 "nbformat": 4,
 "nbformat_minor": 2
}
