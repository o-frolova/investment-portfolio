{
 "cells": [
  {
   "cell_type": "markdown",
   "metadata": {},
   "source": [
    "## Requirements "
   ]
  },
  {
   "cell_type": "code",
   "execution_count": 1,
   "metadata": {},
   "outputs": [],
   "source": [
    "# %pip install riskparityportfolio\n",
    "# %pip install seaborn\n",
    "# %pip install Riskfolio-Lib\n",
    "# %pip install OptimalCluster"
   ]
  },
  {
   "cell_type": "markdown",
   "metadata": {},
   "source": [
    "## Import libraries"
   ]
  },
  {
   "cell_type": "code",
   "execution_count": 2,
   "metadata": {},
   "outputs": [],
   "source": [
    "import math\n",
    "import pandas as pd\n",
    "import numpy as np\n",
    "\n",
    "import os\n",
    "import csv\n",
    "\n",
    "import datetime\n",
    "import json\n",
    "from typing import List, Tuple\n",
    "\n",
    "import seaborn as sns\n",
    "import matplotlib.pyplot as plt\n",
    "import warnings\n",
    "\n",
    "warnings.filterwarnings(\"ignore\")"
   ]
  },
  {
   "cell_type": "code",
   "execution_count": 3,
   "metadata": {},
   "outputs": [
    {
     "name": "stdout",
     "output_type": "stream",
     "text": [
      "(CVXPY) Jun 11 02:05:40 PM: Encountered unexpected exception importing solver CPLEX:\n",
      "ImportError(\"dlopen(/Library/Frameworks/Python.framework/Versions/3.8/lib/python3.8/site-packages/cplex/_internal/py38_cplex2010.so, 0x0002): tried: '/Library/Frameworks/Python.framework/Versions/3.8/lib/python3.8/site-packages/cplex/_internal/py38_cplex2010.so' (mach-o file, but is an incompatible architecture (have 'x86_64', need 'arm64e' or 'arm64')), '/System/Volumes/Preboot/Cryptexes/OS/Library/Frameworks/Python.framework/Versions/3.8/lib/python3.8/site-packages/cplex/_internal/py38_cplex2010.so' (no such file), '/Library/Frameworks/Python.framework/Versions/3.8/lib/python3.8/site-packages/cplex/_internal/py38_cplex2010.so' (mach-o file, but is an incompatible architecture (have 'x86_64', need 'arm64e' or 'arm64'))\")\n",
      "(CVXPY) Jun 11 02:05:40 PM: Encountered unexpected exception importing solver CPLEX:\n",
      "ImportError(\"dlopen(/Library/Frameworks/Python.framework/Versions/3.8/lib/python3.8/site-packages/cplex/_internal/py38_cplex2010.so, 0x0002): tried: '/Library/Frameworks/Python.framework/Versions/3.8/lib/python3.8/site-packages/cplex/_internal/py38_cplex2010.so' (mach-o file, but is an incompatible architecture (have 'x86_64', need 'arm64e' or 'arm64')), '/System/Volumes/Preboot/Cryptexes/OS/Library/Frameworks/Python.framework/Versions/3.8/lib/python3.8/site-packages/cplex/_internal/py38_cplex2010.so' (no such file), '/Library/Frameworks/Python.framework/Versions/3.8/lib/python3.8/site-packages/cplex/_internal/py38_cplex2010.so' (mach-o file, but is an incompatible architecture (have 'x86_64', need 'arm64e' or 'arm64'))\")\n"
     ]
    }
   ],
   "source": [
    "from StocksReader import *\n",
    "from Stocks import *\n",
    "from Hoeffding import *\n",
    "from HCBAA import *\n",
    "from CCD import *\n",
    "from ComparisonMeasures import *"
   ]
  },
  {
   "cell_type": "markdown",
   "metadata": {},
   "source": [
    "## Experiments"
   ]
  },
  {
   "cell_type": "code",
   "execution_count": 4,
   "metadata": {},
   "outputs": [],
   "source": [
    "def get_profitability_portfolio_one_day(weights, stocks_perfomance):\n",
    "    if len(stocks_perfomance[0].dates) == 7:\n",
    "        N = 7\n",
    "    else:\n",
    "        N = len(stocks_perfomance[0].dates)\n",
    "    profitability_portfolio = []\n",
    "    for day in np.arange(N):\n",
    "        prof = 0\n",
    "        for stock in stocks_perfomance:\n",
    "            prof += stock.returns.iloc[day]*weights[stock.id_]\n",
    "        profitability_portfolio.append(prof)\n",
    "    return sum(profitability_portfolio)\n",
    "\n",
    "def get_prof(resulting_portfolios, stocks_perfomance):\n",
    "    returns = {}\n",
    "    for portfolio in resulting_portfolios:\n",
    "        returns[portfolio] = get_profitability_portfolio_one_day(resulting_portfolios[portfolio], stocks_perfomance)\n",
    "    return returns\n",
    "\n",
    "def get_risk(weights, covariance_matrix):\n",
    "    risks = {}\n",
    "    for name_portfolio in weights:\n",
    "        risks[name_portfolio] = math.sqrt(np.transpose(weights[name_portfolio]).dot(covariance_matrix).dot(weights[name_portfolio]))\n",
    "    return risks"
   ]
  },
  {
   "cell_type": "code",
   "execution_count": null,
   "metadata": {},
   "outputs": [],
   "source": [
    "window_size = 252\n",
    "\n",
    "start_date = \"2020-01-01\"\n",
    "end_date =   '2023-12-31'\n",
    "\n",
    "switch = 10\n",
    "\n",
    "single, complete, average, ward, DBHT  = [], [], [], [], []\n",
    "MV, MDP, ERC, IVRB  = [], [], [], []\n",
    "EW = []\n",
    "\n",
    "\n",
    "ReaderData = ReaderStocksData(\"../Russia\")\n",
    "# ReaderData = ReaderStocksDatayfinance(\"../South Africa\")\n",
    "\n",
    "DATA_OF_STOCKS_FOR_BUILDING_MODEL, _ , TICKERS = ReaderData.load_data(str(start_date), str(end_date))\n",
    "# DATA_OF_STOCKS_FOR_BUILDING_MODEL = DATA_OF_STOCKS_FOR_BUILDING_MODEL[:switch]\n",
    "# TICKERS = TICKERS[:switch]\n",
    "\n",
    "balanced_portfolio = {'balance': [1/len(DATA_OF_STOCKS_FOR_BUILDING_MODEL) for i in range(len(DATA_OF_STOCKS_FOR_BUILDING_MODEL))]}\n",
    "\n",
    "for i in range(0, len(DATA_OF_STOCKS_FOR_BUILDING_MODEL[0].returns) - window_size - 7, 7):\n",
    "    print('============================================================')\n",
    "    print(i, ' - ' ,i + window_size, ' ->', i+window_size + 7)\n",
    "\n",
    "\n",
    "    DATA_OF_STOCKS_FOR_BUILDING_MODEL, _ , TICKERS = ReaderData.load_data(str(start_date), str(end_date))\n",
    "    # DATA_OF_STOCKS_FOR_BUILDING_MODEL = DATA_OF_STOCKS_FOR_BUILDING_MODEL[:switch]\n",
    "    # TICKERS = TICKERS[:switch]\n",
    "\n",
    "    for stock in DATA_OF_STOCKS_FOR_BUILDING_MODEL:\n",
    "        stock.dates = stock.dates[i : i+window_size]\n",
    "        stock.returns =  stock.returns[ i : i+window_size]\n",
    "    \n",
    "    portfolio_cluster = HCBAA(DATA_OF_STOCKS_FOR_BUILDING_MODEL, TICKERS)\n",
    "    portfolios_on_clustering = portfolio_cluster.HCBAA_portfolios()\n",
    "\n",
    "    portfolios_optimization = CCD(DATA_OF_STOCKS_FOR_BUILDING_MODEL, TICKERS)\n",
    "    portfolios_tradition = portfolios_optimization.RiskBudgetingPortfolios()\n",
    "\n",
    "    DATA_OF_STOCKS_FOR_BUILDING_MODEL, _ , TICKERS = ReaderData.load_data(str(start_date), str(end_date))\n",
    "    # DATA_OF_STOCKS_FOR_BUILDING_MODEL = DATA_OF_STOCKS_FOR_BUILDING_MODEL[:switch]\n",
    "    # TICKERS = TICKERS[:switch]\n",
    "\n",
    "    for stock in DATA_OF_STOCKS_FOR_BUILDING_MODEL:\n",
    "        stock.dates = stock.dates[i+window_size : i+window_size + 7]\n",
    "        stock.returns =  stock.returns[i+window_size : i+window_size + 7]\n",
    "    \n",
    "    \n",
    "    returns_clustering = get_prof(portfolios_on_clustering, DATA_OF_STOCKS_FOR_BUILDING_MODEL)\n",
    "    risk_clustering = get_risk(portfolios_on_clustering, portfolio_cluster.covariance_matrix)\n",
    "\n",
    "    returns_tradition = get_prof(portfolios_tradition, DATA_OF_STOCKS_FOR_BUILDING_MODEL)\n",
    "    risk_tradition = get_risk(portfolios_tradition, portfolios_optimization.covariance_matrix)\n",
    "\n",
    "    returns_balances = get_prof(balanced_portfolio, DATA_OF_STOCKS_FOR_BUILDING_MODEL)\n",
    "    risk_balances = get_risk(balanced_portfolio, portfolio_cluster.covariance_matrix)\n",
    "\n",
    "    print('======================== доходности ========================')\n",
    "    print(returns_clustering)\n",
    "    print(returns_tradition)\n",
    "    print(returns_balances)\n",
    "    print('========================== риск ===========================')\n",
    "    print(risk_clustering)\n",
    "    print(risk_tradition)\n",
    "    print(risk_balances)\n",
    "\n",
    "    single.append((returns_clustering['single'], portfolios_on_clustering['single'], risk_clustering['single']))\n",
    "    complete.append((returns_clustering['complete'], portfolios_on_clustering['complete'], risk_clustering['complete']))\n",
    "    average.append((returns_clustering['average'], portfolios_on_clustering['average'], risk_clustering['average']))\n",
    "    ward.append((returns_clustering['ward'], portfolios_on_clustering['ward'], risk_clustering['ward']))\n",
    "    DBHT.append((returns_clustering['DBHT'], portfolios_on_clustering['DBHT'], risk_clustering['DBHT']))\n",
    "\n",
    "    MV.append((returns_tradition['MV'], portfolios_tradition['MV'], risk_tradition['MV']))\n",
    "    MDP.append((returns_tradition['MDP'], portfolios_tradition['MDP'], risk_tradition['MDP']))\n",
    "    ERC.append((returns_tradition['ERC'], portfolios_tradition['ERC'], risk_tradition['ERC']))\n",
    "    IVRB.append((returns_tradition['IVRB'], portfolios_tradition['IVRB'], risk_tradition['IVRB']))\n",
    "\n",
    "    EW.append((returns_balances['balance'], balanced_portfolio['balance'], risk_balances['balance']))\n",
    "    "
   ]
  },
  {
   "cell_type": "markdown",
   "metadata": {},
   "source": [
    "## Metrics"
   ]
  },
  {
   "cell_type": "code",
   "execution_count": 6,
   "metadata": {},
   "outputs": [],
   "source": [
    "Comparison_Measures = ComparisonMeasures()\n",
    "list_file  = [single, complete, average, ward, DBHT, MV, MDP, ERC, IVRB, EW]\n",
    "list_file_name = ['single', 'complete', 'average', 'ward', 'DBHT', 'MV', 'MDP', 'ERC', 'IVRB', 'EW']\n",
    "\n",
    "results_metric = {}\n",
    "for res in range(len(list_file)):\n",
    "  results_metric[list_file_name[res]] = Comparison_Measures.get_metric(list_file[res])\n",
    "\n",
    "results_metric = pd.DataFrame(results_metric).T"
   ]
  },
  {
   "cell_type": "code",
   "execution_count": null,
   "metadata": {},
   "outputs": [],
   "source": [
    "results_metric"
   ]
  },
  {
   "cell_type": "markdown",
   "metadata": {},
   "source": [
    "## Graphs"
   ]
  },
  {
   "cell_type": "code",
   "execution_count": 8,
   "metadata": {},
   "outputs": [],
   "source": [
    "returns_portfolios = {}\n",
    "risks_portfolios = {}\n",
    "for res in range(len(list_file)):\n",
    "  returns_portfolios[list_file_name[res]] = [t[0] for t in list_file[res]]\n",
    "  risks_portfolios[list_file_name[res]] = [t[2] for t in list_file[res]]"
   ]
  },
  {
   "cell_type": "code",
   "execution_count": null,
   "metadata": {},
   "outputs": [],
   "source": [
    "plt.figure(figsize=(10, 6))\n",
    "\n",
    "colors = plt.cm.Paired(np.linspace(0, 1, len(list(returns_portfolios.keys()))))\n",
    "for (key, values), color in zip(returns_portfolios.items(), colors):\n",
    "    plt.plot(values,  linestyle='-', label = key, color = color)\n",
    "\n",
    "plt.legend()\n",
    "plt.title('Доходности портфелей')\n",
    "plt.xlabel('время')\n",
    "plt.ylabel('доходность')\n",
    "plt.grid(True)\n",
    "plt.show()"
   ]
  },
  {
   "cell_type": "code",
   "execution_count": null,
   "metadata": {},
   "outputs": [],
   "source": [
    "plt.figure(figsize=(10, 6))\n",
    "colors = plt.cm.Paired(np.linspace(0, 1, len(list(risks_portfolios.keys()))))\n",
    "for (key, values), color in zip(risks_portfolios.items(), colors):\n",
    "    plt.plot(values,  linestyle='-', label = key, color = color)\n",
    "\n",
    "\n",
    "\n",
    "plt.legend()\n",
    "plt.title('Риск портфелей')\n",
    "plt.xlabel('время')\n",
    "plt.ylabel('риск')\n",
    "plt.grid(True)\n",
    "plt.show()"
   ]
  },
  {
   "cell_type": "code",
   "execution_count": null,
   "metadata": {},
   "outputs": [],
   "source": [
    "fig, axs = plt.subplots(5, 2, figsize=(20, 10))\n",
    "for i, key  in enumerate(risks_portfolios.keys()):\n",
    "\n",
    "    row = i // 2\n",
    "    col = i % 2\n",
    "    \n",
    "\n",
    "    axs[row, col].plot(returns_portfolios[key], linestyle='-', label='доходность', color='green')\n",
    "    axs[row, col].plot(risks_portfolios[key], linestyle='-', label='риск', color='red')\n",
    "    \n",
    "\n",
    "    axs[row, col].legend()\n",
    "    \n",
    "\n",
    "    axs[row, col].set_title(f'График портфеля {key}')\n",
    "    axs[row, col].set_xlabel('Время')\n",
    "    axs[row, col].set_ylabel('Доходность/Риск')\n",
    "    \n",
    "\n",
    "    axs[row, col].grid(True)\n",
    "\n",
    "\n",
    "fig.suptitle('Дохоность/Риск портфелей', fontsize=16)\n",
    "\n",
    "plt.tight_layout()\n",
    "plt.show()\n"
   ]
  }
 ],
 "metadata": {
  "kernelspec": {
   "display_name": "Python 3",
   "language": "python",
   "name": "python3"
  },
  "language_info": {
   "codemirror_mode": {
    "name": "ipython",
    "version": 3
   },
   "file_extension": ".py",
   "mimetype": "text/x-python",
   "name": "python",
   "nbconvert_exporter": "python",
   "pygments_lexer": "ipython3",
   "version": "3.8.10"
  }
 },
 "nbformat": 4,
 "nbformat_minor": 2
}
